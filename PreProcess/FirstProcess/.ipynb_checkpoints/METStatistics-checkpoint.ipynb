{
 "cells": [
  {
   "cell_type": "code",
   "execution_count": 6,
   "id": "7eba5c45-5ce6-4e75-a8d8-f3b15628a28e",
   "metadata": {},
   "outputs": [
    {
     "name": "stdout",
     "output_type": "stream",
     "text": [
      "确保输出目录 '/Users/annfengdeye/Desktop/4.19/B题-全部数据/TrainingSet' 存在或已创建。\n",
      "在目录 '/Users/annfengdeye/Desktop/4.19/B题-全部数据/附件1' 中找到 100 个待处理的文件 (已排序):\n",
      "  - P001.csv\n",
      "  - P002.csv\n",
      "  - P003.csv\n",
      "  - P004.csv\n",
      "  - P005.csv\n",
      "  - P006.csv\n",
      "  - P007.csv\n",
      "  - P008.csv\n",
      "  - P009.csv\n",
      "  - P010.csv\n",
      "  - P011.csv\n",
      "  - P012.csv\n",
      "  - P013.csv\n",
      "  - P014.csv\n",
      "  - P015.csv\n",
      "  - P016.csv\n",
      "  - P017.csv\n",
      "  - P018.csv\n",
      "  - P019.csv\n",
      "  - P020.csv\n",
      "  - P021.csv\n",
      "  - P022.csv\n",
      "  - P023.csv\n",
      "  - P024.csv\n",
      "  - P025.csv\n",
      "  - P026.csv\n",
      "  - P027.csv\n",
      "  - P028.csv\n",
      "  - P029.csv\n",
      "  - P030.csv\n",
      "  - P031.csv\n",
      "  - P032.csv\n",
      "  - P033.csv\n",
      "  - P034.csv\n",
      "  - P035.csv\n",
      "  - P036.csv\n",
      "  - P037.csv\n",
      "  - P038.csv\n",
      "  - P039.csv\n",
      "  - P040.csv\n",
      "  - P041.csv\n",
      "  - P042.csv\n",
      "  - P043.csv\n",
      "  - P044.csv\n",
      "  - P045.csv\n",
      "  - P046.csv\n",
      "  - P047.csv\n",
      "  - P048.csv\n",
      "  - P049.csv\n",
      "  - P050.csv\n",
      "  - P051.csv\n",
      "  - P052.csv\n",
      "  - P053.csv\n",
      "  - P054.csv\n",
      "  - P055.csv\n",
      "  - P056.csv\n",
      "  - P057.csv\n",
      "  - P058.csv\n",
      "  - P059.csv\n",
      "  - P060.csv\n",
      "  - P061.csv\n",
      "  - P062.csv\n",
      "  - P063.csv\n",
      "  - P064.csv\n",
      "  - P065.csv\n",
      "  - P066.csv\n",
      "  - P067.csv\n",
      "  - P068.csv\n",
      "  - P069.csv\n",
      "  - P070.csv\n",
      "  - P071.csv\n",
      "  - P072.csv\n",
      "  - P073.csv\n",
      "  - P074.csv\n",
      "  - P075.csv\n",
      "  - P076.csv\n",
      "  - P077.csv\n",
      "  - P078.csv\n",
      "  - P079.csv\n",
      "  - P080.csv\n",
      "  - P081.csv\n",
      "  - P082.csv\n",
      "  - P083.csv\n",
      "  - P084.csv\n",
      "  - P085.csv\n",
      "  - P086.csv\n",
      "  - P087.csv\n",
      "  - P088.csv\n",
      "  - P089.csv\n",
      "  - P090.csv\n",
      "  - P091.csv\n",
      "  - P092.csv\n",
      "  - P093.csv\n",
      "  - P094.csv\n",
      "  - P095.csv\n",
      "  - P096.csv\n",
      "  - P097.csv\n",
      "  - P098.csv\n",
      "  - P099.csv\n",
      "  - P100.csv\n",
      "----------------------------------------\n",
      "\n",
      ">>> 开始处理文件: P001.csv <<<\n",
      "\n",
      "--- 开始预处理文件: /Users/annfengdeye/Desktop/4.19/B题-全部数据/附件1/P001.csv ---\n"
     ]
    },
    {
     "name": "stderr",
     "output_type": "stream",
     "text": [
      "/var/folders/n7/h8vtfbcn3cn8b86gk1fgql700000gn/T/ipykernel_11276/62236121.py:33: DtypeWarning: Columns (4) have mixed types. Specify dtype option on import or set low_memory=False.\n",
      "  df = pd.read_csv(input_csv_path, dtype={'time': str})\n"
     ]
    },
    {
     "name": "stdout",
     "output_type": "stream",
     "text": [
      "成功从 /Users/annfengdeye/Desktop/4.19/B题-全部数据/附件1/P001.csv 读取 10680001 行数据\n",
      "正在处理 'time' 列 (使用完整日期时间进行计算)...\n",
      "因时间间隔不一致、格式错误或无法填充的间隙，丢弃了 0 行数据。\n",
      "正在处理 'x', 'y', 'z' 列...\n",
      "填充前 'x' 列的空值数量: 0\n",
      "填充前 'y' 列的空值数量: 0\n",
      "填充前 'z' 列的空值数量: 0\n",
      "正在计算并添加 'magnitude' 列...\n",
      "正在去除连续重复的 'x', 'y', 'z' 行...\n",
      "因 x, y, z 值与上一行连续相同，去除了 4204691 行重复数据。\n",
      "正在处理 'annotation' 列...\n",
      "将因'annotation'列为空或无法提取MET值而丢弃的行数: 1025526\n",
      "已丢弃 1025526 行 'annotation' (MET) 为空或无效的数据。\n",
      "最终格式化 'time' 列为 HH:MM:SS.ffffff ...\n",
      "当前剩余有效数据行数: 5449784\n",
      "最终数据列: ['time', 'x', 'y', 'z', 'magnitude', 'annotation']\n",
      "正在将处理后的数据保存到: ./../TrainingSet/P001.csv\n",
      "--- 文件 P001.csv 预处理完成。 ---\n",
      "----------------------------------------\n",
      "\n",
      ">>> 开始处理文件: P002.csv <<<\n",
      "\n",
      "--- 开始预处理文件: /Users/annfengdeye/Desktop/4.19/B题-全部数据/附件1/P002.csv ---\n"
     ]
    },
    {
     "name": "stderr",
     "output_type": "stream",
     "text": [
      "/var/folders/n7/h8vtfbcn3cn8b86gk1fgql700000gn/T/ipykernel_11276/62236121.py:33: DtypeWarning: Columns (4) have mixed types. Specify dtype option on import or set low_memory=False.\n",
      "  df = pd.read_csv(input_csv_path, dtype={'time': str})\n"
     ]
    },
    {
     "name": "stdout",
     "output_type": "stream",
     "text": [
      "成功从 /Users/annfengdeye/Desktop/4.19/B题-全部数据/附件1/P002.csv 读取 9390001 行数据\n",
      "正在处理 'time' 列 (使用完整日期时间进行计算)...\n",
      "因时间间隔不一致、格式错误或无法填充的间隙，丢弃了 0 行数据。\n",
      "正在处理 'x', 'y', 'z' 列...\n",
      "填充前 'x' 列的空值数量: 0\n",
      "填充前 'y' 列的空值数量: 0\n",
      "填充前 'z' 列的空值数量: 0\n",
      "正在计算并添加 'magnitude' 列...\n",
      "正在去除连续重复的 'x', 'y', 'z' 行...\n",
      "因 x, y, z 值与上一行连续相同，去除了 3375347 行重复数据。\n",
      "正在处理 'annotation' 列...\n",
      "将因'annotation'列为空或无法提取MET值而丢弃的行数: 2397863\n",
      "已丢弃 2397863 行 'annotation' (MET) 为空或无效的数据。\n",
      "最终格式化 'time' 列为 HH:MM:SS.ffffff ...\n",
      "当前剩余有效数据行数: 3616791\n",
      "最终数据列: ['time', 'x', 'y', 'z', 'magnitude', 'annotation']\n",
      "正在将处理后的数据保存到: ./../TrainingSet/P002.csv\n",
      "--- 文件 P002.csv 预处理完成。 ---\n",
      "----------------------------------------\n",
      "\n",
      ">>> 开始处理文件: P003.csv <<<\n",
      "\n",
      "--- 开始预处理文件: /Users/annfengdeye/Desktop/4.19/B题-全部数据/附件1/P003.csv ---\n"
     ]
    },
    {
     "name": "stderr",
     "output_type": "stream",
     "text": [
      "/var/folders/n7/h8vtfbcn3cn8b86gk1fgql700000gn/T/ipykernel_11276/62236121.py:33: DtypeWarning: Columns (4) have mixed types. Specify dtype option on import or set low_memory=False.\n",
      "  df = pd.read_csv(input_csv_path, dtype={'time': str})\n"
     ]
    },
    {
     "name": "stdout",
     "output_type": "stream",
     "text": [
      "成功从 /Users/annfengdeye/Desktop/4.19/B题-全部数据/附件1/P003.csv 读取 9780001 行数据\n",
      "正在处理 'time' 列 (使用完整日期时间进行计算)...\n",
      "因时间间隔不一致、格式错误或无法填充的间隙，丢弃了 0 行数据。\n",
      "正在处理 'x', 'y', 'z' 列...\n",
      "填充前 'x' 列的空值数量: 0\n",
      "填充前 'y' 列的空值数量: 0\n",
      "填充前 'z' 列的空值数量: 0\n",
      "正在计算并添加 'magnitude' 列...\n",
      "正在去除连续重复的 'x', 'y', 'z' 行...\n",
      "因 x, y, z 值与上一行连续相同，去除了 2810370 行重复数据。\n",
      "正在处理 'annotation' 列...\n",
      "将因'annotation'列为空或无法提取MET值而丢弃的行数: 1499776\n",
      "已丢弃 1499776 行 'annotation' (MET) 为空或无效的数据。\n",
      "最终格式化 'time' 列为 HH:MM:SS.ffffff ...\n",
      "当前剩余有效数据行数: 5469855\n",
      "最终数据列: ['time', 'x', 'y', 'z', 'magnitude', 'annotation']\n",
      "正在将处理后的数据保存到: ./../TrainingSet/P003.csv\n",
      "--- 文件 P003.csv 预处理完成。 ---\n",
      "----------------------------------------\n",
      "\n",
      ">>> 开始处理文件: P004.csv <<<\n",
      "\n",
      "--- 开始预处理文件: /Users/annfengdeye/Desktop/4.19/B题-全部数据/附件1/P004.csv ---\n"
     ]
    },
    {
     "name": "stderr",
     "output_type": "stream",
     "text": [
      "/var/folders/n7/h8vtfbcn3cn8b86gk1fgql700000gn/T/ipykernel_11276/62236121.py:33: DtypeWarning: Columns (4) have mixed types. Specify dtype option on import or set low_memory=False.\n",
      "  df = pd.read_csv(input_csv_path, dtype={'time': str})\n"
     ]
    },
    {
     "name": "stdout",
     "output_type": "stream",
     "text": [
      "成功从 /Users/annfengdeye/Desktop/4.19/B题-全部数据/附件1/P004.csv 读取 9720001 行数据\n",
      "正在处理 'time' 列 (使用完整日期时间进行计算)...\n",
      "因时间间隔不一致、格式错误或无法填充的间隙，丢弃了 1 行数据。\n",
      "正在处理 'x', 'y', 'z' 列...\n",
      "填充前 'x' 列的空值数量: 0\n",
      "填充前 'y' 列的空值数量: 0\n",
      "填充前 'z' 列的空值数量: 0\n",
      "正在计算并添加 'magnitude' 列...\n",
      "正在去除连续重复的 'x', 'y', 'z' 行...\n",
      "因 x, y, z 值与上一行连续相同，去除了 3780897 行重复数据。\n",
      "正在处理 'annotation' 列...\n",
      "将因'annotation'列为空或无法提取MET值而丢弃的行数: 1520895\n",
      "已丢弃 1520895 行 'annotation' (MET) 为空或无效的数据。\n",
      "最终格式化 'time' 列为 HH:MM:SS.ffffff ...\n",
      "当前剩余有效数据行数: 4418208\n",
      "最终数据列: ['time', 'x', 'y', 'z', 'magnitude', 'annotation']\n",
      "正在将处理后的数据保存到: ./../TrainingSet/P004.csv\n",
      "--- 文件 P004.csv 预处理完成。 ---\n",
      "----------------------------------------\n",
      "\n",
      ">>> 开始处理文件: P005.csv <<<\n",
      "\n",
      "--- 开始预处理文件: /Users/annfengdeye/Desktop/4.19/B题-全部数据/附件1/P005.csv ---\n"
     ]
    },
    {
     "name": "stderr",
     "output_type": "stream",
     "text": [
      "/var/folders/n7/h8vtfbcn3cn8b86gk1fgql700000gn/T/ipykernel_11276/62236121.py:33: DtypeWarning: Columns (4) have mixed types. Specify dtype option on import or set low_memory=False.\n",
      "  df = pd.read_csv(input_csv_path, dtype={'time': str})\n"
     ]
    },
    {
     "name": "stdout",
     "output_type": "stream",
     "text": [
      "成功从 /Users/annfengdeye/Desktop/4.19/B题-全部数据/附件1/P005.csv 读取 9000001 行数据\n",
      "正在处理 'time' 列 (使用完整日期时间进行计算)...\n",
      "因时间间隔不一致、格式错误或无法填充的间隙，丢弃了 0 行数据。\n",
      "正在处理 'x', 'y', 'z' 列...\n",
      "填充前 'x' 列的空值数量: 0\n",
      "填充前 'y' 列的空值数量: 0\n",
      "填充前 'z' 列的空值数量: 0\n",
      "正在计算并添加 'magnitude' 列...\n",
      "正在去除连续重复的 'x', 'y', 'z' 行...\n",
      "因 x, y, z 值与上一行连续相同，去除了 2710665 行重复数据。\n",
      "正在处理 'annotation' 列...\n",
      "将因'annotation'列为空或无法提取MET值而丢弃的行数: 1933368\n",
      "已丢弃 1933368 行 'annotation' (MET) 为空或无效的数据。\n",
      "最终格式化 'time' 列为 HH:MM:SS.ffffff ...\n",
      "当前剩余有效数据行数: 4355968\n",
      "最终数据列: ['time', 'x', 'y', 'z', 'magnitude', 'annotation']\n",
      "正在将处理后的数据保存到: ./../TrainingSet/P005.csv\n",
      "--- 文件 P005.csv 预处理完成。 ---\n",
      "----------------------------------------\n",
      "\n",
      ">>> 开始处理文件: P006.csv <<<\n",
      "\n",
      "--- 开始预处理文件: /Users/annfengdeye/Desktop/4.19/B题-全部数据/附件1/P006.csv ---\n"
     ]
    },
    {
     "name": "stderr",
     "output_type": "stream",
     "text": [
      "/var/folders/n7/h8vtfbcn3cn8b86gk1fgql700000gn/T/ipykernel_11276/62236121.py:33: DtypeWarning: Columns (4) have mixed types. Specify dtype option on import or set low_memory=False.\n",
      "  df = pd.read_csv(input_csv_path, dtype={'time': str})\n"
     ]
    },
    {
     "name": "stdout",
     "output_type": "stream",
     "text": [
      "成功从 /Users/annfengdeye/Desktop/4.19/B题-全部数据/附件1/P006.csv 读取 9180001 行数据\n",
      "正在处理 'time' 列 (使用完整日期时间进行计算)...\n",
      "因时间间隔不一致、格式错误或无法填充的间隙，丢弃了 0 行数据。\n",
      "正在处理 'x', 'y', 'z' 列...\n",
      "填充前 'x' 列的空值数量: 0\n",
      "填充前 'y' 列的空值数量: 0\n",
      "填充前 'z' 列的空值数量: 0\n",
      "正在计算并添加 'magnitude' 列...\n",
      "正在去除连续重复的 'x', 'y', 'z' 行...\n",
      "因 x, y, z 值与上一行连续相同，去除了 2837972 行重复数据。\n",
      "正在处理 'annotation' 列...\n",
      "将因'annotation'列为空或无法提取MET值而丢弃的行数: 2327694\n",
      "已丢弃 2327694 行 'annotation' (MET) 为空或无效的数据。\n",
      "最终格式化 'time' 列为 HH:MM:SS.ffffff ...\n",
      "当前剩余有效数据行数: 4014335\n",
      "最终数据列: ['time', 'x', 'y', 'z', 'magnitude', 'annotation']\n",
      "正在将处理后的数据保存到: ./../TrainingSet/P006.csv\n",
      "--- 文件 P006.csv 预处理完成。 ---\n",
      "----------------------------------------\n",
      "\n",
      ">>> 开始处理文件: P007.csv <<<\n",
      "\n",
      "--- 开始预处理文件: /Users/annfengdeye/Desktop/4.19/B题-全部数据/附件1/P007.csv ---\n"
     ]
    },
    {
     "name": "stderr",
     "output_type": "stream",
     "text": [
      "/var/folders/n7/h8vtfbcn3cn8b86gk1fgql700000gn/T/ipykernel_11276/62236121.py:33: DtypeWarning: Columns (4) have mixed types. Specify dtype option on import or set low_memory=False.\n",
      "  df = pd.read_csv(input_csv_path, dtype={'time': str})\n"
     ]
    },
    {
     "name": "stdout",
     "output_type": "stream",
     "text": [
      "成功从 /Users/annfengdeye/Desktop/4.19/B题-全部数据/附件1/P007.csv 读取 10530001 行数据\n",
      "正在处理 'time' 列 (使用完整日期时间进行计算)...\n",
      "因时间间隔不一致、格式错误或无法填充的间隙，丢弃了 0 行数据。\n",
      "正在处理 'x', 'y', 'z' 列...\n",
      "填充前 'x' 列的空值数量: 0\n",
      "填充前 'y' 列的空值数量: 0\n",
      "填充前 'z' 列的空值数量: 0\n",
      "正在计算并添加 'magnitude' 列...\n",
      "正在去除连续重复的 'x', 'y', 'z' 行...\n",
      "因 x, y, z 值与上一行连续相同，去除了 3472475 行重复数据。\n",
      "正在处理 'annotation' 列...\n",
      "将因'annotation'列为空或无法提取MET值而丢弃的行数: 1986612\n",
      "已丢弃 1986612 行 'annotation' (MET) 为空或无效的数据。\n",
      "最终格式化 'time' 列为 HH:MM:SS.ffffff ...\n",
      "当前剩余有效数据行数: 5070914\n",
      "最终数据列: ['time', 'x', 'y', 'z', 'magnitude', 'annotation']\n",
      "正在将处理后的数据保存到: ./../TrainingSet/P007.csv\n",
      "--- 文件 P007.csv 预处理完成。 ---\n",
      "----------------------------------------\n",
      "\n",
      ">>> 开始处理文件: P008.csv <<<\n",
      "\n",
      "--- 开始预处理文件: /Users/annfengdeye/Desktop/4.19/B题-全部数据/附件1/P008.csv ---\n"
     ]
    },
    {
     "name": "stderr",
     "output_type": "stream",
     "text": [
      "/var/folders/n7/h8vtfbcn3cn8b86gk1fgql700000gn/T/ipykernel_11276/62236121.py:33: DtypeWarning: Columns (4) have mixed types. Specify dtype option on import or set low_memory=False.\n",
      "  df = pd.read_csv(input_csv_path, dtype={'time': str})\n"
     ]
    },
    {
     "name": "stdout",
     "output_type": "stream",
     "text": [
      "成功从 /Users/annfengdeye/Desktop/4.19/B题-全部数据/附件1/P008.csv 读取 10242001 行数据\n",
      "正在处理 'time' 列 (使用完整日期时间进行计算)...\n",
      "因时间间隔不一致、格式错误或无法填充的间隙，丢弃了 0 行数据。\n",
      "正在处理 'x', 'y', 'z' 列...\n",
      "填充前 'x' 列的空值数量: 0\n",
      "填充前 'y' 列的空值数量: 0\n",
      "填充前 'z' 列的空值数量: 0\n",
      "正在计算并添加 'magnitude' 列...\n",
      "正在去除连续重复的 'x', 'y', 'z' 行...\n",
      "因 x, y, z 值与上一行连续相同，去除了 3572654 行重复数据。\n",
      "正在处理 'annotation' 列...\n",
      "将因'annotation'列为空或无法提取MET值而丢弃的行数: 2369504\n",
      "已丢弃 2369504 行 'annotation' (MET) 为空或无效的数据。\n",
      "最终格式化 'time' 列为 HH:MM:SS.ffffff ...\n",
      "当前剩余有效数据行数: 4299843\n",
      "最终数据列: ['time', 'x', 'y', 'z', 'magnitude', 'annotation']\n",
      "正在将处理后的数据保存到: ./../TrainingSet/P008.csv\n",
      "--- 文件 P008.csv 预处理完成。 ---\n",
      "----------------------------------------\n",
      "\n",
      ">>> 开始处理文件: P009.csv <<<\n",
      "\n",
      "--- 开始预处理文件: /Users/annfengdeye/Desktop/4.19/B题-全部数据/附件1/P009.csv ---\n"
     ]
    },
    {
     "name": "stderr",
     "output_type": "stream",
     "text": [
      "/var/folders/n7/h8vtfbcn3cn8b86gk1fgql700000gn/T/ipykernel_11276/62236121.py:33: DtypeWarning: Columns (4) have mixed types. Specify dtype option on import or set low_memory=False.\n",
      "  df = pd.read_csv(input_csv_path, dtype={'time': str})\n"
     ]
    },
    {
     "name": "stdout",
     "output_type": "stream",
     "text": [
      "成功从 /Users/annfengdeye/Desktop/4.19/B题-全部数据/附件1/P009.csv 读取 9720001 行数据\n",
      "正在处理 'time' 列 (使用完整日期时间进行计算)...\n",
      "因时间间隔不一致、格式错误或无法填充的间隙，丢弃了 0 行数据。\n",
      "正在处理 'x', 'y', 'z' 列...\n",
      "填充前 'x' 列的空值数量: 0\n",
      "填充前 'y' 列的空值数量: 0\n",
      "填充前 'z' 列的空值数量: 0\n",
      "正在计算并添加 'magnitude' 列...\n",
      "正在去除连续重复的 'x', 'y', 'z' 行...\n",
      "因 x, y, z 值与上一行连续相同，去除了 3875458 行重复数据。\n",
      "正在处理 'annotation' 列...\n",
      "将因'annotation'列为空或无法提取MET值而丢弃的行数: 4076494\n",
      "已丢弃 4076494 行 'annotation' (MET) 为空或无效的数据。\n",
      "最终格式化 'time' 列为 HH:MM:SS.ffffff ...\n",
      "当前剩余有效数据行数: 1768049\n",
      "最终数据列: ['time', 'x', 'y', 'z', 'magnitude', 'annotation']\n",
      "正在将处理后的数据保存到: ./../TrainingSet/P009.csv\n",
      "--- 文件 P009.csv 预处理完成。 ---\n",
      "----------------------------------------\n",
      "\n",
      ">>> 开始处理文件: P010.csv <<<\n",
      "\n",
      "--- 开始预处理文件: /Users/annfengdeye/Desktop/4.19/B题-全部数据/附件1/P010.csv ---\n"
     ]
    },
    {
     "name": "stderr",
     "output_type": "stream",
     "text": [
      "/var/folders/n7/h8vtfbcn3cn8b86gk1fgql700000gn/T/ipykernel_11276/62236121.py:33: DtypeWarning: Columns (4) have mixed types. Specify dtype option on import or set low_memory=False.\n",
      "  df = pd.read_csv(input_csv_path, dtype={'time': str})\n"
     ]
    },
    {
     "name": "stdout",
     "output_type": "stream",
     "text": [
      "成功从 /Users/annfengdeye/Desktop/4.19/B题-全部数据/附件1/P010.csv 读取 9540001 行数据\n",
      "正在处理 'time' 列 (使用完整日期时间进行计算)...\n",
      "因时间间隔不一致、格式错误或无法填充的间隙，丢弃了 0 行数据。\n",
      "正在处理 'x', 'y', 'z' 列...\n",
      "填充前 'x' 列的空值数量: 0\n",
      "填充前 'y' 列的空值数量: 0\n",
      "填充前 'z' 列的空值数量: 0\n",
      "正在计算并添加 'magnitude' 列...\n",
      "正在去除连续重复的 'x', 'y', 'z' 行...\n",
      "因 x, y, z 值与上一行连续相同，去除了 3242583 行重复数据。\n",
      "正在处理 'annotation' 列...\n",
      "将因'annotation'列为空或无法提取MET值而丢弃的行数: 1790418\n",
      "已丢弃 1790418 行 'annotation' (MET) 为空或无效的数据。\n",
      "最终格式化 'time' 列为 HH:MM:SS.ffffff ...\n",
      "当前剩余有效数据行数: 4507000\n",
      "最终数据列: ['time', 'x', 'y', 'z', 'magnitude', 'annotation']\n",
      "正在将处理后的数据保存到: ./../TrainingSet/P010.csv\n",
      "--- 文件 P010.csv 预处理完成。 ---\n",
      "----------------------------------------\n",
      "\n",
      ">>> 开始处理文件: P011.csv <<<\n",
      "\n",
      "--- 开始预处理文件: /Users/annfengdeye/Desktop/4.19/B题-全部数据/附件1/P011.csv ---\n"
     ]
    },
    {
     "name": "stderr",
     "output_type": "stream",
     "text": [
      "/var/folders/n7/h8vtfbcn3cn8b86gk1fgql700000gn/T/ipykernel_11276/62236121.py:33: DtypeWarning: Columns (4) have mixed types. Specify dtype option on import or set low_memory=False.\n",
      "  df = pd.read_csv(input_csv_path, dtype={'time': str})\n"
     ]
    },
    {
     "name": "stdout",
     "output_type": "stream",
     "text": [
      "成功从 /Users/annfengdeye/Desktop/4.19/B题-全部数据/附件1/P011.csv 读取 9900001 行数据\n",
      "正在处理 'time' 列 (使用完整日期时间进行计算)...\n",
      "因时间间隔不一致、格式错误或无法填充的间隙，丢弃了 0 行数据。\n",
      "正在处理 'x', 'y', 'z' 列...\n",
      "填充前 'x' 列的空值数量: 0\n",
      "填充前 'y' 列的空值数量: 0\n",
      "填充前 'z' 列的空值数量: 0\n",
      "正在计算并添加 'magnitude' 列...\n",
      "正在去除连续重复的 'x', 'y', 'z' 行...\n",
      "因 x, y, z 值与上一行连续相同，去除了 3628542 行重复数据。\n",
      "正在处理 'annotation' 列...\n",
      "将因'annotation'列为空或无法提取MET值而丢弃的行数: 3290352\n",
      "已丢弃 3290352 行 'annotation' (MET) 为空或无效的数据。\n",
      "最终格式化 'time' 列为 HH:MM:SS.ffffff ...\n",
      "当前剩余有效数据行数: 2981107\n",
      "最终数据列: ['time', 'x', 'y', 'z', 'magnitude', 'annotation']\n",
      "正在将处理后的数据保存到: ./../TrainingSet/P011.csv\n",
      "--- 文件 P011.csv 预处理完成。 ---\n",
      "----------------------------------------\n",
      "\n",
      ">>> 开始处理文件: P012.csv <<<\n",
      "\n",
      "--- 开始预处理文件: /Users/annfengdeye/Desktop/4.19/B题-全部数据/附件1/P012.csv ---\n"
     ]
    },
    {
     "name": "stderr",
     "output_type": "stream",
     "text": [
      "/var/folders/n7/h8vtfbcn3cn8b86gk1fgql700000gn/T/ipykernel_11276/62236121.py:33: DtypeWarning: Columns (4) have mixed types. Specify dtype option on import or set low_memory=False.\n",
      "  df = pd.read_csv(input_csv_path, dtype={'time': str})\n"
     ]
    },
    {
     "name": "stdout",
     "output_type": "stream",
     "text": [
      "成功从 /Users/annfengdeye/Desktop/4.19/B题-全部数据/附件1/P012.csv 读取 9360001 行数据\n",
      "正在处理 'time' 列 (使用完整日期时间进行计算)...\n",
      "因时间间隔不一致、格式错误或无法填充的间隙，丢弃了 0 行数据。\n",
      "正在处理 'x', 'y', 'z' 列...\n",
      "填充前 'x' 列的空值数量: 0\n",
      "填充前 'y' 列的空值数量: 0\n",
      "填充前 'z' 列的空值数量: 0\n",
      "正在计算并添加 'magnitude' 列...\n",
      "正在去除连续重复的 'x', 'y', 'z' 行...\n",
      "因 x, y, z 值与上一行连续相同，去除了 3133352 行重复数据。\n",
      "正在处理 'annotation' 列...\n",
      "将因'annotation'列为空或无法提取MET值而丢弃的行数: 2097511\n",
      "已丢弃 2097511 行 'annotation' (MET) 为空或无效的数据。\n",
      "最终格式化 'time' 列为 HH:MM:SS.ffffff ...\n",
      "当前剩余有效数据行数: 4129138\n",
      "最终数据列: ['time', 'x', 'y', 'z', 'magnitude', 'annotation']\n",
      "正在将处理后的数据保存到: ./../TrainingSet/P012.csv\n",
      "--- 文件 P012.csv 预处理完成。 ---\n",
      "----------------------------------------\n",
      "\n",
      ">>> 开始处理文件: P013.csv <<<\n",
      "\n",
      "--- 开始预处理文件: /Users/annfengdeye/Desktop/4.19/B题-全部数据/附件1/P013.csv ---\n"
     ]
    },
    {
     "name": "stderr",
     "output_type": "stream",
     "text": [
      "/var/folders/n7/h8vtfbcn3cn8b86gk1fgql700000gn/T/ipykernel_11276/62236121.py:33: DtypeWarning: Columns (4) have mixed types. Specify dtype option on import or set low_memory=False.\n",
      "  df = pd.read_csv(input_csv_path, dtype={'time': str})\n"
     ]
    },
    {
     "name": "stdout",
     "output_type": "stream",
     "text": [
      "成功从 /Users/annfengdeye/Desktop/4.19/B题-全部数据/附件1/P013.csv 读取 9540001 行数据\n",
      "正在处理 'time' 列 (使用完整日期时间进行计算)...\n",
      "因时间间隔不一致、格式错误或无法填充的间隙，丢弃了 0 行数据。\n",
      "正在处理 'x', 'y', 'z' 列...\n",
      "填充前 'x' 列的空值数量: 0\n",
      "填充前 'y' 列的空值数量: 0\n",
      "填充前 'z' 列的空值数量: 0\n",
      "正在计算并添加 'magnitude' 列...\n",
      "正在去除连续重复的 'x', 'y', 'z' 行...\n",
      "因 x, y, z 值与上一行连续相同，去除了 3878501 行重复数据。\n",
      "正在处理 'annotation' 列...\n",
      "将因'annotation'列为空或无法提取MET值而丢弃的行数: 1097535\n",
      "已丢弃 1097535 行 'annotation' (MET) 为空或无效的数据。\n",
      "最终格式化 'time' 列为 HH:MM:SS.ffffff ...\n",
      "当前剩余有效数据行数: 4563965\n",
      "最终数据列: ['time', 'x', 'y', 'z', 'magnitude', 'annotation']\n",
      "正在将处理后的数据保存到: ./../TrainingSet/P013.csv\n",
      "--- 文件 P013.csv 预处理完成。 ---\n",
      "----------------------------------------\n",
      "\n",
      ">>> 开始处理文件: P014.csv <<<\n",
      "\n",
      "--- 开始预处理文件: /Users/annfengdeye/Desktop/4.19/B题-全部数据/附件1/P014.csv ---\n"
     ]
    },
    {
     "name": "stderr",
     "output_type": "stream",
     "text": [
      "/var/folders/n7/h8vtfbcn3cn8b86gk1fgql700000gn/T/ipykernel_11276/62236121.py:33: DtypeWarning: Columns (4) have mixed types. Specify dtype option on import or set low_memory=False.\n",
      "  df = pd.read_csv(input_csv_path, dtype={'time': str})\n"
     ]
    },
    {
     "name": "stdout",
     "output_type": "stream",
     "text": [
      "成功从 /Users/annfengdeye/Desktop/4.19/B题-全部数据/附件1/P014.csv 读取 9180001 行数据\n",
      "正在处理 'time' 列 (使用完整日期时间进行计算)...\n",
      "因时间间隔不一致、格式错误或无法填充的间隙，丢弃了 0 行数据。\n",
      "正在处理 'x', 'y', 'z' 列...\n",
      "填充前 'x' 列的空值数量: 0\n",
      "填充前 'y' 列的空值数量: 0\n",
      "填充前 'z' 列的空值数量: 0\n",
      "正在计算并添加 'magnitude' 列...\n",
      "正在去除连续重复的 'x', 'y', 'z' 行...\n",
      "因 x, y, z 值与上一行连续相同，去除了 3174077 行重复数据。\n",
      "正在处理 'annotation' 列...\n",
      "将因'annotation'列为空或无法提取MET值而丢弃的行数: 2546029\n",
      "已丢弃 2546029 行 'annotation' (MET) 为空或无效的数据。\n",
      "最终格式化 'time' 列为 HH:MM:SS.ffffff ...\n",
      "当前剩余有效数据行数: 3459895\n",
      "最终数据列: ['time', 'x', 'y', 'z', 'magnitude', 'annotation']\n",
      "正在将处理后的数据保存到: ./../TrainingSet/P014.csv\n",
      "--- 文件 P014.csv 预处理完成。 ---\n",
      "----------------------------------------\n",
      "\n",
      ">>> 开始处理文件: P015.csv <<<\n",
      "\n",
      "--- 开始预处理文件: /Users/annfengdeye/Desktop/4.19/B题-全部数据/附件1/P015.csv ---\n"
     ]
    },
    {
     "name": "stderr",
     "output_type": "stream",
     "text": [
      "/var/folders/n7/h8vtfbcn3cn8b86gk1fgql700000gn/T/ipykernel_11276/62236121.py:33: DtypeWarning: Columns (4) have mixed types. Specify dtype option on import or set low_memory=False.\n",
      "  df = pd.read_csv(input_csv_path, dtype={'time': str})\n"
     ]
    },
    {
     "name": "stdout",
     "output_type": "stream",
     "text": [
      "成功从 /Users/annfengdeye/Desktop/4.19/B题-全部数据/附件1/P015.csv 读取 9180001 行数据\n",
      "正在处理 'time' 列 (使用完整日期时间进行计算)...\n",
      "因时间间隔不一致、格式错误或无法填充的间隙，丢弃了 0 行数据。\n",
      "正在处理 'x', 'y', 'z' 列...\n",
      "填充前 'x' 列的空值数量: 0\n",
      "填充前 'y' 列的空值数量: 0\n",
      "填充前 'z' 列的空值数量: 0\n",
      "正在计算并添加 'magnitude' 列...\n",
      "正在去除连续重复的 'x', 'y', 'z' 行...\n",
      "因 x, y, z 值与上一行连续相同，去除了 3622776 行重复数据。\n",
      "正在处理 'annotation' 列...\n",
      "将因'annotation'列为空或无法提取MET值而丢弃的行数: 1723792\n",
      "已丢弃 1723792 行 'annotation' (MET) 为空或无效的数据。\n",
      "最终格式化 'time' 列为 HH:MM:SS.ffffff ...\n",
      "当前剩余有效数据行数: 3833433\n",
      "最终数据列: ['time', 'x', 'y', 'z', 'magnitude', 'annotation']\n",
      "正在将处理后的数据保存到: ./../TrainingSet/P015.csv\n",
      "--- 文件 P015.csv 预处理完成。 ---\n",
      "----------------------------------------\n",
      "\n",
      ">>> 开始处理文件: P016.csv <<<\n",
      "\n",
      "--- 开始预处理文件: /Users/annfengdeye/Desktop/4.19/B题-全部数据/附件1/P016.csv ---\n"
     ]
    },
    {
     "name": "stderr",
     "output_type": "stream",
     "text": [
      "/var/folders/n7/h8vtfbcn3cn8b86gk1fgql700000gn/T/ipykernel_11276/62236121.py:33: DtypeWarning: Columns (4) have mixed types. Specify dtype option on import or set low_memory=False.\n",
      "  df = pd.read_csv(input_csv_path, dtype={'time': str})\n"
     ]
    },
    {
     "name": "stdout",
     "output_type": "stream",
     "text": [
      "成功从 /Users/annfengdeye/Desktop/4.19/B题-全部数据/附件1/P016.csv 读取 9720001 行数据\n",
      "正在处理 'time' 列 (使用完整日期时间进行计算)...\n",
      "因时间间隔不一致、格式错误或无法填充的间隙，丢弃了 0 行数据。\n",
      "正在处理 'x', 'y', 'z' 列...\n",
      "填充前 'x' 列的空值数量: 0\n",
      "填充前 'y' 列的空值数量: 0\n",
      "填充前 'z' 列的空值数量: 0\n",
      "正在计算并添加 'magnitude' 列...\n",
      "正在去除连续重复的 'x', 'y', 'z' 行...\n",
      "因 x, y, z 值与上一行连续相同，去除了 2842695 行重复数据。\n",
      "正在处理 'annotation' 列...\n",
      "将因'annotation'列为空或无法提取MET值而丢弃的行数: 2621908\n",
      "已丢弃 2621908 行 'annotation' (MET) 为空或无效的数据。\n",
      "最终格式化 'time' 列为 HH:MM:SS.ffffff ...\n",
      "当前剩余有效数据行数: 4255398\n",
      "最终数据列: ['time', 'x', 'y', 'z', 'magnitude', 'annotation']\n",
      "正在将处理后的数据保存到: ./../TrainingSet/P016.csv\n",
      "--- 文件 P016.csv 预处理完成。 ---\n",
      "----------------------------------------\n",
      "\n",
      ">>> 开始处理文件: P017.csv <<<\n",
      "\n",
      "--- 开始预处理文件: /Users/annfengdeye/Desktop/4.19/B题-全部数据/附件1/P017.csv ---\n"
     ]
    },
    {
     "name": "stderr",
     "output_type": "stream",
     "text": [
      "/var/folders/n7/h8vtfbcn3cn8b86gk1fgql700000gn/T/ipykernel_11276/62236121.py:33: DtypeWarning: Columns (4) have mixed types. Specify dtype option on import or set low_memory=False.\n",
      "  df = pd.read_csv(input_csv_path, dtype={'time': str})\n"
     ]
    },
    {
     "name": "stdout",
     "output_type": "stream",
     "text": [
      "成功从 /Users/annfengdeye/Desktop/4.19/B题-全部数据/附件1/P017.csv 读取 10074001 行数据\n",
      "正在处理 'time' 列 (使用完整日期时间进行计算)...\n",
      "因时间间隔不一致、格式错误或无法填充的间隙，丢弃了 0 行数据。\n",
      "正在处理 'x', 'y', 'z' 列...\n",
      "填充前 'x' 列的空值数量: 0\n",
      "填充前 'y' 列的空值数量: 0\n",
      "填充前 'z' 列的空值数量: 0\n",
      "正在计算并添加 'magnitude' 列...\n",
      "正在去除连续重复的 'x', 'y', 'z' 行...\n",
      "因 x, y, z 值与上一行连续相同，去除了 3634206 行重复数据。\n",
      "正在处理 'annotation' 列...\n",
      "将因'annotation'列为空或无法提取MET值而丢弃的行数: 2299458\n",
      "已丢弃 2299458 行 'annotation' (MET) 为空或无效的数据。\n",
      "最终格式化 'time' 列为 HH:MM:SS.ffffff ...\n",
      "当前剩余有效数据行数: 4140337\n",
      "最终数据列: ['time', 'x', 'y', 'z', 'magnitude', 'annotation']\n",
      "正在将处理后的数据保存到: ./../TrainingSet/P017.csv\n",
      "--- 文件 P017.csv 预处理完成。 ---\n",
      "----------------------------------------\n",
      "\n",
      ">>> 开始处理文件: P018.csv <<<\n",
      "\n",
      "--- 开始预处理文件: /Users/annfengdeye/Desktop/4.19/B题-全部数据/附件1/P018.csv ---\n"
     ]
    },
    {
     "name": "stderr",
     "output_type": "stream",
     "text": [
      "/var/folders/n7/h8vtfbcn3cn8b86gk1fgql700000gn/T/ipykernel_11276/62236121.py:33: DtypeWarning: Columns (4) have mixed types. Specify dtype option on import or set low_memory=False.\n",
      "  df = pd.read_csv(input_csv_path, dtype={'time': str})\n"
     ]
    },
    {
     "name": "stdout",
     "output_type": "stream",
     "text": [
      "成功从 /Users/annfengdeye/Desktop/4.19/B题-全部数据/附件1/P018.csv 读取 8880001 行数据\n",
      "正在处理 'time' 列 (使用完整日期时间进行计算)...\n",
      "因时间间隔不一致、格式错误或无法填充的间隙，丢弃了 0 行数据。\n",
      "正在处理 'x', 'y', 'z' 列...\n",
      "填充前 'x' 列的空值数量: 0\n",
      "填充前 'y' 列的空值数量: 0\n",
      "填充前 'z' 列的空值数量: 0\n",
      "正在计算并添加 'magnitude' 列...\n",
      "正在去除连续重复的 'x', 'y', 'z' 行...\n",
      "因 x, y, z 值与上一行连续相同，去除了 2862654 行重复数据。\n",
      "正在处理 'annotation' 列...\n",
      "将因'annotation'列为空或无法提取MET值而丢弃的行数: 1722915\n",
      "已丢弃 1722915 行 'annotation' (MET) 为空或无效的数据。\n",
      "最终格式化 'time' 列为 HH:MM:SS.ffffff ...\n",
      "当前剩余有效数据行数: 4294432\n",
      "最终数据列: ['time', 'x', 'y', 'z', 'magnitude', 'annotation']\n",
      "正在将处理后的数据保存到: ./../TrainingSet/P018.csv\n",
      "--- 文件 P018.csv 预处理完成。 ---\n",
      "----------------------------------------\n",
      "\n",
      ">>> 开始处理文件: P019.csv <<<\n",
      "\n",
      "--- 开始预处理文件: /Users/annfengdeye/Desktop/4.19/B题-全部数据/附件1/P019.csv ---\n"
     ]
    },
    {
     "name": "stderr",
     "output_type": "stream",
     "text": [
      "/var/folders/n7/h8vtfbcn3cn8b86gk1fgql700000gn/T/ipykernel_11276/62236121.py:33: DtypeWarning: Columns (4) have mixed types. Specify dtype option on import or set low_memory=False.\n",
      "  df = pd.read_csv(input_csv_path, dtype={'time': str})\n"
     ]
    },
    {
     "name": "stdout",
     "output_type": "stream",
     "text": [
      "成功从 /Users/annfengdeye/Desktop/4.19/B题-全部数据/附件1/P019.csv 读取 9630001 行数据\n",
      "正在处理 'time' 列 (使用完整日期时间进行计算)...\n",
      "因时间间隔不一致、格式错误或无法填充的间隙，丢弃了 0 行数据。\n",
      "正在处理 'x', 'y', 'z' 列...\n",
      "填充前 'x' 列的空值数量: 0\n",
      "填充前 'y' 列的空值数量: 0\n",
      "填充前 'z' 列的空值数量: 0\n",
      "正在计算并添加 'magnitude' 列...\n",
      "正在去除连续重复的 'x', 'y', 'z' 行...\n",
      "因 x, y, z 值与上一行连续相同，去除了 3747676 行重复数据。\n",
      "正在处理 'annotation' 列...\n",
      "将因'annotation'列为空或无法提取MET值而丢弃的行数: 1642903\n",
      "已丢弃 1642903 行 'annotation' (MET) 为空或无效的数据。\n",
      "最终格式化 'time' 列为 HH:MM:SS.ffffff ...\n",
      "当前剩余有效数据行数: 4239422\n",
      "最终数据列: ['time', 'x', 'y', 'z', 'magnitude', 'annotation']\n",
      "正在将处理后的数据保存到: ./../TrainingSet/P019.csv\n",
      "--- 文件 P019.csv 预处理完成。 ---\n",
      "----------------------------------------\n",
      "\n",
      ">>> 开始处理文件: P020.csv <<<\n",
      "\n",
      "--- 开始预处理文件: /Users/annfengdeye/Desktop/4.19/B题-全部数据/附件1/P020.csv ---\n"
     ]
    },
    {
     "name": "stderr",
     "output_type": "stream",
     "text": [
      "/var/folders/n7/h8vtfbcn3cn8b86gk1fgql700000gn/T/ipykernel_11276/62236121.py:33: DtypeWarning: Columns (4) have mixed types. Specify dtype option on import or set low_memory=False.\n",
      "  df = pd.read_csv(input_csv_path, dtype={'time': str})\n"
     ]
    },
    {
     "name": "stdout",
     "output_type": "stream",
     "text": [
      "成功从 /Users/annfengdeye/Desktop/4.19/B题-全部数据/附件1/P020.csv 读取 9450001 行数据\n",
      "正在处理 'time' 列 (使用完整日期时间进行计算)...\n",
      "因时间间隔不一致、格式错误或无法填充的间隙，丢弃了 0 行数据。\n",
      "正在处理 'x', 'y', 'z' 列...\n",
      "填充前 'x' 列的空值数量: 0\n",
      "填充前 'y' 列的空值数量: 0\n",
      "填充前 'z' 列的空值数量: 0\n",
      "正在计算并添加 'magnitude' 列...\n",
      "正在去除连续重复的 'x', 'y', 'z' 行...\n",
      "因 x, y, z 值与上一行连续相同，去除了 3658590 行重复数据。\n",
      "正在处理 'annotation' 列...\n",
      "将因'annotation'列为空或无法提取MET值而丢弃的行数: 2311337\n",
      "已丢弃 2311337 行 'annotation' (MET) 为空或无效的数据。\n",
      "最终格式化 'time' 列为 HH:MM:SS.ffffff ...\n",
      "当前剩余有效数据行数: 3480074\n",
      "最终数据列: ['time', 'x', 'y', 'z', 'magnitude', 'annotation']\n",
      "正在将处理后的数据保存到: ./../TrainingSet/P020.csv\n",
      "--- 文件 P020.csv 预处理完成。 ---\n",
      "----------------------------------------\n",
      "\n",
      ">>> 开始处理文件: P021.csv <<<\n",
      "\n",
      "--- 开始预处理文件: /Users/annfengdeye/Desktop/4.19/B题-全部数据/附件1/P021.csv ---\n"
     ]
    },
    {
     "name": "stderr",
     "output_type": "stream",
     "text": [
      "/var/folders/n7/h8vtfbcn3cn8b86gk1fgql700000gn/T/ipykernel_11276/62236121.py:33: DtypeWarning: Columns (4) have mixed types. Specify dtype option on import or set low_memory=False.\n",
      "  df = pd.read_csv(input_csv_path, dtype={'time': str})\n"
     ]
    },
    {
     "name": "stdout",
     "output_type": "stream",
     "text": [
      "成功从 /Users/annfengdeye/Desktop/4.19/B题-全部数据/附件1/P021.csv 读取 9540001 行数据\n",
      "正在处理 'time' 列 (使用完整日期时间进行计算)...\n",
      "因时间间隔不一致、格式错误或无法填充的间隙，丢弃了 0 行数据。\n",
      "正在处理 'x', 'y', 'z' 列...\n",
      "填充前 'x' 列的空值数量: 0\n",
      "填充前 'y' 列的空值数量: 0\n",
      "填充前 'z' 列的空值数量: 0\n",
      "正在计算并添加 'magnitude' 列...\n",
      "正在去除连续重复的 'x', 'y', 'z' 行...\n",
      "因 x, y, z 值与上一行连续相同，去除了 3158803 行重复数据。\n",
      "正在处理 'annotation' 列...\n",
      "将因'annotation'列为空或无法提取MET值而丢弃的行数: 2197771\n",
      "已丢弃 2197771 行 'annotation' (MET) 为空或无效的数据。\n",
      "最终格式化 'time' 列为 HH:MM:SS.ffffff ...\n",
      "当前剩余有效数据行数: 4183427\n",
      "最终数据列: ['time', 'x', 'y', 'z', 'magnitude', 'annotation']\n",
      "正在将处理后的数据保存到: ./../TrainingSet/P021.csv\n",
      "--- 文件 P021.csv 预处理完成。 ---\n",
      "----------------------------------------\n",
      "\n",
      ">>> 开始处理文件: P022.csv <<<\n",
      "\n",
      "--- 开始预处理文件: /Users/annfengdeye/Desktop/4.19/B题-全部数据/附件1/P022.csv ---\n"
     ]
    },
    {
     "name": "stderr",
     "output_type": "stream",
     "text": [
      "/var/folders/n7/h8vtfbcn3cn8b86gk1fgql700000gn/T/ipykernel_11276/62236121.py:33: DtypeWarning: Columns (4) have mixed types. Specify dtype option on import or set low_memory=False.\n",
      "  df = pd.read_csv(input_csv_path, dtype={'time': str})\n"
     ]
    },
    {
     "name": "stdout",
     "output_type": "stream",
     "text": [
      "成功从 /Users/annfengdeye/Desktop/4.19/B题-全部数据/附件1/P022.csv 读取 9768001 行数据\n",
      "正在处理 'time' 列 (使用完整日期时间进行计算)...\n",
      "因时间间隔不一致、格式错误或无法填充的间隙，丢弃了 0 行数据。\n",
      "正在处理 'x', 'y', 'z' 列...\n",
      "填充前 'x' 列的空值数量: 0\n",
      "填充前 'y' 列的空值数量: 0\n",
      "填充前 'z' 列的空值数量: 0\n",
      "正在计算并添加 'magnitude' 列...\n",
      "正在去除连续重复的 'x', 'y', 'z' 行...\n",
      "因 x, y, z 值与上一行连续相同，去除了 3215698 行重复数据。\n",
      "正在处理 'annotation' 列...\n",
      "将因'annotation'列为空或无法提取MET值而丢弃的行数: 3676304\n",
      "已丢弃 3676304 行 'annotation' (MET) 为空或无效的数据。\n",
      "最终格式化 'time' 列为 HH:MM:SS.ffffff ...\n",
      "当前剩余有效数据行数: 2875999\n",
      "最终数据列: ['time', 'x', 'y', 'z', 'magnitude', 'annotation']\n",
      "正在将处理后的数据保存到: ./../TrainingSet/P022.csv\n",
      "--- 文件 P022.csv 预处理完成。 ---\n",
      "----------------------------------------\n",
      "\n",
      ">>> 开始处理文件: P023.csv <<<\n",
      "\n",
      "--- 开始预处理文件: /Users/annfengdeye/Desktop/4.19/B题-全部数据/附件1/P023.csv ---\n"
     ]
    },
    {
     "name": "stderr",
     "output_type": "stream",
     "text": [
      "/var/folders/n7/h8vtfbcn3cn8b86gk1fgql700000gn/T/ipykernel_11276/62236121.py:33: DtypeWarning: Columns (4) have mixed types. Specify dtype option on import or set low_memory=False.\n",
      "  df = pd.read_csv(input_csv_path, dtype={'time': str})\n"
     ]
    },
    {
     "name": "stdout",
     "output_type": "stream",
     "text": [
      "成功从 /Users/annfengdeye/Desktop/4.19/B题-全部数据/附件1/P023.csv 读取 9126441 行数据\n",
      "正在处理 'time' 列 (使用完整日期时间进行计算)...\n",
      "因时间间隔不一致、格式错误或无法填充的间隙，丢弃了 0 行数据。\n",
      "正在处理 'x', 'y', 'z' 列...\n",
      "填充前 'x' 列的空值数量: 0\n",
      "填充前 'y' 列的空值数量: 0\n",
      "填充前 'z' 列的空值数量: 0\n",
      "正在计算并添加 'magnitude' 列...\n",
      "正在去除连续重复的 'x', 'y', 'z' 行...\n",
      "因 x, y, z 值与上一行连续相同，去除了 2594522 行重复数据。\n",
      "正在处理 'annotation' 列...\n",
      "将因'annotation'列为空或无法提取MET值而丢弃的行数: 2460566\n",
      "已丢弃 2460566 行 'annotation' (MET) 为空或无效的数据。\n",
      "最终格式化 'time' 列为 HH:MM:SS.ffffff ...\n",
      "当前剩余有效数据行数: 4071353\n",
      "最终数据列: ['time', 'x', 'y', 'z', 'magnitude', 'annotation']\n",
      "正在将处理后的数据保存到: ./../TrainingSet/P023.csv\n",
      "--- 文件 P023.csv 预处理完成。 ---\n",
      "----------------------------------------\n",
      "\n",
      ">>> 开始处理文件: P024.csv <<<\n",
      "\n",
      "--- 开始预处理文件: /Users/annfengdeye/Desktop/4.19/B题-全部数据/附件1/P024.csv ---\n"
     ]
    },
    {
     "name": "stderr",
     "output_type": "stream",
     "text": [
      "/var/folders/n7/h8vtfbcn3cn8b86gk1fgql700000gn/T/ipykernel_11276/62236121.py:33: DtypeWarning: Columns (4) have mixed types. Specify dtype option on import or set low_memory=False.\n",
      "  df = pd.read_csv(input_csv_path, dtype={'time': str})\n"
     ]
    },
    {
     "name": "stdout",
     "output_type": "stream",
     "text": [
      "成功从 /Users/annfengdeye/Desktop/4.19/B题-全部数据/附件1/P024.csv 读取 9000001 行数据\n",
      "正在处理 'time' 列 (使用完整日期时间进行计算)...\n",
      "因时间间隔不一致、格式错误或无法填充的间隙，丢弃了 0 行数据。\n",
      "正在处理 'x', 'y', 'z' 列...\n",
      "填充前 'x' 列的空值数量: 0\n",
      "填充前 'y' 列的空值数量: 0\n",
      "填充前 'z' 列的空值数量: 0\n",
      "正在计算并添加 'magnitude' 列...\n",
      "正在去除连续重复的 'x', 'y', 'z' 行...\n",
      "因 x, y, z 值与上一行连续相同，去除了 2843892 行重复数据。\n",
      "正在处理 'annotation' 列...\n",
      "将因'annotation'列为空或无法提取MET值而丢弃的行数: 1735326\n",
      "已丢弃 1735326 行 'annotation' (MET) 为空或无效的数据。\n",
      "最终格式化 'time' 列为 HH:MM:SS.ffffff ...\n",
      "当前剩余有效数据行数: 4420783\n",
      "最终数据列: ['time', 'x', 'y', 'z', 'magnitude', 'annotation']\n",
      "正在将处理后的数据保存到: ./../TrainingSet/P024.csv\n",
      "--- 文件 P024.csv 预处理完成。 ---\n",
      "----------------------------------------\n",
      "\n",
      ">>> 开始处理文件: P025.csv <<<\n",
      "\n",
      "--- 开始预处理文件: /Users/annfengdeye/Desktop/4.19/B题-全部数据/附件1/P025.csv ---\n"
     ]
    },
    {
     "name": "stderr",
     "output_type": "stream",
     "text": [
      "/var/folders/n7/h8vtfbcn3cn8b86gk1fgql700000gn/T/ipykernel_11276/62236121.py:33: DtypeWarning: Columns (4) have mixed types. Specify dtype option on import or set low_memory=False.\n",
      "  df = pd.read_csv(input_csv_path, dtype={'time': str})\n"
     ]
    },
    {
     "name": "stdout",
     "output_type": "stream",
     "text": [
      "成功从 /Users/annfengdeye/Desktop/4.19/B题-全部数据/附件1/P025.csv 读取 9282001 行数据\n",
      "正在处理 'time' 列 (使用完整日期时间进行计算)...\n",
      "因时间间隔不一致、格式错误或无法填充的间隙，丢弃了 0 行数据。\n",
      "正在处理 'x', 'y', 'z' 列...\n",
      "填充前 'x' 列的空值数量: 0\n",
      "填充前 'y' 列的空值数量: 0\n",
      "填充前 'z' 列的空值数量: 0\n",
      "正在计算并添加 'magnitude' 列...\n",
      "正在去除连续重复的 'x', 'y', 'z' 行...\n",
      "因 x, y, z 值与上一行连续相同，去除了 2541427 行重复数据。\n",
      "正在处理 'annotation' 列...\n",
      "将因'annotation'列为空或无法提取MET值而丢弃的行数: 1889024\n",
      "已丢弃 1889024 行 'annotation' (MET) 为空或无效的数据。\n",
      "最终格式化 'time' 列为 HH:MM:SS.ffffff ...\n",
      "当前剩余有效数据行数: 4851550\n",
      "最终数据列: ['time', 'x', 'y', 'z', 'magnitude', 'annotation']\n",
      "正在将处理后的数据保存到: ./../TrainingSet/P025.csv\n",
      "--- 文件 P025.csv 预处理完成。 ---\n",
      "----------------------------------------\n",
      "\n",
      ">>> 开始处理文件: P026.csv <<<\n",
      "\n",
      "--- 开始预处理文件: /Users/annfengdeye/Desktop/4.19/B题-全部数据/附件1/P026.csv ---\n"
     ]
    },
    {
     "name": "stderr",
     "output_type": "stream",
     "text": [
      "/var/folders/n7/h8vtfbcn3cn8b86gk1fgql700000gn/T/ipykernel_11276/62236121.py:33: DtypeWarning: Columns (4) have mixed types. Specify dtype option on import or set low_memory=False.\n",
      "  df = pd.read_csv(input_csv_path, dtype={'time': str})\n"
     ]
    },
    {
     "name": "stdout",
     "output_type": "stream",
     "text": [
      "成功从 /Users/annfengdeye/Desktop/4.19/B题-全部数据/附件1/P026.csv 读取 8820001 行数据\n",
      "正在处理 'time' 列 (使用完整日期时间进行计算)...\n",
      "因时间间隔不一致、格式错误或无法填充的间隙，丢弃了 0 行数据。\n",
      "正在处理 'x', 'y', 'z' 列...\n",
      "填充前 'x' 列的空值数量: 0\n",
      "填充前 'y' 列的空值数量: 0\n",
      "填充前 'z' 列的空值数量: 0\n",
      "正在计算并添加 'magnitude' 列...\n",
      "正在去除连续重复的 'x', 'y', 'z' 行...\n",
      "因 x, y, z 值与上一行连续相同，去除了 2505527 行重复数据。\n",
      "正在处理 'annotation' 列...\n",
      "将因'annotation'列为空或无法提取MET值而丢弃的行数: 2684122\n",
      "已丢弃 2684122 行 'annotation' (MET) 为空或无效的数据。\n",
      "最终格式化 'time' 列为 HH:MM:SS.ffffff ...\n",
      "当前剩余有效数据行数: 3630352\n",
      "最终数据列: ['time', 'x', 'y', 'z', 'magnitude', 'annotation']\n",
      "正在将处理后的数据保存到: ./../TrainingSet/P026.csv\n",
      "--- 文件 P026.csv 预处理完成。 ---\n",
      "----------------------------------------\n",
      "\n",
      ">>> 开始处理文件: P027.csv <<<\n",
      "\n",
      "--- 开始预处理文件: /Users/annfengdeye/Desktop/4.19/B题-全部数据/附件1/P027.csv ---\n"
     ]
    },
    {
     "name": "stderr",
     "output_type": "stream",
     "text": [
      "/var/folders/n7/h8vtfbcn3cn8b86gk1fgql700000gn/T/ipykernel_11276/62236121.py:33: DtypeWarning: Columns (4) have mixed types. Specify dtype option on import or set low_memory=False.\n",
      "  df = pd.read_csv(input_csv_path, dtype={'time': str})\n"
     ]
    },
    {
     "name": "stdout",
     "output_type": "stream",
     "text": [
      "成功从 /Users/annfengdeye/Desktop/4.19/B题-全部数据/附件1/P027.csv 读取 9300001 行数据\n",
      "正在处理 'time' 列 (使用完整日期时间进行计算)...\n",
      "因时间间隔不一致、格式错误或无法填充的间隙，丢弃了 0 行数据。\n",
      "正在处理 'x', 'y', 'z' 列...\n",
      "填充前 'x' 列的空值数量: 0\n",
      "填充前 'y' 列的空值数量: 0\n",
      "填充前 'z' 列的空值数量: 0\n",
      "正在计算并添加 'magnitude' 列...\n",
      "正在去除连续重复的 'x', 'y', 'z' 行...\n",
      "因 x, y, z 值与上一行连续相同，去除了 3445316 行重复数据。\n",
      "正在处理 'annotation' 列...\n",
      "将因'annotation'列为空或无法提取MET值而丢弃的行数: 2016776\n",
      "已丢弃 2016776 行 'annotation' (MET) 为空或无效的数据。\n",
      "最终格式化 'time' 列为 HH:MM:SS.ffffff ...\n",
      "当前剩余有效数据行数: 3837909\n",
      "最终数据列: ['time', 'x', 'y', 'z', 'magnitude', 'annotation']\n",
      "正在将处理后的数据保存到: ./../TrainingSet/P027.csv\n",
      "--- 文件 P027.csv 预处理完成。 ---\n",
      "----------------------------------------\n",
      "\n",
      ">>> 开始处理文件: P028.csv <<<\n",
      "\n",
      "--- 开始预处理文件: /Users/annfengdeye/Desktop/4.19/B题-全部数据/附件1/P028.csv ---\n"
     ]
    },
    {
     "name": "stderr",
     "output_type": "stream",
     "text": [
      "/var/folders/n7/h8vtfbcn3cn8b86gk1fgql700000gn/T/ipykernel_11276/62236121.py:33: DtypeWarning: Columns (4) have mixed types. Specify dtype option on import or set low_memory=False.\n",
      "  df = pd.read_csv(input_csv_path, dtype={'time': str})\n"
     ]
    },
    {
     "name": "stdout",
     "output_type": "stream",
     "text": [
      "成功从 /Users/annfengdeye/Desktop/4.19/B题-全部数据/附件1/P028.csv 读取 9720001 行数据\n",
      "正在处理 'time' 列 (使用完整日期时间进行计算)...\n",
      "因时间间隔不一致、格式错误或无法填充的间隙，丢弃了 0 行数据。\n",
      "正在处理 'x', 'y', 'z' 列...\n",
      "填充前 'x' 列的空值数量: 0\n",
      "填充前 'y' 列的空值数量: 0\n",
      "填充前 'z' 列的空值数量: 0\n",
      "正在计算并添加 'magnitude' 列...\n",
      "正在去除连续重复的 'x', 'y', 'z' 行...\n",
      "因 x, y, z 值与上一行连续相同，去除了 3748879 行重复数据。\n",
      "正在处理 'annotation' 列...\n",
      "将因'annotation'列为空或无法提取MET值而丢弃的行数: 1141316\n",
      "已丢弃 1141316 行 'annotation' (MET) 为空或无效的数据。\n",
      "最终格式化 'time' 列为 HH:MM:SS.ffffff ...\n",
      "当前剩余有效数据行数: 4829806\n",
      "最终数据列: ['time', 'x', 'y', 'z', 'magnitude', 'annotation']\n",
      "正在将处理后的数据保存到: ./../TrainingSet/P028.csv\n",
      "--- 文件 P028.csv 预处理完成。 ---\n",
      "----------------------------------------\n",
      "\n",
      ">>> 开始处理文件: P029.csv <<<\n",
      "\n",
      "--- 开始预处理文件: /Users/annfengdeye/Desktop/4.19/B题-全部数据/附件1/P029.csv ---\n"
     ]
    },
    {
     "name": "stderr",
     "output_type": "stream",
     "text": [
      "/var/folders/n7/h8vtfbcn3cn8b86gk1fgql700000gn/T/ipykernel_11276/62236121.py:33: DtypeWarning: Columns (4) have mixed types. Specify dtype option on import or set low_memory=False.\n",
      "  df = pd.read_csv(input_csv_path, dtype={'time': str})\n"
     ]
    },
    {
     "name": "stdout",
     "output_type": "stream",
     "text": [
      "成功从 /Users/annfengdeye/Desktop/4.19/B题-全部数据/附件1/P029.csv 读取 9900001 行数据\n",
      "正在处理 'time' 列 (使用完整日期时间进行计算)...\n",
      "因时间间隔不一致、格式错误或无法填充的间隙，丢弃了 0 行数据。\n",
      "正在处理 'x', 'y', 'z' 列...\n",
      "填充前 'x' 列的空值数量: 0\n",
      "填充前 'y' 列的空值数量: 0\n",
      "填充前 'z' 列的空值数量: 0\n",
      "正在计算并添加 'magnitude' 列...\n",
      "正在去除连续重复的 'x', 'y', 'z' 行...\n",
      "因 x, y, z 值与上一行连续相同，去除了 3816811 行重复数据。\n",
      "正在处理 'annotation' 列...\n",
      "将因'annotation'列为空或无法提取MET值而丢弃的行数: 2419990\n",
      "已丢弃 2419990 行 'annotation' (MET) 为空或无效的数据。\n",
      "最终格式化 'time' 列为 HH:MM:SS.ffffff ...\n",
      "当前剩余有效数据行数: 3663200\n",
      "最终数据列: ['time', 'x', 'y', 'z', 'magnitude', 'annotation']\n",
      "正在将处理后的数据保存到: ./../TrainingSet/P029.csv\n",
      "--- 文件 P029.csv 预处理完成。 ---\n",
      "----------------------------------------\n",
      "\n",
      ">>> 开始处理文件: P030.csv <<<\n",
      "\n",
      "--- 开始预处理文件: /Users/annfengdeye/Desktop/4.19/B题-全部数据/附件1/P030.csv ---\n"
     ]
    },
    {
     "name": "stderr",
     "output_type": "stream",
     "text": [
      "/var/folders/n7/h8vtfbcn3cn8b86gk1fgql700000gn/T/ipykernel_11276/62236121.py:33: DtypeWarning: Columns (4) have mixed types. Specify dtype option on import or set low_memory=False.\n",
      "  df = pd.read_csv(input_csv_path, dtype={'time': str})\n"
     ]
    },
    {
     "name": "stdout",
     "output_type": "stream",
     "text": [
      "成功从 /Users/annfengdeye/Desktop/4.19/B题-全部数据/附件1/P030.csv 读取 9000001 行数据\n",
      "正在处理 'time' 列 (使用完整日期时间进行计算)...\n",
      "因时间间隔不一致、格式错误或无法填充的间隙，丢弃了 0 行数据。\n",
      "正在处理 'x', 'y', 'z' 列...\n",
      "填充前 'x' 列的空值数量: 0\n",
      "填充前 'y' 列的空值数量: 0\n",
      "填充前 'z' 列的空值数量: 0\n",
      "正在计算并添加 'magnitude' 列...\n",
      "正在去除连续重复的 'x', 'y', 'z' 行...\n",
      "因 x, y, z 值与上一行连续相同，去除了 2869737 行重复数据。\n",
      "正在处理 'annotation' 列...\n",
      "将因'annotation'列为空或无法提取MET值而丢弃的行数: 3028974\n",
      "已丢弃 3028974 行 'annotation' (MET) 为空或无效的数据。\n",
      "最终格式化 'time' 列为 HH:MM:SS.ffffff ...\n",
      "当前剩余有效数据行数: 3101290\n",
      "最终数据列: ['time', 'x', 'y', 'z', 'magnitude', 'annotation']\n",
      "正在将处理后的数据保存到: ./../TrainingSet/P030.csv\n",
      "--- 文件 P030.csv 预处理完成。 ---\n",
      "----------------------------------------\n",
      "\n",
      ">>> 开始处理文件: P031.csv <<<\n",
      "\n",
      "--- 开始预处理文件: /Users/annfengdeye/Desktop/4.19/B题-全部数据/附件1/P031.csv ---\n"
     ]
    },
    {
     "name": "stderr",
     "output_type": "stream",
     "text": [
      "/var/folders/n7/h8vtfbcn3cn8b86gk1fgql700000gn/T/ipykernel_11276/62236121.py:33: DtypeWarning: Columns (4) have mixed types. Specify dtype option on import or set low_memory=False.\n",
      "  df = pd.read_csv(input_csv_path, dtype={'time': str})\n"
     ]
    },
    {
     "name": "stdout",
     "output_type": "stream",
     "text": [
      "成功从 /Users/annfengdeye/Desktop/4.19/B题-全部数据/附件1/P031.csv 读取 9060001 行数据\n",
      "正在处理 'time' 列 (使用完整日期时间进行计算)...\n",
      "因时间间隔不一致、格式错误或无法填充的间隙，丢弃了 0 行数据。\n",
      "正在处理 'x', 'y', 'z' 列...\n",
      "填充前 'x' 列的空值数量: 0\n",
      "填充前 'y' 列的空值数量: 0\n",
      "填充前 'z' 列的空值数量: 0\n",
      "正在计算并添加 'magnitude' 列...\n",
      "正在去除连续重复的 'x', 'y', 'z' 行...\n",
      "因 x, y, z 值与上一行连续相同，去除了 2782501 行重复数据。\n",
      "正在处理 'annotation' 列...\n",
      "将因'annotation'列为空或无法提取MET值而丢弃的行数: 1681801\n",
      "已丢弃 1681801 行 'annotation' (MET) 为空或无效的数据。\n",
      "最终格式化 'time' 列为 HH:MM:SS.ffffff ...\n",
      "当前剩余有效数据行数: 4595699\n",
      "最终数据列: ['time', 'x', 'y', 'z', 'magnitude', 'annotation']\n",
      "正在将处理后的数据保存到: ./../TrainingSet/P031.csv\n",
      "--- 文件 P031.csv 预处理完成。 ---\n",
      "----------------------------------------\n",
      "\n",
      ">>> 开始处理文件: P032.csv <<<\n",
      "\n",
      "--- 开始预处理文件: /Users/annfengdeye/Desktop/4.19/B题-全部数据/附件1/P032.csv ---\n"
     ]
    },
    {
     "name": "stderr",
     "output_type": "stream",
     "text": [
      "/var/folders/n7/h8vtfbcn3cn8b86gk1fgql700000gn/T/ipykernel_11276/62236121.py:33: DtypeWarning: Columns (4) have mixed types. Specify dtype option on import or set low_memory=False.\n",
      "  df = pd.read_csv(input_csv_path, dtype={'time': str})\n"
     ]
    },
    {
     "name": "stdout",
     "output_type": "stream",
     "text": [
      "成功从 /Users/annfengdeye/Desktop/4.19/B题-全部数据/附件1/P032.csv 读取 9720001 行数据\n",
      "正在处理 'time' 列 (使用完整日期时间进行计算)...\n",
      "因时间间隔不一致、格式错误或无法填充的间隙，丢弃了 0 行数据。\n",
      "正在处理 'x', 'y', 'z' 列...\n",
      "填充前 'x' 列的空值数量: 0\n",
      "填充前 'y' 列的空值数量: 0\n",
      "填充前 'z' 列的空值数量: 0\n",
      "正在计算并添加 'magnitude' 列...\n",
      "正在去除连续重复的 'x', 'y', 'z' 行...\n",
      "因 x, y, z 值与上一行连续相同，去除了 3330643 行重复数据。\n",
      "正在处理 'annotation' 列...\n",
      "将因'annotation'列为空或无法提取MET值而丢弃的行数: 3540874\n",
      "已丢弃 3540874 行 'annotation' (MET) 为空或无效的数据。\n",
      "最终格式化 'time' 列为 HH:MM:SS.ffffff ...\n",
      "当前剩余有效数据行数: 2848484\n",
      "最终数据列: ['time', 'x', 'y', 'z', 'magnitude', 'annotation']\n",
      "正在将处理后的数据保存到: ./../TrainingSet/P032.csv\n",
      "--- 文件 P032.csv 预处理完成。 ---\n",
      "----------------------------------------\n",
      "\n",
      ">>> 开始处理文件: P033.csv <<<\n",
      "\n",
      "--- 开始预处理文件: /Users/annfengdeye/Desktop/4.19/B题-全部数据/附件1/P033.csv ---\n"
     ]
    },
    {
     "name": "stderr",
     "output_type": "stream",
     "text": [
      "/var/folders/n7/h8vtfbcn3cn8b86gk1fgql700000gn/T/ipykernel_11276/62236121.py:33: DtypeWarning: Columns (4) have mixed types. Specify dtype option on import or set low_memory=False.\n",
      "  df = pd.read_csv(input_csv_path, dtype={'time': str})\n"
     ]
    },
    {
     "name": "stdout",
     "output_type": "stream",
     "text": [
      "成功从 /Users/annfengdeye/Desktop/4.19/B题-全部数据/附件1/P033.csv 读取 9360001 行数据\n",
      "正在处理 'time' 列 (使用完整日期时间进行计算)...\n",
      "因时间间隔不一致、格式错误或无法填充的间隙，丢弃了 0 行数据。\n",
      "正在处理 'x', 'y', 'z' 列...\n",
      "填充前 'x' 列的空值数量: 0\n",
      "填充前 'y' 列的空值数量: 0\n",
      "填充前 'z' 列的空值数量: 0\n",
      "正在计算并添加 'magnitude' 列...\n",
      "正在去除连续重复的 'x', 'y', 'z' 行...\n",
      "因 x, y, z 值与上一行连续相同，去除了 3316166 行重复数据。\n",
      "正在处理 'annotation' 列...\n",
      "将因'annotation'列为空或无法提取MET值而丢弃的行数: 1154514\n",
      "已丢弃 1154514 行 'annotation' (MET) 为空或无效的数据。\n",
      "最终格式化 'time' 列为 HH:MM:SS.ffffff ...\n",
      "当前剩余有效数据行数: 4889321\n",
      "最终数据列: ['time', 'x', 'y', 'z', 'magnitude', 'annotation']\n",
      "正在将处理后的数据保存到: ./../TrainingSet/P033.csv\n",
      "--- 文件 P033.csv 预处理完成。 ---\n",
      "----------------------------------------\n",
      "\n",
      ">>> 开始处理文件: P034.csv <<<\n",
      "\n",
      "--- 开始预处理文件: /Users/annfengdeye/Desktop/4.19/B题-全部数据/附件1/P034.csv ---\n"
     ]
    },
    {
     "name": "stderr",
     "output_type": "stream",
     "text": [
      "/var/folders/n7/h8vtfbcn3cn8b86gk1fgql700000gn/T/ipykernel_11276/62236121.py:33: DtypeWarning: Columns (4) have mixed types. Specify dtype option on import or set low_memory=False.\n",
      "  df = pd.read_csv(input_csv_path, dtype={'time': str})\n"
     ]
    },
    {
     "name": "stdout",
     "output_type": "stream",
     "text": [
      "成功从 /Users/annfengdeye/Desktop/4.19/B题-全部数据/附件1/P034.csv 读取 8910001 行数据\n",
      "正在处理 'time' 列 (使用完整日期时间进行计算)...\n",
      "因时间间隔不一致、格式错误或无法填充的间隙，丢弃了 0 行数据。\n",
      "正在处理 'x', 'y', 'z' 列...\n",
      "填充前 'x' 列的空值数量: 0\n",
      "填充前 'y' 列的空值数量: 0\n",
      "填充前 'z' 列的空值数量: 0\n",
      "正在计算并添加 'magnitude' 列...\n",
      "正在去除连续重复的 'x', 'y', 'z' 行...\n",
      "因 x, y, z 值与上一行连续相同，去除了 3089358 行重复数据。\n",
      "正在处理 'annotation' 列...\n",
      "将因'annotation'列为空或无法提取MET值而丢弃的行数: 3244685\n",
      "已丢弃 3244685 行 'annotation' (MET) 为空或无效的数据。\n",
      "最终格式化 'time' 列为 HH:MM:SS.ffffff ...\n",
      "当前剩余有效数据行数: 2575958\n",
      "最终数据列: ['time', 'x', 'y', 'z', 'magnitude', 'annotation']\n",
      "正在将处理后的数据保存到: ./../TrainingSet/P034.csv\n",
      "--- 文件 P034.csv 预处理完成。 ---\n",
      "----------------------------------------\n",
      "\n",
      ">>> 开始处理文件: P035.csv <<<\n",
      "\n",
      "--- 开始预处理文件: /Users/annfengdeye/Desktop/4.19/B题-全部数据/附件1/P035.csv ---\n"
     ]
    },
    {
     "name": "stderr",
     "output_type": "stream",
     "text": [
      "/var/folders/n7/h8vtfbcn3cn8b86gk1fgql700000gn/T/ipykernel_11276/62236121.py:33: DtypeWarning: Columns (4) have mixed types. Specify dtype option on import or set low_memory=False.\n",
      "  df = pd.read_csv(input_csv_path, dtype={'time': str})\n"
     ]
    },
    {
     "name": "stdout",
     "output_type": "stream",
     "text": [
      "成功从 /Users/annfengdeye/Desktop/4.19/B题-全部数据/附件1/P035.csv 读取 9720001 行数据\n",
      "正在处理 'time' 列 (使用完整日期时间进行计算)...\n",
      "因时间间隔不一致、格式错误或无法填充的间隙，丢弃了 0 行数据。\n",
      "正在处理 'x', 'y', 'z' 列...\n",
      "填充前 'x' 列的空值数量: 0\n",
      "填充前 'y' 列的空值数量: 0\n",
      "填充前 'z' 列的空值数量: 0\n",
      "正在计算并添加 'magnitude' 列...\n",
      "正在去除连续重复的 'x', 'y', 'z' 行...\n",
      "因 x, y, z 值与上一行连续相同，去除了 3525670 行重复数据。\n",
      "正在处理 'annotation' 列...\n",
      "将因'annotation'列为空或无法提取MET值而丢弃的行数: 2499120\n",
      "已丢弃 2499120 行 'annotation' (MET) 为空或无效的数据。\n",
      "最终格式化 'time' 列为 HH:MM:SS.ffffff ...\n",
      "当前剩余有效数据行数: 3695211\n",
      "最终数据列: ['time', 'x', 'y', 'z', 'magnitude', 'annotation']\n",
      "正在将处理后的数据保存到: ./../TrainingSet/P035.csv\n",
      "--- 文件 P035.csv 预处理完成。 ---\n",
      "----------------------------------------\n",
      "\n",
      ">>> 开始处理文件: P036.csv <<<\n",
      "\n",
      "--- 开始预处理文件: /Users/annfengdeye/Desktop/4.19/B题-全部数据/附件1/P036.csv ---\n"
     ]
    },
    {
     "name": "stderr",
     "output_type": "stream",
     "text": [
      "/var/folders/n7/h8vtfbcn3cn8b86gk1fgql700000gn/T/ipykernel_11276/62236121.py:33: DtypeWarning: Columns (4) have mixed types. Specify dtype option on import or set low_memory=False.\n",
      "  df = pd.read_csv(input_csv_path, dtype={'time': str})\n"
     ]
    },
    {
     "name": "stdout",
     "output_type": "stream",
     "text": [
      "成功从 /Users/annfengdeye/Desktop/4.19/B题-全部数据/附件1/P036.csv 读取 10080001 行数据\n",
      "正在处理 'time' 列 (使用完整日期时间进行计算)...\n",
      "因时间间隔不一致、格式错误或无法填充的间隙，丢弃了 0 行数据。\n",
      "正在处理 'x', 'y', 'z' 列...\n",
      "填充前 'x' 列的空值数量: 0\n",
      "填充前 'y' 列的空值数量: 0\n",
      "填充前 'z' 列的空值数量: 0\n",
      "正在计算并添加 'magnitude' 列...\n",
      "正在去除连续重复的 'x', 'y', 'z' 行...\n",
      "因 x, y, z 值与上一行连续相同，去除了 3330759 行重复数据。\n",
      "正在处理 'annotation' 列...\n",
      "将因'annotation'列为空或无法提取MET值而丢弃的行数: 1646555\n",
      "已丢弃 1646555 行 'annotation' (MET) 为空或无效的数据。\n",
      "最终格式化 'time' 列为 HH:MM:SS.ffffff ...\n",
      "当前剩余有效数据行数: 5102687\n",
      "最终数据列: ['time', 'x', 'y', 'z', 'magnitude', 'annotation']\n",
      "正在将处理后的数据保存到: ./../TrainingSet/P036.csv\n",
      "--- 文件 P036.csv 预处理完成。 ---\n",
      "----------------------------------------\n",
      "\n",
      ">>> 开始处理文件: P037.csv <<<\n",
      "\n",
      "--- 开始预处理文件: /Users/annfengdeye/Desktop/4.19/B题-全部数据/附件1/P037.csv ---\n"
     ]
    },
    {
     "name": "stderr",
     "output_type": "stream",
     "text": [
      "/var/folders/n7/h8vtfbcn3cn8b86gk1fgql700000gn/T/ipykernel_11276/62236121.py:33: DtypeWarning: Columns (4) have mixed types. Specify dtype option on import or set low_memory=False.\n",
      "  df = pd.read_csv(input_csv_path, dtype={'time': str})\n"
     ]
    },
    {
     "name": "stdout",
     "output_type": "stream",
     "text": [
      "成功从 /Users/annfengdeye/Desktop/4.19/B题-全部数据/附件1/P037.csv 读取 9180001 行数据\n",
      "正在处理 'time' 列 (使用完整日期时间进行计算)...\n",
      "因时间间隔不一致、格式错误或无法填充的间隙，丢弃了 0 行数据。\n",
      "正在处理 'x', 'y', 'z' 列...\n",
      "填充前 'x' 列的空值数量: 0\n",
      "填充前 'y' 列的空值数量: 0\n",
      "填充前 'z' 列的空值数量: 0\n",
      "正在计算并添加 'magnitude' 列...\n",
      "正在去除连续重复的 'x', 'y', 'z' 行...\n",
      "因 x, y, z 值与上一行连续相同，去除了 3029861 行重复数据。\n",
      "正在处理 'annotation' 列...\n",
      "将因'annotation'列为空或无法提取MET值而丢弃的行数: 3279428\n",
      "已丢弃 3279428 行 'annotation' (MET) 为空或无效的数据。\n",
      "最终格式化 'time' 列为 HH:MM:SS.ffffff ...\n",
      "当前剩余有效数据行数: 2870712\n",
      "最终数据列: ['time', 'x', 'y', 'z', 'magnitude', 'annotation']\n",
      "正在将处理后的数据保存到: ./../TrainingSet/P037.csv\n",
      "--- 文件 P037.csv 预处理完成。 ---\n",
      "----------------------------------------\n",
      "\n",
      ">>> 开始处理文件: P038.csv <<<\n",
      "\n",
      "--- 开始预处理文件: /Users/annfengdeye/Desktop/4.19/B题-全部数据/附件1/P038.csv ---\n"
     ]
    },
    {
     "name": "stderr",
     "output_type": "stream",
     "text": [
      "/var/folders/n7/h8vtfbcn3cn8b86gk1fgql700000gn/T/ipykernel_11276/62236121.py:33: DtypeWarning: Columns (4) have mixed types. Specify dtype option on import or set low_memory=False.\n",
      "  df = pd.read_csv(input_csv_path, dtype={'time': str})\n"
     ]
    },
    {
     "name": "stdout",
     "output_type": "stream",
     "text": [
      "成功从 /Users/annfengdeye/Desktop/4.19/B题-全部数据/附件1/P038.csv 读取 9180001 行数据\n",
      "正在处理 'time' 列 (使用完整日期时间进行计算)...\n",
      "因时间间隔不一致、格式错误或无法填充的间隙，丢弃了 0 行数据。\n",
      "正在处理 'x', 'y', 'z' 列...\n",
      "填充前 'x' 列的空值数量: 0\n",
      "填充前 'y' 列的空值数量: 0\n",
      "填充前 'z' 列的空值数量: 0\n",
      "正在计算并添加 'magnitude' 列...\n",
      "正在去除连续重复的 'x', 'y', 'z' 行...\n",
      "因 x, y, z 值与上一行连续相同，去除了 3215866 行重复数据。\n",
      "正在处理 'annotation' 列...\n",
      "将因'annotation'列为空或无法提取MET值而丢弃的行数: 2667136\n",
      "已丢弃 2667136 行 'annotation' (MET) 为空或无效的数据。\n",
      "最终格式化 'time' 列为 HH:MM:SS.ffffff ...\n",
      "当前剩余有效数据行数: 3296999\n",
      "最终数据列: ['time', 'x', 'y', 'z', 'magnitude', 'annotation']\n",
      "正在将处理后的数据保存到: ./../TrainingSet/P038.csv\n",
      "--- 文件 P038.csv 预处理完成。 ---\n",
      "----------------------------------------\n",
      "\n",
      ">>> 开始处理文件: P039.csv <<<\n",
      "\n",
      "--- 开始预处理文件: /Users/annfengdeye/Desktop/4.19/B题-全部数据/附件1/P039.csv ---\n"
     ]
    },
    {
     "name": "stderr",
     "output_type": "stream",
     "text": [
      "/var/folders/n7/h8vtfbcn3cn8b86gk1fgql700000gn/T/ipykernel_11276/62236121.py:33: DtypeWarning: Columns (4) have mixed types. Specify dtype option on import or set low_memory=False.\n",
      "  df = pd.read_csv(input_csv_path, dtype={'time': str})\n"
     ]
    },
    {
     "name": "stdout",
     "output_type": "stream",
     "text": [
      "成功从 /Users/annfengdeye/Desktop/4.19/B题-全部数据/附件1/P039.csv 读取 9720001 行数据\n",
      "正在处理 'time' 列 (使用完整日期时间进行计算)...\n",
      "因时间间隔不一致、格式错误或无法填充的间隙，丢弃了 0 行数据。\n",
      "正在处理 'x', 'y', 'z' 列...\n",
      "填充前 'x' 列的空值数量: 0\n",
      "填充前 'y' 列的空值数量: 0\n",
      "填充前 'z' 列的空值数量: 0\n",
      "正在计算并添加 'magnitude' 列...\n",
      "正在去除连续重复的 'x', 'y', 'z' 行...\n",
      "因 x, y, z 值与上一行连续相同，去除了 3141326 行重复数据。\n",
      "正在处理 'annotation' 列...\n",
      "将因'annotation'列为空或无法提取MET值而丢弃的行数: 2225491\n",
      "已丢弃 2225491 行 'annotation' (MET) 为空或无效的数据。\n",
      "最终格式化 'time' 列为 HH:MM:SS.ffffff ...\n",
      "当前剩余有效数据行数: 4353184\n",
      "最终数据列: ['time', 'x', 'y', 'z', 'magnitude', 'annotation']\n",
      "正在将处理后的数据保存到: ./../TrainingSet/P039.csv\n",
      "--- 文件 P039.csv 预处理完成。 ---\n",
      "----------------------------------------\n",
      "\n",
      ">>> 开始处理文件: P040.csv <<<\n",
      "\n",
      "--- 开始预处理文件: /Users/annfengdeye/Desktop/4.19/B题-全部数据/附件1/P040.csv ---\n"
     ]
    },
    {
     "name": "stderr",
     "output_type": "stream",
     "text": [
      "/var/folders/n7/h8vtfbcn3cn8b86gk1fgql700000gn/T/ipykernel_11276/62236121.py:33: DtypeWarning: Columns (4) have mixed types. Specify dtype option on import or set low_memory=False.\n",
      "  df = pd.read_csv(input_csv_path, dtype={'time': str})\n"
     ]
    },
    {
     "name": "stdout",
     "output_type": "stream",
     "text": [
      "成功从 /Users/annfengdeye/Desktop/4.19/B题-全部数据/附件1/P040.csv 读取 9480001 行数据\n",
      "正在处理 'time' 列 (使用完整日期时间进行计算)...\n",
      "因时间间隔不一致、格式错误或无法填充的间隙，丢弃了 0 行数据。\n",
      "正在处理 'x', 'y', 'z' 列...\n",
      "填充前 'x' 列的空值数量: 0\n",
      "填充前 'y' 列的空值数量: 0\n",
      "填充前 'z' 列的空值数量: 0\n",
      "正在计算并添加 'magnitude' 列...\n",
      "正在去除连续重复的 'x', 'y', 'z' 行...\n",
      "因 x, y, z 值与上一行连续相同，去除了 3095476 行重复数据。\n",
      "正在处理 'annotation' 列...\n",
      "将因'annotation'列为空或无法提取MET值而丢弃的行数: 2557801\n",
      "已丢弃 2557801 行 'annotation' (MET) 为空或无效的数据。\n",
      "最终格式化 'time' 列为 HH:MM:SS.ffffff ...\n",
      "当前剩余有效数据行数: 3826724\n",
      "最终数据列: ['time', 'x', 'y', 'z', 'magnitude', 'annotation']\n",
      "正在将处理后的数据保存到: ./../TrainingSet/P040.csv\n",
      "--- 文件 P040.csv 预处理完成。 ---\n",
      "----------------------------------------\n",
      "\n",
      ">>> 开始处理文件: P041.csv <<<\n",
      "\n",
      "--- 开始预处理文件: /Users/annfengdeye/Desktop/4.19/B题-全部数据/附件1/P041.csv ---\n"
     ]
    },
    {
     "name": "stderr",
     "output_type": "stream",
     "text": [
      "/var/folders/n7/h8vtfbcn3cn8b86gk1fgql700000gn/T/ipykernel_11276/62236121.py:33: DtypeWarning: Columns (4) have mixed types. Specify dtype option on import or set low_memory=False.\n",
      "  df = pd.read_csv(input_csv_path, dtype={'time': str})\n"
     ]
    },
    {
     "name": "stdout",
     "output_type": "stream",
     "text": [
      "成功从 /Users/annfengdeye/Desktop/4.19/B题-全部数据/附件1/P041.csv 读取 9510001 行数据\n",
      "正在处理 'time' 列 (使用完整日期时间进行计算)...\n",
      "因时间间隔不一致、格式错误或无法填充的间隙，丢弃了 0 行数据。\n",
      "正在处理 'x', 'y', 'z' 列...\n",
      "填充前 'x' 列的空值数量: 0\n",
      "填充前 'y' 列的空值数量: 0\n",
      "填充前 'z' 列的空值数量: 0\n",
      "正在计算并添加 'magnitude' 列...\n",
      "正在去除连续重复的 'x', 'y', 'z' 行...\n",
      "因 x, y, z 值与上一行连续相同，去除了 2881165 行重复数据。\n",
      "正在处理 'annotation' 列...\n",
      "将因'annotation'列为空或无法提取MET值而丢弃的行数: 1173226\n",
      "已丢弃 1173226 行 'annotation' (MET) 为空或无效的数据。\n",
      "最终格式化 'time' 列为 HH:MM:SS.ffffff ...\n",
      "当前剩余有效数据行数: 5455610\n",
      "最终数据列: ['time', 'x', 'y', 'z', 'magnitude', 'annotation']\n",
      "正在将处理后的数据保存到: ./../TrainingSet/P041.csv\n",
      "--- 文件 P041.csv 预处理完成。 ---\n",
      "----------------------------------------\n",
      "\n",
      ">>> 开始处理文件: P042.csv <<<\n",
      "\n",
      "--- 开始预处理文件: /Users/annfengdeye/Desktop/4.19/B题-全部数据/附件1/P042.csv ---\n"
     ]
    },
    {
     "name": "stderr",
     "output_type": "stream",
     "text": [
      "/var/folders/n7/h8vtfbcn3cn8b86gk1fgql700000gn/T/ipykernel_11276/62236121.py:33: DtypeWarning: Columns (4) have mixed types. Specify dtype option on import or set low_memory=False.\n",
      "  df = pd.read_csv(input_csv_path, dtype={'time': str})\n"
     ]
    },
    {
     "name": "stdout",
     "output_type": "stream",
     "text": [
      "成功从 /Users/annfengdeye/Desktop/4.19/B题-全部数据/附件1/P042.csv 读取 9720001 行数据\n",
      "正在处理 'time' 列 (使用完整日期时间进行计算)...\n",
      "因时间间隔不一致、格式错误或无法填充的间隙，丢弃了 0 行数据。\n",
      "正在处理 'x', 'y', 'z' 列...\n",
      "填充前 'x' 列的空值数量: 0\n",
      "填充前 'y' 列的空值数量: 0\n",
      "填充前 'z' 列的空值数量: 0\n",
      "正在计算并添加 'magnitude' 列...\n",
      "正在去除连续重复的 'x', 'y', 'z' 行...\n",
      "因 x, y, z 值与上一行连续相同，去除了 3422490 行重复数据。\n",
      "正在处理 'annotation' 列...\n",
      "将因'annotation'列为空或无法提取MET值而丢弃的行数: 2142119\n",
      "已丢弃 2142119 行 'annotation' (MET) 为空或无效的数据。\n",
      "最终格式化 'time' 列为 HH:MM:SS.ffffff ...\n",
      "当前剩余有效数据行数: 4155392\n",
      "最终数据列: ['time', 'x', 'y', 'z', 'magnitude', 'annotation']\n",
      "正在将处理后的数据保存到: ./../TrainingSet/P042.csv\n",
      "--- 文件 P042.csv 预处理完成。 ---\n",
      "----------------------------------------\n",
      "\n",
      ">>> 开始处理文件: P043.csv <<<\n",
      "\n",
      "--- 开始预处理文件: /Users/annfengdeye/Desktop/4.19/B题-全部数据/附件1/P043.csv ---\n"
     ]
    },
    {
     "name": "stderr",
     "output_type": "stream",
     "text": [
      "/var/folders/n7/h8vtfbcn3cn8b86gk1fgql700000gn/T/ipykernel_11276/62236121.py:33: DtypeWarning: Columns (4) have mixed types. Specify dtype option on import or set low_memory=False.\n",
      "  df = pd.read_csv(input_csv_path, dtype={'time': str})\n"
     ]
    },
    {
     "name": "stdout",
     "output_type": "stream",
     "text": [
      "成功从 /Users/annfengdeye/Desktop/4.19/B题-全部数据/附件1/P043.csv 读取 10440001 行数据\n",
      "正在处理 'time' 列 (使用完整日期时间进行计算)...\n",
      "因时间间隔不一致、格式错误或无法填充的间隙，丢弃了 0 行数据。\n",
      "正在处理 'x', 'y', 'z' 列...\n",
      "填充前 'x' 列的空值数量: 0\n",
      "填充前 'y' 列的空值数量: 0\n",
      "填充前 'z' 列的空值数量: 0\n",
      "正在计算并添加 'magnitude' 列...\n",
      "正在去除连续重复的 'x', 'y', 'z' 行...\n",
      "因 x, y, z 值与上一行连续相同，去除了 3089511 行重复数据。\n",
      "正在处理 'annotation' 列...\n",
      "将因'annotation'列为空或无法提取MET值而丢弃的行数: 1576486\n",
      "已丢弃 1576486 行 'annotation' (MET) 为空或无效的数据。\n",
      "最终格式化 'time' 列为 HH:MM:SS.ffffff ...\n",
      "当前剩余有效数据行数: 5774004\n",
      "最终数据列: ['time', 'x', 'y', 'z', 'magnitude', 'annotation']\n",
      "正在将处理后的数据保存到: ./../TrainingSet/P043.csv\n",
      "--- 文件 P043.csv 预处理完成。 ---\n",
      "----------------------------------------\n",
      "\n",
      ">>> 开始处理文件: P044.csv <<<\n",
      "\n",
      "--- 开始预处理文件: /Users/annfengdeye/Desktop/4.19/B题-全部数据/附件1/P044.csv ---\n"
     ]
    },
    {
     "name": "stderr",
     "output_type": "stream",
     "text": [
      "/var/folders/n7/h8vtfbcn3cn8b86gk1fgql700000gn/T/ipykernel_11276/62236121.py:33: DtypeWarning: Columns (4) have mixed types. Specify dtype option on import or set low_memory=False.\n",
      "  df = pd.read_csv(input_csv_path, dtype={'time': str})\n"
     ]
    },
    {
     "name": "stdout",
     "output_type": "stream",
     "text": [
      "成功从 /Users/annfengdeye/Desktop/4.19/B题-全部数据/附件1/P044.csv 读取 9360001 行数据\n",
      "正在处理 'time' 列 (使用完整日期时间进行计算)...\n",
      "因时间间隔不一致、格式错误或无法填充的间隙，丢弃了 0 行数据。\n",
      "正在处理 'x', 'y', 'z' 列...\n",
      "填充前 'x' 列的空值数量: 0\n",
      "填充前 'y' 列的空值数量: 0\n",
      "填充前 'z' 列的空值数量: 0\n",
      "正在计算并添加 'magnitude' 列...\n",
      "正在去除连续重复的 'x', 'y', 'z' 行...\n",
      "因 x, y, z 值与上一行连续相同，去除了 3414590 行重复数据。\n",
      "正在处理 'annotation' 列...\n",
      "将因'annotation'列为空或无法提取MET值而丢弃的行数: 2433576\n",
      "已丢弃 2433576 行 'annotation' (MET) 为空或无效的数据。\n",
      "最终格式化 'time' 列为 HH:MM:SS.ffffff ...\n",
      "当前剩余有效数据行数: 3511835\n",
      "最终数据列: ['time', 'x', 'y', 'z', 'magnitude', 'annotation']\n",
      "正在将处理后的数据保存到: ./../TrainingSet/P044.csv\n",
      "--- 文件 P044.csv 预处理完成。 ---\n",
      "----------------------------------------\n",
      "\n",
      ">>> 开始处理文件: P045.csv <<<\n",
      "\n",
      "--- 开始预处理文件: /Users/annfengdeye/Desktop/4.19/B题-全部数据/附件1/P045.csv ---\n"
     ]
    },
    {
     "name": "stderr",
     "output_type": "stream",
     "text": [
      "/var/folders/n7/h8vtfbcn3cn8b86gk1fgql700000gn/T/ipykernel_11276/62236121.py:33: DtypeWarning: Columns (4) have mixed types. Specify dtype option on import or set low_memory=False.\n",
      "  df = pd.read_csv(input_csv_path, dtype={'time': str})\n"
     ]
    },
    {
     "name": "stdout",
     "output_type": "stream",
     "text": [
      "成功从 /Users/annfengdeye/Desktop/4.19/B题-全部数据/附件1/P045.csv 读取 9540001 行数据\n",
      "正在处理 'time' 列 (使用完整日期时间进行计算)...\n",
      "因时间间隔不一致、格式错误或无法填充的间隙，丢弃了 0 行数据。\n",
      "正在处理 'x', 'y', 'z' 列...\n",
      "填充前 'x' 列的空值数量: 0\n",
      "填充前 'y' 列的空值数量: 0\n",
      "填充前 'z' 列的空值数量: 0\n",
      "正在计算并添加 'magnitude' 列...\n",
      "正在去除连续重复的 'x', 'y', 'z' 行...\n",
      "因 x, y, z 值与上一行连续相同，去除了 3804973 行重复数据。\n",
      "正在处理 'annotation' 列...\n",
      "将因'annotation'列为空或无法提取MET值而丢弃的行数: 1988137\n",
      "已丢弃 1988137 行 'annotation' (MET) 为空或无效的数据。\n",
      "最终格式化 'time' 列为 HH:MM:SS.ffffff ...\n",
      "当前剩余有效数据行数: 3746891\n",
      "最终数据列: ['time', 'x', 'y', 'z', 'magnitude', 'annotation']\n",
      "正在将处理后的数据保存到: ./../TrainingSet/P045.csv\n",
      "--- 文件 P045.csv 预处理完成。 ---\n",
      "----------------------------------------\n",
      "\n",
      ">>> 开始处理文件: P046.csv <<<\n",
      "\n",
      "--- 开始预处理文件: /Users/annfengdeye/Desktop/4.19/B题-全部数据/附件1/P046.csv ---\n"
     ]
    },
    {
     "name": "stderr",
     "output_type": "stream",
     "text": [
      "/var/folders/n7/h8vtfbcn3cn8b86gk1fgql700000gn/T/ipykernel_11276/62236121.py:33: DtypeWarning: Columns (4) have mixed types. Specify dtype option on import or set low_memory=False.\n",
      "  df = pd.read_csv(input_csv_path, dtype={'time': str})\n"
     ]
    },
    {
     "name": "stdout",
     "output_type": "stream",
     "text": [
      "成功从 /Users/annfengdeye/Desktop/4.19/B题-全部数据/附件1/P046.csv 读取 9510001 行数据\n",
      "正在处理 'time' 列 (使用完整日期时间进行计算)...\n",
      "因时间间隔不一致、格式错误或无法填充的间隙，丢弃了 0 行数据。\n",
      "正在处理 'x', 'y', 'z' 列...\n",
      "填充前 'x' 列的空值数量: 0\n",
      "填充前 'y' 列的空值数量: 0\n",
      "填充前 'z' 列的空值数量: 0\n",
      "正在计算并添加 'magnitude' 列...\n",
      "正在去除连续重复的 'x', 'y', 'z' 行...\n",
      "因 x, y, z 值与上一行连续相同，去除了 2797404 行重复数据。\n",
      "正在处理 'annotation' 列...\n",
      "将因'annotation'列为空或无法提取MET值而丢弃的行数: 1633840\n",
      "已丢弃 1633840 行 'annotation' (MET) 为空或无效的数据。\n",
      "最终格式化 'time' 列为 HH:MM:SS.ffffff ...\n",
      "当前剩余有效数据行数: 5078757\n",
      "最终数据列: ['time', 'x', 'y', 'z', 'magnitude', 'annotation']\n",
      "正在将处理后的数据保存到: ./../TrainingSet/P046.csv\n",
      "--- 文件 P046.csv 预处理完成。 ---\n",
      "----------------------------------------\n",
      "\n",
      ">>> 开始处理文件: P047.csv <<<\n",
      "\n",
      "--- 开始预处理文件: /Users/annfengdeye/Desktop/4.19/B题-全部数据/附件1/P047.csv ---\n"
     ]
    },
    {
     "name": "stderr",
     "output_type": "stream",
     "text": [
      "/var/folders/n7/h8vtfbcn3cn8b86gk1fgql700000gn/T/ipykernel_11276/62236121.py:33: DtypeWarning: Columns (4) have mixed types. Specify dtype option on import or set low_memory=False.\n",
      "  df = pd.read_csv(input_csv_path, dtype={'time': str})\n"
     ]
    },
    {
     "name": "stdout",
     "output_type": "stream",
     "text": [
      "成功从 /Users/annfengdeye/Desktop/4.19/B题-全部数据/附件1/P047.csv 读取 9360001 行数据\n",
      "正在处理 'time' 列 (使用完整日期时间进行计算)...\n",
      "因时间间隔不一致、格式错误或无法填充的间隙，丢弃了 0 行数据。\n",
      "正在处理 'x', 'y', 'z' 列...\n",
      "填充前 'x' 列的空值数量: 0\n",
      "填充前 'y' 列的空值数量: 0\n",
      "填充前 'z' 列的空值数量: 0\n",
      "正在计算并添加 'magnitude' 列...\n",
      "正在去除连续重复的 'x', 'y', 'z' 行...\n",
      "因 x, y, z 值与上一行连续相同，去除了 3090164 行重复数据。\n",
      "正在处理 'annotation' 列...\n",
      "将因'annotation'列为空或无法提取MET值而丢弃的行数: 3964760\n",
      "已丢弃 3964760 行 'annotation' (MET) 为空或无效的数据。\n",
      "最终格式化 'time' 列为 HH:MM:SS.ffffff ...\n",
      "当前剩余有效数据行数: 2305077\n",
      "最终数据列: ['time', 'x', 'y', 'z', 'magnitude', 'annotation']\n",
      "正在将处理后的数据保存到: ./../TrainingSet/P047.csv\n",
      "--- 文件 P047.csv 预处理完成。 ---\n",
      "----------------------------------------\n",
      "\n",
      ">>> 开始处理文件: P048.csv <<<\n",
      "\n",
      "--- 开始预处理文件: /Users/annfengdeye/Desktop/4.19/B题-全部数据/附件1/P048.csv ---\n"
     ]
    },
    {
     "name": "stderr",
     "output_type": "stream",
     "text": [
      "/var/folders/n7/h8vtfbcn3cn8b86gk1fgql700000gn/T/ipykernel_11276/62236121.py:33: DtypeWarning: Columns (4) have mixed types. Specify dtype option on import or set low_memory=False.\n",
      "  df = pd.read_csv(input_csv_path, dtype={'time': str})\n"
     ]
    },
    {
     "name": "stdout",
     "output_type": "stream",
     "text": [
      "成功从 /Users/annfengdeye/Desktop/4.19/B题-全部数据/附件1/P048.csv 读取 9180001 行数据\n",
      "正在处理 'time' 列 (使用完整日期时间进行计算)...\n",
      "因时间间隔不一致、格式错误或无法填充的间隙，丢弃了 0 行数据。\n",
      "正在处理 'x', 'y', 'z' 列...\n",
      "填充前 'x' 列的空值数量: 0\n",
      "填充前 'y' 列的空值数量: 0\n",
      "填充前 'z' 列的空值数量: 0\n",
      "正在计算并添加 'magnitude' 列...\n",
      "正在去除连续重复的 'x', 'y', 'z' 行...\n",
      "因 x, y, z 值与上一行连续相同，去除了 2825853 行重复数据。\n",
      "正在处理 'annotation' 列...\n",
      "将因'annotation'列为空或无法提取MET值而丢弃的行数: 2607043\n",
      "已丢弃 2607043 行 'annotation' (MET) 为空或无效的数据。\n",
      "最终格式化 'time' 列为 HH:MM:SS.ffffff ...\n",
      "当前剩余有效数据行数: 3747105\n",
      "最终数据列: ['time', 'x', 'y', 'z', 'magnitude', 'annotation']\n",
      "正在将处理后的数据保存到: ./../TrainingSet/P048.csv\n",
      "--- 文件 P048.csv 预处理完成。 ---\n",
      "----------------------------------------\n",
      "\n",
      ">>> 开始处理文件: P049.csv <<<\n",
      "\n",
      "--- 开始预处理文件: /Users/annfengdeye/Desktop/4.19/B题-全部数据/附件1/P049.csv ---\n"
     ]
    },
    {
     "name": "stderr",
     "output_type": "stream",
     "text": [
      "/var/folders/n7/h8vtfbcn3cn8b86gk1fgql700000gn/T/ipykernel_11276/62236121.py:33: DtypeWarning: Columns (4) have mixed types. Specify dtype option on import or set low_memory=False.\n",
      "  df = pd.read_csv(input_csv_path, dtype={'time': str})\n"
     ]
    },
    {
     "name": "stdout",
     "output_type": "stream",
     "text": [
      "成功从 /Users/annfengdeye/Desktop/4.19/B题-全部数据/附件1/P049.csv 读取 9585588 行数据\n",
      "正在处理 'time' 列 (使用完整日期时间进行计算)...\n",
      "因时间间隔不一致、格式错误或无法填充的间隙，丢弃了 1 行数据。\n",
      "正在处理 'x', 'y', 'z' 列...\n",
      "填充前 'x' 列的空值数量: 0\n",
      "填充前 'y' 列的空值数量: 0\n",
      "填充前 'z' 列的空值数量: 0\n",
      "正在计算并添加 'magnitude' 列...\n",
      "正在去除连续重复的 'x', 'y', 'z' 行...\n",
      "因 x, y, z 值与上一行连续相同，去除了 3996340 行重复数据。\n",
      "正在处理 'annotation' 列...\n",
      "将因'annotation'列为空或无法提取MET值而丢弃的行数: 1694404\n",
      "已丢弃 1694404 行 'annotation' (MET) 为空或无效的数据。\n",
      "最终格式化 'time' 列为 HH:MM:SS.ffffff ...\n",
      "当前剩余有效数据行数: 3894843\n",
      "最终数据列: ['time', 'x', 'y', 'z', 'magnitude', 'annotation']\n",
      "正在将处理后的数据保存到: ./../TrainingSet/P049.csv\n",
      "--- 文件 P049.csv 预处理完成。 ---\n",
      "----------------------------------------\n",
      "\n",
      ">>> 开始处理文件: P050.csv <<<\n",
      "\n",
      "--- 开始预处理文件: /Users/annfengdeye/Desktop/4.19/B题-全部数据/附件1/P050.csv ---\n"
     ]
    },
    {
     "name": "stderr",
     "output_type": "stream",
     "text": [
      "/var/folders/n7/h8vtfbcn3cn8b86gk1fgql700000gn/T/ipykernel_11276/62236121.py:33: DtypeWarning: Columns (4) have mixed types. Specify dtype option on import or set low_memory=False.\n",
      "  df = pd.read_csv(input_csv_path, dtype={'time': str})\n"
     ]
    },
    {
     "name": "stdout",
     "output_type": "stream",
     "text": [
      "成功从 /Users/annfengdeye/Desktop/4.19/B题-全部数据/附件1/P050.csv 读取 9660001 行数据\n",
      "正在处理 'time' 列 (使用完整日期时间进行计算)...\n",
      "因时间间隔不一致、格式错误或无法填充的间隙，丢弃了 0 行数据。\n",
      "正在处理 'x', 'y', 'z' 列...\n",
      "填充前 'x' 列的空值数量: 0\n",
      "填充前 'y' 列的空值数量: 0\n",
      "填充前 'z' 列的空值数量: 0\n",
      "正在计算并添加 'magnitude' 列...\n",
      "正在去除连续重复的 'x', 'y', 'z' 行...\n",
      "因 x, y, z 值与上一行连续相同，去除了 3486392 行重复数据。\n",
      "正在处理 'annotation' 列...\n",
      "将因'annotation'列为空或无法提取MET值而丢弃的行数: 3501932\n",
      "已丢弃 3501932 行 'annotation' (MET) 为空或无效的数据。\n",
      "最终格式化 'time' 列为 HH:MM:SS.ffffff ...\n",
      "当前剩余有效数据行数: 2671677\n",
      "最终数据列: ['time', 'x', 'y', 'z', 'magnitude', 'annotation']\n",
      "正在将处理后的数据保存到: ./../TrainingSet/P050.csv\n",
      "--- 文件 P050.csv 预处理完成。 ---\n",
      "----------------------------------------\n",
      "\n",
      ">>> 开始处理文件: P051.csv <<<\n",
      "\n",
      "--- 开始预处理文件: /Users/annfengdeye/Desktop/4.19/B题-全部数据/附件1/P051.csv ---\n"
     ]
    },
    {
     "name": "stderr",
     "output_type": "stream",
     "text": [
      "/var/folders/n7/h8vtfbcn3cn8b86gk1fgql700000gn/T/ipykernel_11276/62236121.py:33: DtypeWarning: Columns (4) have mixed types. Specify dtype option on import or set low_memory=False.\n",
      "  df = pd.read_csv(input_csv_path, dtype={'time': str})\n"
     ]
    },
    {
     "name": "stdout",
     "output_type": "stream",
     "text": [
      "成功从 /Users/annfengdeye/Desktop/4.19/B题-全部数据/附件1/P051.csv 读取 8910001 行数据\n",
      "正在处理 'time' 列 (使用完整日期时间进行计算)...\n",
      "因时间间隔不一致、格式错误或无法填充的间隙，丢弃了 0 行数据。\n",
      "正在处理 'x', 'y', 'z' 列...\n",
      "填充前 'x' 列的空值数量: 0\n",
      "填充前 'y' 列的空值数量: 0\n",
      "填充前 'z' 列的空值数量: 0\n",
      "正在计算并添加 'magnitude' 列...\n",
      "正在去除连续重复的 'x', 'y', 'z' 行...\n",
      "因 x, y, z 值与上一行连续相同，去除了 2613769 行重复数据。\n",
      "正在处理 'annotation' 列...\n",
      "将因'annotation'列为空或无法提取MET值而丢弃的行数: 1925853\n",
      "已丢弃 1925853 行 'annotation' (MET) 为空或无效的数据。\n",
      "最终格式化 'time' 列为 HH:MM:SS.ffffff ...\n",
      "当前剩余有效数据行数: 4370379\n",
      "最终数据列: ['time', 'x', 'y', 'z', 'magnitude', 'annotation']\n",
      "正在将处理后的数据保存到: ./../TrainingSet/P051.csv\n",
      "--- 文件 P051.csv 预处理完成。 ---\n",
      "----------------------------------------\n",
      "\n",
      ">>> 开始处理文件: P052.csv <<<\n",
      "\n",
      "--- 开始预处理文件: /Users/annfengdeye/Desktop/4.19/B题-全部数据/附件1/P052.csv ---\n"
     ]
    },
    {
     "name": "stderr",
     "output_type": "stream",
     "text": [
      "/var/folders/n7/h8vtfbcn3cn8b86gk1fgql700000gn/T/ipykernel_11276/62236121.py:33: DtypeWarning: Columns (4) have mixed types. Specify dtype option on import or set low_memory=False.\n",
      "  df = pd.read_csv(input_csv_path, dtype={'time': str})\n"
     ]
    },
    {
     "name": "stdout",
     "output_type": "stream",
     "text": [
      "成功从 /Users/annfengdeye/Desktop/4.19/B题-全部数据/附件1/P052.csv 读取 8827878 行数据\n",
      "正在处理 'time' 列 (使用完整日期时间进行计算)...\n",
      "因时间间隔不一致、格式错误或无法填充的间隙，丢弃了 0 行数据。\n",
      "正在处理 'x', 'y', 'z' 列...\n",
      "填充前 'x' 列的空值数量: 0\n",
      "填充前 'y' 列的空值数量: 0\n",
      "填充前 'z' 列的空值数量: 0\n",
      "正在计算并添加 'magnitude' 列...\n",
      "正在去除连续重复的 'x', 'y', 'z' 行...\n",
      "因 x, y, z 值与上一行连续相同，去除了 2550137 行重复数据。\n",
      "正在处理 'annotation' 列...\n",
      "将因'annotation'列为空或无法提取MET值而丢弃的行数: 1727429\n",
      "已丢弃 1727429 行 'annotation' (MET) 为空或无效的数据。\n",
      "最终格式化 'time' 列为 HH:MM:SS.ffffff ...\n",
      "当前剩余有效数据行数: 4550312\n",
      "最终数据列: ['time', 'x', 'y', 'z', 'magnitude', 'annotation']\n",
      "正在将处理后的数据保存到: ./../TrainingSet/P052.csv\n",
      "--- 文件 P052.csv 预处理完成。 ---\n",
      "----------------------------------------\n",
      "\n",
      ">>> 开始处理文件: P053.csv <<<\n",
      "\n",
      "--- 开始预处理文件: /Users/annfengdeye/Desktop/4.19/B题-全部数据/附件1/P053.csv ---\n"
     ]
    },
    {
     "name": "stderr",
     "output_type": "stream",
     "text": [
      "/var/folders/n7/h8vtfbcn3cn8b86gk1fgql700000gn/T/ipykernel_11276/62236121.py:33: DtypeWarning: Columns (4) have mixed types. Specify dtype option on import or set low_memory=False.\n",
      "  df = pd.read_csv(input_csv_path, dtype={'time': str})\n"
     ]
    },
    {
     "name": "stdout",
     "output_type": "stream",
     "text": [
      "成功从 /Users/annfengdeye/Desktop/4.19/B题-全部数据/附件1/P053.csv 读取 9090001 行数据\n",
      "正在处理 'time' 列 (使用完整日期时间进行计算)...\n",
      "因时间间隔不一致、格式错误或无法填充的间隙，丢弃了 0 行数据。\n",
      "正在处理 'x', 'y', 'z' 列...\n",
      "填充前 'x' 列的空值数量: 0\n",
      "填充前 'y' 列的空值数量: 0\n",
      "填充前 'z' 列的空值数量: 0\n",
      "正在计算并添加 'magnitude' 列...\n",
      "正在去除连续重复的 'x', 'y', 'z' 行...\n",
      "因 x, y, z 值与上一行连续相同，去除了 2680353 行重复数据。\n",
      "正在处理 'annotation' 列...\n",
      "将因'annotation'列为空或无法提取MET值而丢弃的行数: 2800516\n",
      "已丢弃 2800516 行 'annotation' (MET) 为空或无效的数据。\n",
      "最终格式化 'time' 列为 HH:MM:SS.ffffff ...\n",
      "当前剩余有效数据行数: 3609132\n",
      "最终数据列: ['time', 'x', 'y', 'z', 'magnitude', 'annotation']\n",
      "正在将处理后的数据保存到: ./../TrainingSet/P053.csv\n",
      "--- 文件 P053.csv 预处理完成。 ---\n",
      "----------------------------------------\n",
      "\n",
      ">>> 开始处理文件: P054.csv <<<\n",
      "\n",
      "--- 开始预处理文件: /Users/annfengdeye/Desktop/4.19/B题-全部数据/附件1/P054.csv ---\n"
     ]
    },
    {
     "name": "stderr",
     "output_type": "stream",
     "text": [
      "/var/folders/n7/h8vtfbcn3cn8b86gk1fgql700000gn/T/ipykernel_11276/62236121.py:33: DtypeWarning: Columns (4) have mixed types. Specify dtype option on import or set low_memory=False.\n",
      "  df = pd.read_csv(input_csv_path, dtype={'time': str})\n"
     ]
    },
    {
     "name": "stdout",
     "output_type": "stream",
     "text": [
      "成功从 /Users/annfengdeye/Desktop/4.19/B题-全部数据/附件1/P054.csv 读取 8820001 行数据\n",
      "正在处理 'time' 列 (使用完整日期时间进行计算)...\n",
      "因时间间隔不一致、格式错误或无法填充的间隙，丢弃了 0 行数据。\n",
      "正在处理 'x', 'y', 'z' 列...\n",
      "填充前 'x' 列的空值数量: 0\n",
      "填充前 'y' 列的空值数量: 0\n",
      "填充前 'z' 列的空值数量: 0\n",
      "正在计算并添加 'magnitude' 列...\n",
      "正在去除连续重复的 'x', 'y', 'z' 行...\n",
      "因 x, y, z 值与上一行连续相同，去除了 2793418 行重复数据。\n",
      "正在处理 'annotation' 列...\n",
      "将因'annotation'列为空或无法提取MET值而丢弃的行数: 1886779\n",
      "已丢弃 1886779 行 'annotation' (MET) 为空或无效的数据。\n",
      "最终格式化 'time' 列为 HH:MM:SS.ffffff ...\n",
      "当前剩余有效数据行数: 4139804\n",
      "最终数据列: ['time', 'x', 'y', 'z', 'magnitude', 'annotation']\n",
      "正在将处理后的数据保存到: ./../TrainingSet/P054.csv\n",
      "--- 文件 P054.csv 预处理完成。 ---\n",
      "----------------------------------------\n",
      "\n",
      ">>> 开始处理文件: P055.csv <<<\n",
      "\n",
      "--- 开始预处理文件: /Users/annfengdeye/Desktop/4.19/B题-全部数据/附件1/P055.csv ---\n"
     ]
    },
    {
     "name": "stderr",
     "output_type": "stream",
     "text": [
      "/var/folders/n7/h8vtfbcn3cn8b86gk1fgql700000gn/T/ipykernel_11276/62236121.py:33: DtypeWarning: Columns (4) have mixed types. Specify dtype option on import or set low_memory=False.\n",
      "  df = pd.read_csv(input_csv_path, dtype={'time': str})\n"
     ]
    },
    {
     "name": "stdout",
     "output_type": "stream",
     "text": [
      "成功从 /Users/annfengdeye/Desktop/4.19/B题-全部数据/附件1/P055.csv 读取 9900001 行数据\n",
      "正在处理 'time' 列 (使用完整日期时间进行计算)...\n",
      "因时间间隔不一致、格式错误或无法填充的间隙，丢弃了 0 行数据。\n",
      "正在处理 'x', 'y', 'z' 列...\n",
      "填充前 'x' 列的空值数量: 0\n",
      "填充前 'y' 列的空值数量: 0\n",
      "填充前 'z' 列的空值数量: 0\n",
      "正在计算并添加 'magnitude' 列...\n",
      "正在去除连续重复的 'x', 'y', 'z' 行...\n",
      "因 x, y, z 值与上一行连续相同，去除了 3195173 行重复数据。\n",
      "正在处理 'annotation' 列...\n",
      "将因'annotation'列为空或无法提取MET值而丢弃的行数: 1252505\n",
      "已丢弃 1252505 行 'annotation' (MET) 为空或无效的数据。\n",
      "最终格式化 'time' 列为 HH:MM:SS.ffffff ...\n",
      "当前剩余有效数据行数: 5452323\n",
      "最终数据列: ['time', 'x', 'y', 'z', 'magnitude', 'annotation']\n",
      "正在将处理后的数据保存到: ./../TrainingSet/P055.csv\n",
      "--- 文件 P055.csv 预处理完成。 ---\n",
      "----------------------------------------\n",
      "\n",
      ">>> 开始处理文件: P056.csv <<<\n",
      "\n",
      "--- 开始预处理文件: /Users/annfengdeye/Desktop/4.19/B题-全部数据/附件1/P056.csv ---\n"
     ]
    },
    {
     "name": "stderr",
     "output_type": "stream",
     "text": [
      "/var/folders/n7/h8vtfbcn3cn8b86gk1fgql700000gn/T/ipykernel_11276/62236121.py:33: DtypeWarning: Columns (4) have mixed types. Specify dtype option on import or set low_memory=False.\n",
      "  df = pd.read_csv(input_csv_path, dtype={'time': str})\n"
     ]
    },
    {
     "name": "stdout",
     "output_type": "stream",
     "text": [
      "成功从 /Users/annfengdeye/Desktop/4.19/B题-全部数据/附件1/P056.csv 读取 8820001 行数据\n",
      "正在处理 'time' 列 (使用完整日期时间进行计算)...\n",
      "因时间间隔不一致、格式错误或无法填充的间隙，丢弃了 0 行数据。\n",
      "正在处理 'x', 'y', 'z' 列...\n",
      "填充前 'x' 列的空值数量: 0\n",
      "填充前 'y' 列的空值数量: 0\n",
      "填充前 'z' 列的空值数量: 0\n",
      "正在计算并添加 'magnitude' 列...\n",
      "正在去除连续重复的 'x', 'y', 'z' 行...\n",
      "因 x, y, z 值与上一行连续相同，去除了 3245159 行重复数据。\n",
      "正在处理 'annotation' 列...\n",
      "将因'annotation'列为空或无法提取MET值而丢弃的行数: 1301031\n",
      "已丢弃 1301031 行 'annotation' (MET) 为空或无效的数据。\n",
      "最终格式化 'time' 列为 HH:MM:SS.ffffff ...\n",
      "当前剩余有效数据行数: 4273811\n",
      "最终数据列: ['time', 'x', 'y', 'z', 'magnitude', 'annotation']\n",
      "正在将处理后的数据保存到: ./../TrainingSet/P056.csv\n",
      "--- 文件 P056.csv 预处理完成。 ---\n",
      "----------------------------------------\n",
      "\n",
      ">>> 开始处理文件: P057.csv <<<\n",
      "\n",
      "--- 开始预处理文件: /Users/annfengdeye/Desktop/4.19/B题-全部数据/附件1/P057.csv ---\n"
     ]
    },
    {
     "name": "stderr",
     "output_type": "stream",
     "text": [
      "/var/folders/n7/h8vtfbcn3cn8b86gk1fgql700000gn/T/ipykernel_11276/62236121.py:33: DtypeWarning: Columns (4) have mixed types. Specify dtype option on import or set low_memory=False.\n",
      "  df = pd.read_csv(input_csv_path, dtype={'time': str})\n"
     ]
    },
    {
     "name": "stdout",
     "output_type": "stream",
     "text": [
      "成功从 /Users/annfengdeye/Desktop/4.19/B题-全部数据/附件1/P057.csv 读取 9144258 行数据\n",
      "正在处理 'time' 列 (使用完整日期时间进行计算)...\n",
      "因时间间隔不一致、格式错误或无法填充的间隙，丢弃了 1 行数据。\n",
      "正在处理 'x', 'y', 'z' 列...\n",
      "填充前 'x' 列的空值数量: 0\n",
      "填充前 'y' 列的空值数量: 0\n",
      "填充前 'z' 列的空值数量: 0\n",
      "正在计算并添加 'magnitude' 列...\n",
      "正在去除连续重复的 'x', 'y', 'z' 行...\n",
      "因 x, y, z 值与上一行连续相同，去除了 2935969 行重复数据。\n",
      "正在处理 'annotation' 列...\n",
      "将因'annotation'列为空或无法提取MET值而丢弃的行数: 2919139\n",
      "已丢弃 2919139 行 'annotation' (MET) 为空或无效的数据。\n",
      "最终格式化 'time' 列为 HH:MM:SS.ffffff ...\n",
      "当前剩余有效数据行数: 3289149\n",
      "最终数据列: ['time', 'x', 'y', 'z', 'magnitude', 'annotation']\n",
      "正在将处理后的数据保存到: ./../TrainingSet/P057.csv\n",
      "--- 文件 P057.csv 预处理完成。 ---\n",
      "----------------------------------------\n",
      "\n",
      ">>> 开始处理文件: P058.csv <<<\n",
      "\n",
      "--- 开始预处理文件: /Users/annfengdeye/Desktop/4.19/B题-全部数据/附件1/P058.csv ---\n"
     ]
    },
    {
     "name": "stderr",
     "output_type": "stream",
     "text": [
      "/var/folders/n7/h8vtfbcn3cn8b86gk1fgql700000gn/T/ipykernel_11276/62236121.py:33: DtypeWarning: Columns (4) have mixed types. Specify dtype option on import or set low_memory=False.\n",
      "  df = pd.read_csv(input_csv_path, dtype={'time': str})\n"
     ]
    },
    {
     "name": "stdout",
     "output_type": "stream",
     "text": [
      "成功从 /Users/annfengdeye/Desktop/4.19/B题-全部数据/附件1/P058.csv 读取 8820001 行数据\n",
      "正在处理 'time' 列 (使用完整日期时间进行计算)...\n",
      "因时间间隔不一致、格式错误或无法填充的间隙，丢弃了 0 行数据。\n",
      "正在处理 'x', 'y', 'z' 列...\n",
      "填充前 'x' 列的空值数量: 0\n",
      "填充前 'y' 列的空值数量: 0\n",
      "填充前 'z' 列的空值数量: 0\n",
      "正在计算并添加 'magnitude' 列...\n",
      "正在去除连续重复的 'x', 'y', 'z' 行...\n",
      "因 x, y, z 值与上一行连续相同，去除了 2894697 行重复数据。\n",
      "正在处理 'annotation' 列...\n",
      "将因'annotation'列为空或无法提取MET值而丢弃的行数: 1676796\n",
      "已丢弃 1676796 行 'annotation' (MET) 为空或无效的数据。\n",
      "最终格式化 'time' 列为 HH:MM:SS.ffffff ...\n",
      "当前剩余有效数据行数: 4248508\n",
      "最终数据列: ['time', 'x', 'y', 'z', 'magnitude', 'annotation']\n",
      "正在将处理后的数据保存到: ./../TrainingSet/P058.csv\n",
      "--- 文件 P058.csv 预处理完成。 ---\n",
      "----------------------------------------\n",
      "\n",
      ">>> 开始处理文件: P059.csv <<<\n",
      "\n",
      "--- 开始预处理文件: /Users/annfengdeye/Desktop/4.19/B题-全部数据/附件1/P059.csv ---\n"
     ]
    },
    {
     "name": "stderr",
     "output_type": "stream",
     "text": [
      "/var/folders/n7/h8vtfbcn3cn8b86gk1fgql700000gn/T/ipykernel_11276/62236121.py:33: DtypeWarning: Columns (4) have mixed types. Specify dtype option on import or set low_memory=False.\n",
      "  df = pd.read_csv(input_csv_path, dtype={'time': str})\n"
     ]
    },
    {
     "name": "stdout",
     "output_type": "stream",
     "text": [
      "成功从 /Users/annfengdeye/Desktop/4.19/B题-全部数据/附件1/P059.csv 读取 9270001 行数据\n",
      "正在处理 'time' 列 (使用完整日期时间进行计算)...\n",
      "因时间间隔不一致、格式错误或无法填充的间隙，丢弃了 0 行数据。\n",
      "正在处理 'x', 'y', 'z' 列...\n",
      "填充前 'x' 列的空值数量: 0\n",
      "填充前 'y' 列的空值数量: 0\n",
      "填充前 'z' 列的空值数量: 0\n",
      "正在计算并添加 'magnitude' 列...\n",
      "正在去除连续重复的 'x', 'y', 'z' 行...\n",
      "因 x, y, z 值与上一行连续相同，去除了 3254697 行重复数据。\n",
      "正在处理 'annotation' 列...\n",
      "将因'annotation'列为空或无法提取MET值而丢弃的行数: 1308035\n",
      "已丢弃 1308035 行 'annotation' (MET) 为空或无效的数据。\n",
      "最终格式化 'time' 列为 HH:MM:SS.ffffff ...\n",
      "当前剩余有效数据行数: 4707269\n",
      "最终数据列: ['time', 'x', 'y', 'z', 'magnitude', 'annotation']\n",
      "正在将处理后的数据保存到: ./../TrainingSet/P059.csv\n",
      "--- 文件 P059.csv 预处理完成。 ---\n",
      "----------------------------------------\n",
      "\n",
      ">>> 开始处理文件: P060.csv <<<\n",
      "\n",
      "--- 开始预处理文件: /Users/annfengdeye/Desktop/4.19/B题-全部数据/附件1/P060.csv ---\n"
     ]
    },
    {
     "name": "stderr",
     "output_type": "stream",
     "text": [
      "/var/folders/n7/h8vtfbcn3cn8b86gk1fgql700000gn/T/ipykernel_11276/62236121.py:33: DtypeWarning: Columns (4) have mixed types. Specify dtype option on import or set low_memory=False.\n",
      "  df = pd.read_csv(input_csv_path, dtype={'time': str})\n"
     ]
    },
    {
     "name": "stdout",
     "output_type": "stream",
     "text": [
      "成功从 /Users/annfengdeye/Desktop/4.19/B题-全部数据/附件1/P060.csv 读取 9000001 行数据\n",
      "正在处理 'time' 列 (使用完整日期时间进行计算)...\n",
      "因时间间隔不一致、格式错误或无法填充的间隙，丢弃了 0 行数据。\n",
      "正在处理 'x', 'y', 'z' 列...\n",
      "填充前 'x' 列的空值数量: 0\n",
      "填充前 'y' 列的空值数量: 0\n",
      "填充前 'z' 列的空值数量: 0\n",
      "正在计算并添加 'magnitude' 列...\n",
      "正在去除连续重复的 'x', 'y', 'z' 行...\n",
      "因 x, y, z 值与上一行连续相同，去除了 3158870 行重复数据。\n",
      "正在处理 'annotation' 列...\n",
      "将因'annotation'列为空或无法提取MET值而丢弃的行数: 2753589\n",
      "已丢弃 2753589 行 'annotation' (MET) 为空或无效的数据。\n",
      "最终格式化 'time' 列为 HH:MM:SS.ffffff ...\n",
      "当前剩余有效数据行数: 3087542\n",
      "最终数据列: ['time', 'x', 'y', 'z', 'magnitude', 'annotation']\n",
      "正在将处理后的数据保存到: ./../TrainingSet/P060.csv\n",
      "--- 文件 P060.csv 预处理完成。 ---\n",
      "----------------------------------------\n",
      "\n",
      ">>> 开始处理文件: P061.csv <<<\n",
      "\n",
      "--- 开始预处理文件: /Users/annfengdeye/Desktop/4.19/B题-全部数据/附件1/P061.csv ---\n"
     ]
    },
    {
     "name": "stderr",
     "output_type": "stream",
     "text": [
      "/var/folders/n7/h8vtfbcn3cn8b86gk1fgql700000gn/T/ipykernel_11276/62236121.py:33: DtypeWarning: Columns (4) have mixed types. Specify dtype option on import or set low_memory=False.\n",
      "  df = pd.read_csv(input_csv_path, dtype={'time': str})\n"
     ]
    },
    {
     "name": "stdout",
     "output_type": "stream",
     "text": [
      "成功从 /Users/annfengdeye/Desktop/4.19/B题-全部数据/附件1/P061.csv 读取 9960001 行数据\n",
      "正在处理 'time' 列 (使用完整日期时间进行计算)...\n",
      "因时间间隔不一致、格式错误或无法填充的间隙，丢弃了 0 行数据。\n",
      "正在处理 'x', 'y', 'z' 列...\n",
      "填充前 'x' 列的空值数量: 0\n",
      "填充前 'y' 列的空值数量: 0\n",
      "填充前 'z' 列的空值数量: 0\n",
      "正在计算并添加 'magnitude' 列...\n",
      "正在去除连续重复的 'x', 'y', 'z' 行...\n",
      "因 x, y, z 值与上一行连续相同，去除了 3158680 行重复数据。\n",
      "正在处理 'annotation' 列...\n",
      "将因'annotation'列为空或无法提取MET值而丢弃的行数: 2093982\n",
      "已丢弃 2093982 行 'annotation' (MET) 为空或无效的数据。\n",
      "最终格式化 'time' 列为 HH:MM:SS.ffffff ...\n",
      "当前剩余有效数据行数: 4707339\n",
      "最终数据列: ['time', 'x', 'y', 'z', 'magnitude', 'annotation']\n",
      "正在将处理后的数据保存到: ./../TrainingSet/P061.csv\n",
      "--- 文件 P061.csv 预处理完成。 ---\n",
      "----------------------------------------\n",
      "\n",
      ">>> 开始处理文件: P062.csv <<<\n",
      "\n",
      "--- 开始预处理文件: /Users/annfengdeye/Desktop/4.19/B题-全部数据/附件1/P062.csv ---\n"
     ]
    },
    {
     "name": "stderr",
     "output_type": "stream",
     "text": [
      "/var/folders/n7/h8vtfbcn3cn8b86gk1fgql700000gn/T/ipykernel_11276/62236121.py:33: DtypeWarning: Columns (4) have mixed types. Specify dtype option on import or set low_memory=False.\n",
      "  df = pd.read_csv(input_csv_path, dtype={'time': str})\n"
     ]
    },
    {
     "name": "stdout",
     "output_type": "stream",
     "text": [
      "成功从 /Users/annfengdeye/Desktop/4.19/B题-全部数据/附件1/P062.csv 读取 9720001 行数据\n",
      "正在处理 'time' 列 (使用完整日期时间进行计算)...\n",
      "因时间间隔不一致、格式错误或无法填充的间隙，丢弃了 0 行数据。\n",
      "正在处理 'x', 'y', 'z' 列...\n",
      "填充前 'x' 列的空值数量: 0\n",
      "填充前 'y' 列的空值数量: 0\n",
      "填充前 'z' 列的空值数量: 0\n",
      "正在计算并添加 'magnitude' 列...\n",
      "正在去除连续重复的 'x', 'y', 'z' 行...\n",
      "因 x, y, z 值与上一行连续相同，去除了 3460676 行重复数据。\n",
      "正在处理 'annotation' 列...\n",
      "将因'annotation'列为空或无法提取MET值而丢弃的行数: 2484431\n",
      "已丢弃 2484431 行 'annotation' (MET) 为空或无效的数据。\n",
      "最终格式化 'time' 列为 HH:MM:SS.ffffff ...\n",
      "当前剩余有效数据行数: 3774894\n",
      "最终数据列: ['time', 'x', 'y', 'z', 'magnitude', 'annotation']\n",
      "正在将处理后的数据保存到: ./../TrainingSet/P062.csv\n",
      "--- 文件 P062.csv 预处理完成。 ---\n",
      "----------------------------------------\n",
      "\n",
      ">>> 开始处理文件: P063.csv <<<\n",
      "\n",
      "--- 开始预处理文件: /Users/annfengdeye/Desktop/4.19/B题-全部数据/附件1/P063.csv ---\n"
     ]
    },
    {
     "name": "stderr",
     "output_type": "stream",
     "text": [
      "/var/folders/n7/h8vtfbcn3cn8b86gk1fgql700000gn/T/ipykernel_11276/62236121.py:33: DtypeWarning: Columns (4) have mixed types. Specify dtype option on import or set low_memory=False.\n",
      "  df = pd.read_csv(input_csv_path, dtype={'time': str})\n"
     ]
    },
    {
     "name": "stdout",
     "output_type": "stream",
     "text": [
      "成功从 /Users/annfengdeye/Desktop/4.19/B题-全部数据/附件1/P063.csv 读取 9540001 行数据\n",
      "正在处理 'time' 列 (使用完整日期时间进行计算)...\n",
      "因时间间隔不一致、格式错误或无法填充的间隙，丢弃了 0 行数据。\n",
      "正在处理 'x', 'y', 'z' 列...\n",
      "填充前 'x' 列的空值数量: 0\n",
      "填充前 'y' 列的空值数量: 0\n",
      "填充前 'z' 列的空值数量: 0\n",
      "正在计算并添加 'magnitude' 列...\n",
      "正在去除连续重复的 'x', 'y', 'z' 行...\n",
      "因 x, y, z 值与上一行连续相同，去除了 3743732 行重复数据。\n",
      "正在处理 'annotation' 列...\n",
      "将因'annotation'列为空或无法提取MET值而丢弃的行数: 2140052\n",
      "已丢弃 2140052 行 'annotation' (MET) 为空或无效的数据。\n",
      "最终格式化 'time' 列为 HH:MM:SS.ffffff ...\n",
      "当前剩余有效数据行数: 3656217\n",
      "最终数据列: ['time', 'x', 'y', 'z', 'magnitude', 'annotation']\n",
      "正在将处理后的数据保存到: ./../TrainingSet/P063.csv\n",
      "--- 文件 P063.csv 预处理完成。 ---\n",
      "----------------------------------------\n",
      "\n",
      ">>> 开始处理文件: P064.csv <<<\n",
      "\n",
      "--- 开始预处理文件: /Users/annfengdeye/Desktop/4.19/B题-全部数据/附件1/P064.csv ---\n"
     ]
    },
    {
     "name": "stderr",
     "output_type": "stream",
     "text": [
      "/var/folders/n7/h8vtfbcn3cn8b86gk1fgql700000gn/T/ipykernel_11276/62236121.py:33: DtypeWarning: Columns (4) have mixed types. Specify dtype option on import or set low_memory=False.\n",
      "  df = pd.read_csv(input_csv_path, dtype={'time': str})\n"
     ]
    },
    {
     "name": "stdout",
     "output_type": "stream",
     "text": [
      "成功从 /Users/annfengdeye/Desktop/4.19/B题-全部数据/附件1/P064.csv 读取 11430001 行数据\n",
      "正在处理 'time' 列 (使用完整日期时间进行计算)...\n",
      "因时间间隔不一致、格式错误或无法填充的间隙，丢弃了 0 行数据。\n",
      "正在处理 'x', 'y', 'z' 列...\n",
      "填充前 'x' 列的空值数量: 0\n",
      "填充前 'y' 列的空值数量: 0\n",
      "填充前 'z' 列的空值数量: 0\n",
      "正在计算并添加 'magnitude' 列...\n",
      "正在去除连续重复的 'x', 'y', 'z' 行...\n",
      "因 x, y, z 值与上一行连续相同，去除了 4330463 行重复数据。\n",
      "正在处理 'annotation' 列...\n",
      "将因'annotation'列为空或无法提取MET值而丢弃的行数: 2221077\n",
      "已丢弃 2221077 行 'annotation' (MET) 为空或无效的数据。\n",
      "最终格式化 'time' 列为 HH:MM:SS.ffffff ...\n",
      "当前剩余有效数据行数: 4878461\n",
      "最终数据列: ['time', 'x', 'y', 'z', 'magnitude', 'annotation']\n",
      "正在将处理后的数据保存到: ./../TrainingSet/P064.csv\n",
      "--- 文件 P064.csv 预处理完成。 ---\n",
      "----------------------------------------\n",
      "\n",
      ">>> 开始处理文件: P065.csv <<<\n",
      "\n",
      "--- 开始预处理文件: /Users/annfengdeye/Desktop/4.19/B题-全部数据/附件1/P065.csv ---\n"
     ]
    },
    {
     "name": "stderr",
     "output_type": "stream",
     "text": [
      "/var/folders/n7/h8vtfbcn3cn8b86gk1fgql700000gn/T/ipykernel_11276/62236121.py:33: DtypeWarning: Columns (4) have mixed types. Specify dtype option on import or set low_memory=False.\n",
      "  df = pd.read_csv(input_csv_path, dtype={'time': str})\n"
     ]
    },
    {
     "name": "stdout",
     "output_type": "stream",
     "text": [
      "成功从 /Users/annfengdeye/Desktop/4.19/B题-全部数据/附件1/P065.csv 读取 9690001 行数据\n",
      "正在处理 'time' 列 (使用完整日期时间进行计算)...\n",
      "因时间间隔不一致、格式错误或无法填充的间隙，丢弃了 0 行数据。\n",
      "正在处理 'x', 'y', 'z' 列...\n",
      "填充前 'x' 列的空值数量: 0\n",
      "填充前 'y' 列的空值数量: 0\n",
      "填充前 'z' 列的空值数量: 0\n",
      "正在计算并添加 'magnitude' 列...\n",
      "正在去除连续重复的 'x', 'y', 'z' 行...\n",
      "因 x, y, z 值与上一行连续相同，去除了 3055281 行重复数据。\n",
      "正在处理 'annotation' 列...\n",
      "将因'annotation'列为空或无法提取MET值而丢弃的行数: 2642049\n",
      "已丢弃 2642049 行 'annotation' (MET) 为空或无效的数据。\n",
      "最终格式化 'time' 列为 HH:MM:SS.ffffff ...\n",
      "当前剩余有效数据行数: 3992671\n",
      "最终数据列: ['time', 'x', 'y', 'z', 'magnitude', 'annotation']\n",
      "正在将处理后的数据保存到: ./../TrainingSet/P065.csv\n",
      "--- 文件 P065.csv 预处理完成。 ---\n",
      "----------------------------------------\n",
      "\n",
      ">>> 开始处理文件: P066.csv <<<\n",
      "\n",
      "--- 开始预处理文件: /Users/annfengdeye/Desktop/4.19/B题-全部数据/附件1/P066.csv ---\n"
     ]
    },
    {
     "name": "stderr",
     "output_type": "stream",
     "text": [
      "/var/folders/n7/h8vtfbcn3cn8b86gk1fgql700000gn/T/ipykernel_11276/62236121.py:33: DtypeWarning: Columns (4) have mixed types. Specify dtype option on import or set low_memory=False.\n",
      "  df = pd.read_csv(input_csv_path, dtype={'time': str})\n"
     ]
    },
    {
     "name": "stdout",
     "output_type": "stream",
     "text": [
      "成功从 /Users/annfengdeye/Desktop/4.19/B题-全部数据/附件1/P066.csv 读取 9300001 行数据\n",
      "正在处理 'time' 列 (使用完整日期时间进行计算)...\n",
      "因时间间隔不一致、格式错误或无法填充的间隙，丢弃了 0 行数据。\n",
      "正在处理 'x', 'y', 'z' 列...\n",
      "填充前 'x' 列的空值数量: 0\n",
      "填充前 'y' 列的空值数量: 0\n",
      "填充前 'z' 列的空值数量: 0\n",
      "正在计算并添加 'magnitude' 列...\n",
      "正在去除连续重复的 'x', 'y', 'z' 行...\n",
      "因 x, y, z 值与上一行连续相同，去除了 3184060 行重复数据。\n",
      "正在处理 'annotation' 列...\n",
      "将因'annotation'列为空或无法提取MET值而丢弃的行数: 3856836\n",
      "已丢弃 3856836 行 'annotation' (MET) 为空或无效的数据。\n",
      "最终格式化 'time' 列为 HH:MM:SS.ffffff ...\n",
      "当前剩余有效数据行数: 2259105\n",
      "最终数据列: ['time', 'x', 'y', 'z', 'magnitude', 'annotation']\n",
      "正在将处理后的数据保存到: ./../TrainingSet/P066.csv\n",
      "--- 文件 P066.csv 预处理完成。 ---\n",
      "----------------------------------------\n",
      "\n",
      ">>> 开始处理文件: P067.csv <<<\n",
      "\n",
      "--- 开始预处理文件: /Users/annfengdeye/Desktop/4.19/B题-全部数据/附件1/P067.csv ---\n"
     ]
    },
    {
     "name": "stderr",
     "output_type": "stream",
     "text": [
      "/var/folders/n7/h8vtfbcn3cn8b86gk1fgql700000gn/T/ipykernel_11276/62236121.py:33: DtypeWarning: Columns (4) have mixed types. Specify dtype option on import or set low_memory=False.\n",
      "  df = pd.read_csv(input_csv_path, dtype={'time': str})\n"
     ]
    },
    {
     "name": "stdout",
     "output_type": "stream",
     "text": [
      "成功从 /Users/annfengdeye/Desktop/4.19/B题-全部数据/附件1/P067.csv 读取 10620001 行数据\n",
      "正在处理 'time' 列 (使用完整日期时间进行计算)...\n",
      "因时间间隔不一致、格式错误或无法填充的间隙，丢弃了 0 行数据。\n",
      "正在处理 'x', 'y', 'z' 列...\n",
      "填充前 'x' 列的空值数量: 0\n",
      "填充前 'y' 列的空值数量: 0\n",
      "填充前 'z' 列的空值数量: 0\n",
      "正在计算并添加 'magnitude' 列...\n",
      "正在去除连续重复的 'x', 'y', 'z' 行...\n",
      "因 x, y, z 值与上一行连续相同，去除了 4457469 行重复数据。\n",
      "正在处理 'annotation' 列...\n",
      "将因'annotation'列为空或无法提取MET值而丢弃的行数: 3150553\n",
      "已丢弃 3150553 行 'annotation' (MET) 为空或无效的数据。\n",
      "最终格式化 'time' 列为 HH:MM:SS.ffffff ...\n",
      "当前剩余有效数据行数: 3011979\n",
      "最终数据列: ['time', 'x', 'y', 'z', 'magnitude', 'annotation']\n",
      "正在将处理后的数据保存到: ./../TrainingSet/P067.csv\n",
      "--- 文件 P067.csv 预处理完成。 ---\n",
      "----------------------------------------\n",
      "\n",
      ">>> 开始处理文件: P068.csv <<<\n",
      "\n",
      "--- 开始预处理文件: /Users/annfengdeye/Desktop/4.19/B题-全部数据/附件1/P068.csv ---\n"
     ]
    },
    {
     "name": "stderr",
     "output_type": "stream",
     "text": [
      "/var/folders/n7/h8vtfbcn3cn8b86gk1fgql700000gn/T/ipykernel_11276/62236121.py:33: DtypeWarning: Columns (4) have mixed types. Specify dtype option on import or set low_memory=False.\n",
      "  df = pd.read_csv(input_csv_path, dtype={'time': str})\n"
     ]
    },
    {
     "name": "stdout",
     "output_type": "stream",
     "text": [
      "成功从 /Users/annfengdeye/Desktop/4.19/B题-全部数据/附件1/P068.csv 读取 9720001 行数据\n",
      "正在处理 'time' 列 (使用完整日期时间进行计算)...\n",
      "因时间间隔不一致、格式错误或无法填充的间隙，丢弃了 0 行数据。\n",
      "正在处理 'x', 'y', 'z' 列...\n",
      "填充前 'x' 列的空值数量: 0\n",
      "填充前 'y' 列的空值数量: 0\n",
      "填充前 'z' 列的空值数量: 0\n",
      "正在计算并添加 'magnitude' 列...\n",
      "正在去除连续重复的 'x', 'y', 'z' 行...\n",
      "因 x, y, z 值与上一行连续相同，去除了 2996084 行重复数据。\n",
      "正在处理 'annotation' 列...\n",
      "将因'annotation'列为空或无法提取MET值而丢弃的行数: 1729140\n",
      "已丢弃 1729140 行 'annotation' (MET) 为空或无效的数据。\n",
      "最终格式化 'time' 列为 HH:MM:SS.ffffff ...\n",
      "当前剩余有效数据行数: 4994777\n",
      "最终数据列: ['time', 'x', 'y', 'z', 'magnitude', 'annotation']\n",
      "正在将处理后的数据保存到: ./../TrainingSet/P068.csv\n",
      "--- 文件 P068.csv 预处理完成。 ---\n",
      "----------------------------------------\n",
      "\n",
      ">>> 开始处理文件: P069.csv <<<\n",
      "\n",
      "--- 开始预处理文件: /Users/annfengdeye/Desktop/4.19/B题-全部数据/附件1/P069.csv ---\n"
     ]
    },
    {
     "name": "stderr",
     "output_type": "stream",
     "text": [
      "/var/folders/n7/h8vtfbcn3cn8b86gk1fgql700000gn/T/ipykernel_11276/62236121.py:33: DtypeWarning: Columns (4) have mixed types. Specify dtype option on import or set low_memory=False.\n",
      "  df = pd.read_csv(input_csv_path, dtype={'time': str})\n"
     ]
    },
    {
     "name": "stdout",
     "output_type": "stream",
     "text": [
      "成功从 /Users/annfengdeye/Desktop/4.19/B题-全部数据/附件1/P069.csv 读取 10080001 行数据\n",
      "正在处理 'time' 列 (使用完整日期时间进行计算)...\n",
      "因时间间隔不一致、格式错误或无法填充的间隙，丢弃了 0 行数据。\n",
      "正在处理 'x', 'y', 'z' 列...\n",
      "填充前 'x' 列的空值数量: 0\n",
      "填充前 'y' 列的空值数量: 0\n",
      "填充前 'z' 列的空值数量: 0\n",
      "正在计算并添加 'magnitude' 列...\n",
      "正在去除连续重复的 'x', 'y', 'z' 行...\n",
      "因 x, y, z 值与上一行连续相同，去除了 3274472 行重复数据。\n",
      "正在处理 'annotation' 列...\n",
      "将因'annotation'列为空或无法提取MET值而丢弃的行数: 3048349\n",
      "已丢弃 3048349 行 'annotation' (MET) 为空或无效的数据。\n",
      "最终格式化 'time' 列为 HH:MM:SS.ffffff ...\n",
      "当前剩余有效数据行数: 3757180\n",
      "最终数据列: ['time', 'x', 'y', 'z', 'magnitude', 'annotation']\n",
      "正在将处理后的数据保存到: ./../TrainingSet/P069.csv\n",
      "--- 文件 P069.csv 预处理完成。 ---\n",
      "----------------------------------------\n",
      "\n",
      ">>> 开始处理文件: P070.csv <<<\n",
      "\n",
      "--- 开始预处理文件: /Users/annfengdeye/Desktop/4.19/B题-全部数据/附件1/P070.csv ---\n"
     ]
    },
    {
     "name": "stderr",
     "output_type": "stream",
     "text": [
      "/var/folders/n7/h8vtfbcn3cn8b86gk1fgql700000gn/T/ipykernel_11276/62236121.py:33: DtypeWarning: Columns (4) have mixed types. Specify dtype option on import or set low_memory=False.\n",
      "  df = pd.read_csv(input_csv_path, dtype={'time': str})\n"
     ]
    },
    {
     "name": "stdout",
     "output_type": "stream",
     "text": [
      "成功从 /Users/annfengdeye/Desktop/4.19/B题-全部数据/附件1/P070.csv 读取 9900001 行数据\n",
      "正在处理 'time' 列 (使用完整日期时间进行计算)...\n",
      "因时间间隔不一致、格式错误或无法填充的间隙，丢弃了 0 行数据。\n",
      "正在处理 'x', 'y', 'z' 列...\n",
      "填充前 'x' 列的空值数量: 0\n",
      "填充前 'y' 列的空值数量: 0\n",
      "填充前 'z' 列的空值数量: 0\n",
      "正在计算并添加 'magnitude' 列...\n",
      "正在去除连续重复的 'x', 'y', 'z' 行...\n",
      "因 x, y, z 值与上一行连续相同，去除了 3823958 行重复数据。\n",
      "正在处理 'annotation' 列...\n",
      "将因'annotation'列为空或无法提取MET值而丢弃的行数: 1443021\n",
      "已丢弃 1443021 行 'annotation' (MET) 为空或无效的数据。\n",
      "最终格式化 'time' 列为 HH:MM:SS.ffffff ...\n",
      "当前剩余有效数据行数: 4633022\n",
      "最终数据列: ['time', 'x', 'y', 'z', 'magnitude', 'annotation']\n",
      "正在将处理后的数据保存到: ./../TrainingSet/P070.csv\n",
      "--- 文件 P070.csv 预处理完成。 ---\n",
      "----------------------------------------\n",
      "\n",
      ">>> 开始处理文件: P071.csv <<<\n",
      "\n",
      "--- 开始预处理文件: /Users/annfengdeye/Desktop/4.19/B题-全部数据/附件1/P071.csv ---\n"
     ]
    },
    {
     "name": "stderr",
     "output_type": "stream",
     "text": [
      "/var/folders/n7/h8vtfbcn3cn8b86gk1fgql700000gn/T/ipykernel_11276/62236121.py:33: DtypeWarning: Columns (4) have mixed types. Specify dtype option on import or set low_memory=False.\n",
      "  df = pd.read_csv(input_csv_path, dtype={'time': str})\n"
     ]
    },
    {
     "name": "stdout",
     "output_type": "stream",
     "text": [
      "成功从 /Users/annfengdeye/Desktop/4.19/B题-全部数据/附件1/P071.csv 读取 9060001 行数据\n",
      "正在处理 'time' 列 (使用完整日期时间进行计算)...\n",
      "因时间间隔不一致、格式错误或无法填充的间隙，丢弃了 0 行数据。\n",
      "正在处理 'x', 'y', 'z' 列...\n",
      "填充前 'x' 列的空值数量: 0\n",
      "填充前 'y' 列的空值数量: 0\n",
      "填充前 'z' 列的空值数量: 0\n",
      "正在计算并添加 'magnitude' 列...\n",
      "正在去除连续重复的 'x', 'y', 'z' 行...\n",
      "因 x, y, z 值与上一行连续相同，去除了 3003614 行重复数据。\n",
      "正在处理 'annotation' 列...\n",
      "将因'annotation'列为空或无法提取MET值而丢弃的行数: 2348965\n",
      "已丢弃 2348965 行 'annotation' (MET) 为空或无效的数据。\n",
      "最终格式化 'time' 列为 HH:MM:SS.ffffff ...\n",
      "当前剩余有效数据行数: 3707422\n",
      "最终数据列: ['time', 'x', 'y', 'z', 'magnitude', 'annotation']\n",
      "正在将处理后的数据保存到: ./../TrainingSet/P071.csv\n",
      "--- 文件 P071.csv 预处理完成。 ---\n",
      "----------------------------------------\n",
      "\n",
      ">>> 开始处理文件: P072.csv <<<\n",
      "\n",
      "--- 开始预处理文件: /Users/annfengdeye/Desktop/4.19/B题-全部数据/附件1/P072.csv ---\n"
     ]
    },
    {
     "name": "stderr",
     "output_type": "stream",
     "text": [
      "/var/folders/n7/h8vtfbcn3cn8b86gk1fgql700000gn/T/ipykernel_11276/62236121.py:33: DtypeWarning: Columns (4) have mixed types. Specify dtype option on import or set low_memory=False.\n",
      "  df = pd.read_csv(input_csv_path, dtype={'time': str})\n"
     ]
    },
    {
     "name": "stdout",
     "output_type": "stream",
     "text": [
      "成功从 /Users/annfengdeye/Desktop/4.19/B题-全部数据/附件1/P072.csv 读取 9810001 行数据\n",
      "正在处理 'time' 列 (使用完整日期时间进行计算)...\n",
      "因时间间隔不一致、格式错误或无法填充的间隙，丢弃了 0 行数据。\n",
      "正在处理 'x', 'y', 'z' 列...\n",
      "填充前 'x' 列的空值数量: 0\n",
      "填充前 'y' 列的空值数量: 0\n",
      "填充前 'z' 列的空值数量: 0\n",
      "正在计算并添加 'magnitude' 列...\n",
      "正在去除连续重复的 'x', 'y', 'z' 行...\n",
      "因 x, y, z 值与上一行连续相同，去除了 3236239 行重复数据。\n",
      "正在处理 'annotation' 列...\n",
      "将因'annotation'列为空或无法提取MET值而丢弃的行数: 1699940\n",
      "已丢弃 1699940 行 'annotation' (MET) 为空或无效的数据。\n",
      "最终格式化 'time' 列为 HH:MM:SS.ffffff ...\n",
      "当前剩余有效数据行数: 4873822\n",
      "最终数据列: ['time', 'x', 'y', 'z', 'magnitude', 'annotation']\n",
      "正在将处理后的数据保存到: ./../TrainingSet/P072.csv\n",
      "--- 文件 P072.csv 预处理完成。 ---\n",
      "----------------------------------------\n",
      "\n",
      ">>> 开始处理文件: P073.csv <<<\n",
      "\n",
      "--- 开始预处理文件: /Users/annfengdeye/Desktop/4.19/B题-全部数据/附件1/P073.csv ---\n"
     ]
    },
    {
     "name": "stderr",
     "output_type": "stream",
     "text": [
      "/var/folders/n7/h8vtfbcn3cn8b86gk1fgql700000gn/T/ipykernel_11276/62236121.py:33: DtypeWarning: Columns (4) have mixed types. Specify dtype option on import or set low_memory=False.\n",
      "  df = pd.read_csv(input_csv_path, dtype={'time': str})\n"
     ]
    },
    {
     "name": "stdout",
     "output_type": "stream",
     "text": [
      "成功从 /Users/annfengdeye/Desktop/4.19/B题-全部数据/附件1/P073.csv 读取 10180494 行数据\n",
      "正在处理 'time' 列 (使用完整日期时间进行计算)...\n",
      "因时间间隔不一致、格式错误或无法填充的间隙，丢弃了 1 行数据。\n",
      "正在处理 'x', 'y', 'z' 列...\n",
      "填充前 'x' 列的空值数量: 0\n",
      "填充前 'y' 列的空值数量: 0\n",
      "填充前 'z' 列的空值数量: 0\n",
      "正在计算并添加 'magnitude' 列...\n",
      "正在去除连续重复的 'x', 'y', 'z' 行...\n",
      "因 x, y, z 值与上一行连续相同，去除了 3494177 行重复数据。\n",
      "正在处理 'annotation' 列...\n",
      "将因'annotation'列为空或无法提取MET值而丢弃的行数: 2168139\n",
      "已丢弃 2168139 行 'annotation' (MET) 为空或无效的数据。\n",
      "最终格式化 'time' 列为 HH:MM:SS.ffffff ...\n",
      "当前剩余有效数据行数: 4518177\n",
      "最终数据列: ['time', 'x', 'y', 'z', 'magnitude', 'annotation']\n",
      "正在将处理后的数据保存到: ./../TrainingSet/P073.csv\n",
      "--- 文件 P073.csv 预处理完成。 ---\n",
      "----------------------------------------\n",
      "\n",
      ">>> 开始处理文件: P074.csv <<<\n",
      "\n",
      "--- 开始预处理文件: /Users/annfengdeye/Desktop/4.19/B题-全部数据/附件1/P074.csv ---\n"
     ]
    },
    {
     "name": "stderr",
     "output_type": "stream",
     "text": [
      "/var/folders/n7/h8vtfbcn3cn8b86gk1fgql700000gn/T/ipykernel_11276/62236121.py:33: DtypeWarning: Columns (4) have mixed types. Specify dtype option on import or set low_memory=False.\n",
      "  df = pd.read_csv(input_csv_path, dtype={'time': str})\n"
     ]
    },
    {
     "name": "stdout",
     "output_type": "stream",
     "text": [
      "成功从 /Users/annfengdeye/Desktop/4.19/B题-全部数据/附件1/P074.csv 读取 9000556 行数据\n",
      "正在处理 'time' 列 (使用完整日期时间进行计算)...\n",
      "因时间间隔不一致、格式错误或无法填充的间隙，丢弃了 0 行数据。\n",
      "正在处理 'x', 'y', 'z' 列...\n",
      "填充前 'x' 列的空值数量: 0\n",
      "填充前 'y' 列的空值数量: 0\n",
      "填充前 'z' 列的空值数量: 0\n",
      "正在计算并添加 'magnitude' 列...\n",
      "正在去除连续重复的 'x', 'y', 'z' 行...\n",
      "因 x, y, z 值与上一行连续相同，去除了 2215217 行重复数据。\n",
      "正在处理 'annotation' 列...\n",
      "将因'annotation'列为空或无法提取MET值而丢弃的行数: 1965645\n",
      "已丢弃 1965645 行 'annotation' (MET) 为空或无效的数据。\n",
      "最终格式化 'time' 列为 HH:MM:SS.ffffff ...\n",
      "当前剩余有效数据行数: 4819694\n",
      "最终数据列: ['time', 'x', 'y', 'z', 'magnitude', 'annotation']\n",
      "正在将处理后的数据保存到: ./../TrainingSet/P074.csv\n",
      "--- 文件 P074.csv 预处理完成。 ---\n",
      "----------------------------------------\n",
      "\n",
      ">>> 开始处理文件: P075.csv <<<\n",
      "\n",
      "--- 开始预处理文件: /Users/annfengdeye/Desktop/4.19/B题-全部数据/附件1/P075.csv ---\n"
     ]
    },
    {
     "name": "stderr",
     "output_type": "stream",
     "text": [
      "/var/folders/n7/h8vtfbcn3cn8b86gk1fgql700000gn/T/ipykernel_11276/62236121.py:33: DtypeWarning: Columns (4) have mixed types. Specify dtype option on import or set low_memory=False.\n",
      "  df = pd.read_csv(input_csv_path, dtype={'time': str})\n"
     ]
    },
    {
     "name": "stdout",
     "output_type": "stream",
     "text": [
      "成功从 /Users/annfengdeye/Desktop/4.19/B题-全部数据/附件1/P075.csv 读取 9570001 行数据\n",
      "正在处理 'time' 列 (使用完整日期时间进行计算)...\n",
      "因时间间隔不一致、格式错误或无法填充的间隙，丢弃了 0 行数据。\n",
      "正在处理 'x', 'y', 'z' 列...\n",
      "填充前 'x' 列的空值数量: 0\n",
      "填充前 'y' 列的空值数量: 0\n",
      "填充前 'z' 列的空值数量: 0\n",
      "正在计算并添加 'magnitude' 列...\n",
      "正在去除连续重复的 'x', 'y', 'z' 行...\n",
      "因 x, y, z 值与上一行连续相同，去除了 3156319 行重复数据。\n",
      "正在处理 'annotation' 列...\n",
      "将因'annotation'列为空或无法提取MET值而丢弃的行数: 1889002\n",
      "已丢弃 1889002 行 'annotation' (MET) 为空或无效的数据。\n",
      "最终格式化 'time' 列为 HH:MM:SS.ffffff ...\n",
      "当前剩余有效数据行数: 4524680\n",
      "最终数据列: ['time', 'x', 'y', 'z', 'magnitude', 'annotation']\n",
      "正在将处理后的数据保存到: ./../TrainingSet/P075.csv\n",
      "--- 文件 P075.csv 预处理完成。 ---\n",
      "----------------------------------------\n",
      "\n",
      ">>> 开始处理文件: P076.csv <<<\n",
      "\n",
      "--- 开始预处理文件: /Users/annfengdeye/Desktop/4.19/B题-全部数据/附件1/P076.csv ---\n"
     ]
    },
    {
     "name": "stderr",
     "output_type": "stream",
     "text": [
      "/var/folders/n7/h8vtfbcn3cn8b86gk1fgql700000gn/T/ipykernel_11276/62236121.py:33: DtypeWarning: Columns (4) have mixed types. Specify dtype option on import or set low_memory=False.\n",
      "  df = pd.read_csv(input_csv_path, dtype={'time': str})\n"
     ]
    },
    {
     "name": "stdout",
     "output_type": "stream",
     "text": [
      "成功从 /Users/annfengdeye/Desktop/4.19/B题-全部数据/附件1/P076.csv 读取 9660001 行数据\n",
      "正在处理 'time' 列 (使用完整日期时间进行计算)...\n",
      "因时间间隔不一致、格式错误或无法填充的间隙，丢弃了 0 行数据。\n",
      "正在处理 'x', 'y', 'z' 列...\n",
      "填充前 'x' 列的空值数量: 0\n",
      "填充前 'y' 列的空值数量: 0\n",
      "填充前 'z' 列的空值数量: 0\n",
      "正在计算并添加 'magnitude' 列...\n",
      "正在去除连续重复的 'x', 'y', 'z' 行...\n",
      "因 x, y, z 值与上一行连续相同，去除了 3574751 行重复数据。\n",
      "正在处理 'annotation' 列...\n",
      "将因'annotation'列为空或无法提取MET值而丢弃的行数: 1926897\n",
      "已丢弃 1926897 行 'annotation' (MET) 为空或无效的数据。\n",
      "最终格式化 'time' 列为 HH:MM:SS.ffffff ...\n",
      "当前剩余有效数据行数: 4158353\n",
      "最终数据列: ['time', 'x', 'y', 'z', 'magnitude', 'annotation']\n",
      "正在将处理后的数据保存到: ./../TrainingSet/P076.csv\n",
      "--- 文件 P076.csv 预处理完成。 ---\n",
      "----------------------------------------\n",
      "\n",
      ">>> 开始处理文件: P077.csv <<<\n",
      "\n",
      "--- 开始预处理文件: /Users/annfengdeye/Desktop/4.19/B题-全部数据/附件1/P077.csv ---\n"
     ]
    },
    {
     "name": "stderr",
     "output_type": "stream",
     "text": [
      "/var/folders/n7/h8vtfbcn3cn8b86gk1fgql700000gn/T/ipykernel_11276/62236121.py:33: DtypeWarning: Columns (4) have mixed types. Specify dtype option on import or set low_memory=False.\n",
      "  df = pd.read_csv(input_csv_path, dtype={'time': str})\n"
     ]
    },
    {
     "name": "stdout",
     "output_type": "stream",
     "text": [
      "成功从 /Users/annfengdeye/Desktop/4.19/B题-全部数据/附件1/P077.csv 读取 8874001 行数据\n",
      "正在处理 'time' 列 (使用完整日期时间进行计算)...\n",
      "因时间间隔不一致、格式错误或无法填充的间隙，丢弃了 1 行数据。\n",
      "正在处理 'x', 'y', 'z' 列...\n",
      "填充前 'x' 列的空值数量: 0\n",
      "填充前 'y' 列的空值数量: 0\n",
      "填充前 'z' 列的空值数量: 0\n",
      "正在计算并添加 'magnitude' 列...\n",
      "正在去除连续重复的 'x', 'y', 'z' 行...\n",
      "因 x, y, z 值与上一行连续相同，去除了 2269291 行重复数据。\n",
      "正在处理 'annotation' 列...\n",
      "将因'annotation'列为空或无法提取MET值而丢弃的行数: 2432672\n",
      "已丢弃 2432672 行 'annotation' (MET) 为空或无效的数据。\n",
      "最终格式化 'time' 列为 HH:MM:SS.ffffff ...\n",
      "当前剩余有效数据行数: 4172037\n",
      "最终数据列: ['time', 'x', 'y', 'z', 'magnitude', 'annotation']\n",
      "正在将处理后的数据保存到: ./../TrainingSet/P077.csv\n",
      "--- 文件 P077.csv 预处理完成。 ---\n",
      "----------------------------------------\n",
      "\n",
      ">>> 开始处理文件: P078.csv <<<\n",
      "\n",
      "--- 开始预处理文件: /Users/annfengdeye/Desktop/4.19/B题-全部数据/附件1/P078.csv ---\n"
     ]
    },
    {
     "name": "stderr",
     "output_type": "stream",
     "text": [
      "/var/folders/n7/h8vtfbcn3cn8b86gk1fgql700000gn/T/ipykernel_11276/62236121.py:33: DtypeWarning: Columns (4) have mixed types. Specify dtype option on import or set low_memory=False.\n",
      "  df = pd.read_csv(input_csv_path, dtype={'time': str})\n"
     ]
    },
    {
     "name": "stdout",
     "output_type": "stream",
     "text": [
      "成功从 /Users/annfengdeye/Desktop/4.19/B题-全部数据/附件1/P078.csv 读取 8640001 行数据\n",
      "正在处理 'time' 列 (使用完整日期时间进行计算)...\n",
      "因时间间隔不一致、格式错误或无法填充的间隙，丢弃了 0 行数据。\n",
      "正在处理 'x', 'y', 'z' 列...\n",
      "填充前 'x' 列的空值数量: 0\n",
      "填充前 'y' 列的空值数量: 0\n",
      "填充前 'z' 列的空值数量: 0\n",
      "正在计算并添加 'magnitude' 列...\n",
      "正在去除连续重复的 'x', 'y', 'z' 行...\n",
      "因 x, y, z 值与上一行连续相同，去除了 3239794 行重复数据。\n",
      "正在处理 'annotation' 列...\n",
      "将因'annotation'列为空或无法提取MET值而丢弃的行数: 1381190\n",
      "已丢弃 1381190 行 'annotation' (MET) 为空或无效的数据。\n",
      "最终格式化 'time' 列为 HH:MM:SS.ffffff ...\n",
      "当前剩余有效数据行数: 4019017\n",
      "最终数据列: ['time', 'x', 'y', 'z', 'magnitude', 'annotation']\n",
      "正在将处理后的数据保存到: ./../TrainingSet/P078.csv\n",
      "--- 文件 P078.csv 预处理完成。 ---\n",
      "----------------------------------------\n",
      "\n",
      ">>> 开始处理文件: P079.csv <<<\n",
      "\n",
      "--- 开始预处理文件: /Users/annfengdeye/Desktop/4.19/B题-全部数据/附件1/P079.csv ---\n"
     ]
    },
    {
     "name": "stderr",
     "output_type": "stream",
     "text": [
      "/var/folders/n7/h8vtfbcn3cn8b86gk1fgql700000gn/T/ipykernel_11276/62236121.py:33: DtypeWarning: Columns (4) have mixed types. Specify dtype option on import or set low_memory=False.\n",
      "  df = pd.read_csv(input_csv_path, dtype={'time': str})\n"
     ]
    },
    {
     "name": "stdout",
     "output_type": "stream",
     "text": [
      "成功从 /Users/annfengdeye/Desktop/4.19/B题-全部数据/附件1/P079.csv 读取 11160001 行数据\n",
      "正在处理 'time' 列 (使用完整日期时间进行计算)...\n",
      "因时间间隔不一致、格式错误或无法填充的间隙，丢弃了 0 行数据。\n",
      "正在处理 'x', 'y', 'z' 列...\n",
      "填充前 'x' 列的空值数量: 0\n",
      "填充前 'y' 列的空值数量: 0\n",
      "填充前 'z' 列的空值数量: 0\n",
      "正在计算并添加 'magnitude' 列...\n",
      "正在去除连续重复的 'x', 'y', 'z' 行...\n",
      "因 x, y, z 值与上一行连续相同，去除了 3535353 行重复数据。\n",
      "正在处理 'annotation' 列...\n",
      "将因'annotation'列为空或无法提取MET值而丢弃的行数: 2523261\n",
      "已丢弃 2523261 行 'annotation' (MET) 为空或无效的数据。\n",
      "最终格式化 'time' 列为 HH:MM:SS.ffffff ...\n",
      "当前剩余有效数据行数: 5101387\n",
      "最终数据列: ['time', 'x', 'y', 'z', 'magnitude', 'annotation']\n",
      "正在将处理后的数据保存到: ./../TrainingSet/P079.csv\n",
      "--- 文件 P079.csv 预处理完成。 ---\n",
      "----------------------------------------\n",
      "\n",
      ">>> 开始处理文件: P080.csv <<<\n",
      "\n",
      "--- 开始预处理文件: /Users/annfengdeye/Desktop/4.19/B题-全部数据/附件1/P080.csv ---\n"
     ]
    },
    {
     "name": "stderr",
     "output_type": "stream",
     "text": [
      "/var/folders/n7/h8vtfbcn3cn8b86gk1fgql700000gn/T/ipykernel_11276/62236121.py:33: DtypeWarning: Columns (4) have mixed types. Specify dtype option on import or set low_memory=False.\n",
      "  df = pd.read_csv(input_csv_path, dtype={'time': str})\n"
     ]
    },
    {
     "name": "stdout",
     "output_type": "stream",
     "text": [
      "成功从 /Users/annfengdeye/Desktop/4.19/B题-全部数据/附件1/P080.csv 读取 9270001 行数据\n",
      "正在处理 'time' 列 (使用完整日期时间进行计算)...\n",
      "因时间间隔不一致、格式错误或无法填充的间隙，丢弃了 0 行数据。\n",
      "正在处理 'x', 'y', 'z' 列...\n",
      "填充前 'x' 列的空值数量: 0\n",
      "填充前 'y' 列的空值数量: 0\n",
      "填充前 'z' 列的空值数量: 0\n",
      "正在计算并添加 'magnitude' 列...\n",
      "正在去除连续重复的 'x', 'y', 'z' 行...\n",
      "因 x, y, z 值与上一行连续相同，去除了 3284093 行重复数据。\n",
      "正在处理 'annotation' 列...\n",
      "将因'annotation'列为空或无法提取MET值而丢弃的行数: 2573201\n",
      "已丢弃 2573201 行 'annotation' (MET) 为空或无效的数据。\n",
      "最终格式化 'time' 列为 HH:MM:SS.ffffff ...\n",
      "当前剩余有效数据行数: 3412707\n",
      "最终数据列: ['time', 'x', 'y', 'z', 'magnitude', 'annotation']\n",
      "正在将处理后的数据保存到: ./../TrainingSet/P080.csv\n",
      "--- 文件 P080.csv 预处理完成。 ---\n",
      "----------------------------------------\n",
      "\n",
      ">>> 开始处理文件: P081.csv <<<\n",
      "\n",
      "--- 开始预处理文件: /Users/annfengdeye/Desktop/4.19/B题-全部数据/附件1/P081.csv ---\n"
     ]
    },
    {
     "name": "stderr",
     "output_type": "stream",
     "text": [
      "/var/folders/n7/h8vtfbcn3cn8b86gk1fgql700000gn/T/ipykernel_11276/62236121.py:33: DtypeWarning: Columns (4) have mixed types. Specify dtype option on import or set low_memory=False.\n",
      "  df = pd.read_csv(input_csv_path, dtype={'time': str})\n"
     ]
    },
    {
     "name": "stdout",
     "output_type": "stream",
     "text": [
      "成功从 /Users/annfengdeye/Desktop/4.19/B题-全部数据/附件1/P081.csv 读取 10296001 行数据\n",
      "正在处理 'time' 列 (使用完整日期时间进行计算)...\n",
      "因时间间隔不一致、格式错误或无法填充的间隙，丢弃了 0 行数据。\n",
      "正在处理 'x', 'y', 'z' 列...\n",
      "填充前 'x' 列的空值数量: 0\n",
      "填充前 'y' 列的空值数量: 0\n",
      "填充前 'z' 列的空值数量: 0\n",
      "正在计算并添加 'magnitude' 列...\n",
      "正在去除连续重复的 'x', 'y', 'z' 行...\n",
      "因 x, y, z 值与上一行连续相同，去除了 3688022 行重复数据。\n",
      "正在处理 'annotation' 列...\n",
      "将因'annotation'列为空或无法提取MET值而丢弃的行数: 1455888\n",
      "已丢弃 1455888 行 'annotation' (MET) 为空或无效的数据。\n",
      "最终格式化 'time' 列为 HH:MM:SS.ffffff ...\n",
      "当前剩余有效数据行数: 5152091\n",
      "最终数据列: ['time', 'x', 'y', 'z', 'magnitude', 'annotation']\n",
      "正在将处理后的数据保存到: ./../TrainingSet/P081.csv\n",
      "--- 文件 P081.csv 预处理完成。 ---\n",
      "----------------------------------------\n",
      "\n",
      ">>> 开始处理文件: P082.csv <<<\n",
      "\n",
      "--- 开始预处理文件: /Users/annfengdeye/Desktop/4.19/B题-全部数据/附件1/P082.csv ---\n"
     ]
    },
    {
     "name": "stderr",
     "output_type": "stream",
     "text": [
      "/var/folders/n7/h8vtfbcn3cn8b86gk1fgql700000gn/T/ipykernel_11276/62236121.py:33: DtypeWarning: Columns (4) have mixed types. Specify dtype option on import or set low_memory=False.\n",
      "  df = pd.read_csv(input_csv_path, dtype={'time': str})\n"
     ]
    },
    {
     "name": "stdout",
     "output_type": "stream",
     "text": [
      "成功从 /Users/annfengdeye/Desktop/4.19/B题-全部数据/附件1/P082.csv 读取 9624001 行数据\n",
      "正在处理 'time' 列 (使用完整日期时间进行计算)...\n",
      "因时间间隔不一致、格式错误或无法填充的间隙，丢弃了 0 行数据。\n",
      "正在处理 'x', 'y', 'z' 列...\n",
      "填充前 'x' 列的空值数量: 0\n",
      "填充前 'y' 列的空值数量: 0\n",
      "填充前 'z' 列的空值数量: 0\n",
      "正在计算并添加 'magnitude' 列...\n",
      "正在去除连续重复的 'x', 'y', 'z' 行...\n",
      "因 x, y, z 值与上一行连续相同，去除了 2925835 行重复数据。\n",
      "正在处理 'annotation' 列...\n",
      "将因'annotation'列为空或无法提取MET值而丢弃的行数: 1836188\n",
      "已丢弃 1836188 行 'annotation' (MET) 为空或无效的数据。\n",
      "最终格式化 'time' 列为 HH:MM:SS.ffffff ...\n",
      "当前剩余有效数据行数: 4861978\n",
      "最终数据列: ['time', 'x', 'y', 'z', 'magnitude', 'annotation']\n",
      "正在将处理后的数据保存到: ./../TrainingSet/P082.csv\n",
      "--- 文件 P082.csv 预处理完成。 ---\n",
      "----------------------------------------\n",
      "\n",
      ">>> 开始处理文件: P083.csv <<<\n",
      "\n",
      "--- 开始预处理文件: /Users/annfengdeye/Desktop/4.19/B题-全部数据/附件1/P083.csv ---\n"
     ]
    },
    {
     "name": "stderr",
     "output_type": "stream",
     "text": [
      "/var/folders/n7/h8vtfbcn3cn8b86gk1fgql700000gn/T/ipykernel_11276/62236121.py:33: DtypeWarning: Columns (4) have mixed types. Specify dtype option on import or set low_memory=False.\n",
      "  df = pd.read_csv(input_csv_path, dtype={'time': str})\n"
     ]
    },
    {
     "name": "stdout",
     "output_type": "stream",
     "text": [
      "成功从 /Users/annfengdeye/Desktop/4.19/B题-全部数据/附件1/P083.csv 读取 8820001 行数据\n",
      "正在处理 'time' 列 (使用完整日期时间进行计算)...\n",
      "因时间间隔不一致、格式错误或无法填充的间隙，丢弃了 0 行数据。\n",
      "正在处理 'x', 'y', 'z' 列...\n",
      "填充前 'x' 列的空值数量: 0\n",
      "填充前 'y' 列的空值数量: 0\n",
      "填充前 'z' 列的空值数量: 0\n",
      "正在计算并添加 'magnitude' 列...\n",
      "正在去除连续重复的 'x', 'y', 'z' 行...\n",
      "因 x, y, z 值与上一行连续相同，去除了 2656319 行重复数据。\n",
      "正在处理 'annotation' 列...\n",
      "将因'annotation'列为空或无法提取MET值而丢弃的行数: 2199992\n",
      "已丢弃 2199992 行 'annotation' (MET) 为空或无效的数据。\n",
      "最终格式化 'time' 列为 HH:MM:SS.ffffff ...\n",
      "当前剩余有效数据行数: 3963690\n",
      "最终数据列: ['time', 'x', 'y', 'z', 'magnitude', 'annotation']\n",
      "正在将处理后的数据保存到: ./../TrainingSet/P083.csv\n",
      "--- 文件 P083.csv 预处理完成。 ---\n",
      "----------------------------------------\n",
      "\n",
      ">>> 开始处理文件: P084.csv <<<\n",
      "\n",
      "--- 开始预处理文件: /Users/annfengdeye/Desktop/4.19/B题-全部数据/附件1/P084.csv ---\n"
     ]
    },
    {
     "name": "stderr",
     "output_type": "stream",
     "text": [
      "/var/folders/n7/h8vtfbcn3cn8b86gk1fgql700000gn/T/ipykernel_11276/62236121.py:33: DtypeWarning: Columns (4) have mixed types. Specify dtype option on import or set low_memory=False.\n",
      "  df = pd.read_csv(input_csv_path, dtype={'time': str})\n"
     ]
    },
    {
     "name": "stdout",
     "output_type": "stream",
     "text": [
      "成功从 /Users/annfengdeye/Desktop/4.19/B题-全部数据/附件1/P084.csv 读取 10680001 行数据\n",
      "正在处理 'time' 列 (使用完整日期时间进行计算)...\n",
      "因时间间隔不一致、格式错误或无法填充的间隙，丢弃了 0 行数据。\n",
      "正在处理 'x', 'y', 'z' 列...\n",
      "填充前 'x' 列的空值数量: 0\n",
      "填充前 'y' 列的空值数量: 0\n",
      "填充前 'z' 列的空值数量: 0\n",
      "正在计算并添加 'magnitude' 列...\n",
      "正在去除连续重复的 'x', 'y', 'z' 行...\n",
      "因 x, y, z 值与上一行连续相同，去除了 4467998 行重复数据。\n",
      "正在处理 'annotation' 列...\n",
      "将因'annotation'列为空或无法提取MET值而丢弃的行数: 1154925\n",
      "已丢弃 1154925 行 'annotation' (MET) 为空或无效的数据。\n",
      "最终格式化 'time' 列为 HH:MM:SS.ffffff ...\n",
      "当前剩余有效数据行数: 5057078\n",
      "最终数据列: ['time', 'x', 'y', 'z', 'magnitude', 'annotation']\n",
      "正在将处理后的数据保存到: ./../TrainingSet/P084.csv\n",
      "--- 文件 P084.csv 预处理完成。 ---\n",
      "----------------------------------------\n",
      "\n",
      ">>> 开始处理文件: P085.csv <<<\n",
      "\n",
      "--- 开始预处理文件: /Users/annfengdeye/Desktop/4.19/B题-全部数据/附件1/P085.csv ---\n"
     ]
    },
    {
     "name": "stderr",
     "output_type": "stream",
     "text": [
      "/var/folders/n7/h8vtfbcn3cn8b86gk1fgql700000gn/T/ipykernel_11276/62236121.py:33: DtypeWarning: Columns (4) have mixed types. Specify dtype option on import or set low_memory=False.\n",
      "  df = pd.read_csv(input_csv_path, dtype={'time': str})\n"
     ]
    },
    {
     "name": "stdout",
     "output_type": "stream",
     "text": [
      "成功从 /Users/annfengdeye/Desktop/4.19/B题-全部数据/附件1/P085.csv 读取 9270001 行数据\n",
      "正在处理 'time' 列 (使用完整日期时间进行计算)...\n",
      "因时间间隔不一致、格式错误或无法填充的间隙，丢弃了 0 行数据。\n",
      "正在处理 'x', 'y', 'z' 列...\n",
      "填充前 'x' 列的空值数量: 0\n",
      "填充前 'y' 列的空值数量: 0\n",
      "填充前 'z' 列的空值数量: 0\n",
      "正在计算并添加 'magnitude' 列...\n",
      "正在去除连续重复的 'x', 'y', 'z' 行...\n",
      "因 x, y, z 值与上一行连续相同，去除了 2907571 行重复数据。\n",
      "正在处理 'annotation' 列...\n",
      "将因'annotation'列为空或无法提取MET值而丢弃的行数: 1462084\n",
      "已丢弃 1462084 行 'annotation' (MET) 为空或无效的数据。\n",
      "最终格式化 'time' 列为 HH:MM:SS.ffffff ...\n",
      "当前剩余有效数据行数: 4900346\n",
      "最终数据列: ['time', 'x', 'y', 'z', 'magnitude', 'annotation']\n",
      "正在将处理后的数据保存到: ./../TrainingSet/P085.csv\n",
      "--- 文件 P085.csv 预处理完成。 ---\n",
      "----------------------------------------\n",
      "\n",
      ">>> 开始处理文件: P086.csv <<<\n",
      "\n",
      "--- 开始预处理文件: /Users/annfengdeye/Desktop/4.19/B题-全部数据/附件1/P086.csv ---\n"
     ]
    },
    {
     "name": "stderr",
     "output_type": "stream",
     "text": [
      "/var/folders/n7/h8vtfbcn3cn8b86gk1fgql700000gn/T/ipykernel_11276/62236121.py:33: DtypeWarning: Columns (4) have mixed types. Specify dtype option on import or set low_memory=False.\n",
      "  df = pd.read_csv(input_csv_path, dtype={'time': str})\n"
     ]
    },
    {
     "name": "stdout",
     "output_type": "stream",
     "text": [
      "成功从 /Users/annfengdeye/Desktop/4.19/B题-全部数据/附件1/P086.csv 读取 9990001 行数据\n",
      "正在处理 'time' 列 (使用完整日期时间进行计算)...\n",
      "因时间间隔不一致、格式错误或无法填充的间隙，丢弃了 0 行数据。\n",
      "正在处理 'x', 'y', 'z' 列...\n",
      "填充前 'x' 列的空值数量: 0\n",
      "填充前 'y' 列的空值数量: 0\n",
      "填充前 'z' 列的空值数量: 0\n",
      "正在计算并添加 'magnitude' 列...\n",
      "正在去除连续重复的 'x', 'y', 'z' 行...\n",
      "因 x, y, z 值与上一行连续相同，去除了 3550439 行重复数据。\n",
      "正在处理 'annotation' 列...\n",
      "将因'annotation'列为空或无法提取MET值而丢弃的行数: 1855947\n",
      "已丢弃 1855947 行 'annotation' (MET) 为空或无效的数据。\n",
      "最终格式化 'time' 列为 HH:MM:SS.ffffff ...\n",
      "当前剩余有效数据行数: 4583615\n",
      "最终数据列: ['time', 'x', 'y', 'z', 'magnitude', 'annotation']\n",
      "正在将处理后的数据保存到: ./../TrainingSet/P086.csv\n",
      "--- 文件 P086.csv 预处理完成。 ---\n",
      "----------------------------------------\n",
      "\n",
      ">>> 开始处理文件: P087.csv <<<\n",
      "\n",
      "--- 开始预处理文件: /Users/annfengdeye/Desktop/4.19/B题-全部数据/附件1/P087.csv ---\n"
     ]
    },
    {
     "name": "stderr",
     "output_type": "stream",
     "text": [
      "/var/folders/n7/h8vtfbcn3cn8b86gk1fgql700000gn/T/ipykernel_11276/62236121.py:33: DtypeWarning: Columns (4) have mixed types. Specify dtype option on import or set low_memory=False.\n",
      "  df = pd.read_csv(input_csv_path, dtype={'time': str})\n"
     ]
    },
    {
     "name": "stdout",
     "output_type": "stream",
     "text": [
      "成功从 /Users/annfengdeye/Desktop/4.19/B题-全部数据/附件1/P087.csv 读取 9720001 行数据\n",
      "正在处理 'time' 列 (使用完整日期时间进行计算)...\n",
      "因时间间隔不一致、格式错误或无法填充的间隙，丢弃了 0 行数据。\n",
      "正在处理 'x', 'y', 'z' 列...\n",
      "填充前 'x' 列的空值数量: 0\n",
      "填充前 'y' 列的空值数量: 0\n",
      "填充前 'z' 列的空值数量: 0\n",
      "正在计算并添加 'magnitude' 列...\n",
      "正在去除连续重复的 'x', 'y', 'z' 行...\n",
      "因 x, y, z 值与上一行连续相同，去除了 3845209 行重复数据。\n",
      "正在处理 'annotation' 列...\n",
      "将因'annotation'列为空或无法提取MET值而丢弃的行数: 2725736\n",
      "已丢弃 2725736 行 'annotation' (MET) 为空或无效的数据。\n",
      "最终格式化 'time' 列为 HH:MM:SS.ffffff ...\n",
      "当前剩余有效数据行数: 3149056\n",
      "最终数据列: ['time', 'x', 'y', 'z', 'magnitude', 'annotation']\n",
      "正在将处理后的数据保存到: ./../TrainingSet/P087.csv\n",
      "--- 文件 P087.csv 预处理完成。 ---\n",
      "----------------------------------------\n",
      "\n",
      ">>> 开始处理文件: P088.csv <<<\n",
      "\n",
      "--- 开始预处理文件: /Users/annfengdeye/Desktop/4.19/B题-全部数据/附件1/P088.csv ---\n"
     ]
    },
    {
     "name": "stderr",
     "output_type": "stream",
     "text": [
      "/var/folders/n7/h8vtfbcn3cn8b86gk1fgql700000gn/T/ipykernel_11276/62236121.py:33: DtypeWarning: Columns (4) have mixed types. Specify dtype option on import or set low_memory=False.\n",
      "  df = pd.read_csv(input_csv_path, dtype={'time': str})\n"
     ]
    },
    {
     "name": "stdout",
     "output_type": "stream",
     "text": [
      "成功从 /Users/annfengdeye/Desktop/4.19/B题-全部数据/附件1/P088.csv 读取 10080001 行数据\n",
      "正在处理 'time' 列 (使用完整日期时间进行计算)...\n",
      "因时间间隔不一致、格式错误或无法填充的间隙，丢弃了 0 行数据。\n",
      "正在处理 'x', 'y', 'z' 列...\n",
      "填充前 'x' 列的空值数量: 0\n",
      "填充前 'y' 列的空值数量: 0\n",
      "填充前 'z' 列的空值数量: 0\n",
      "正在计算并添加 'magnitude' 列...\n",
      "正在去除连续重复的 'x', 'y', 'z' 行...\n",
      "因 x, y, z 值与上一行连续相同，去除了 3717418 行重复数据。\n",
      "正在处理 'annotation' 列...\n",
      "将因'annotation'列为空或无法提取MET值而丢弃的行数: 2574590\n",
      "已丢弃 2574590 行 'annotation' (MET) 为空或无效的数据。\n",
      "最终格式化 'time' 列为 HH:MM:SS.ffffff ...\n",
      "当前剩余有效数据行数: 3787993\n",
      "最终数据列: ['time', 'x', 'y', 'z', 'magnitude', 'annotation']\n",
      "正在将处理后的数据保存到: ./../TrainingSet/P088.csv\n",
      "--- 文件 P088.csv 预处理完成。 ---\n",
      "----------------------------------------\n",
      "\n",
      ">>> 开始处理文件: P089.csv <<<\n",
      "\n",
      "--- 开始预处理文件: /Users/annfengdeye/Desktop/4.19/B题-全部数据/附件1/P089.csv ---\n"
     ]
    },
    {
     "name": "stderr",
     "output_type": "stream",
     "text": [
      "/var/folders/n7/h8vtfbcn3cn8b86gk1fgql700000gn/T/ipykernel_11276/62236121.py:33: DtypeWarning: Columns (4) have mixed types. Specify dtype option on import or set low_memory=False.\n",
      "  df = pd.read_csv(input_csv_path, dtype={'time': str})\n"
     ]
    },
    {
     "name": "stdout",
     "output_type": "stream",
     "text": [
      "成功从 /Users/annfengdeye/Desktop/4.19/B题-全部数据/附件1/P089.csv 读取 9450001 行数据\n",
      "正在处理 'time' 列 (使用完整日期时间进行计算)...\n",
      "因时间间隔不一致、格式错误或无法填充的间隙，丢弃了 0 行数据。\n",
      "正在处理 'x', 'y', 'z' 列...\n",
      "填充前 'x' 列的空值数量: 0\n",
      "填充前 'y' 列的空值数量: 0\n",
      "填充前 'z' 列的空值数量: 0\n",
      "正在计算并添加 'magnitude' 列...\n",
      "正在去除连续重复的 'x', 'y', 'z' 行...\n",
      "因 x, y, z 值与上一行连续相同，去除了 3328469 行重复数据。\n",
      "正在处理 'annotation' 列...\n",
      "将因'annotation'列为空或无法提取MET值而丢弃的行数: 1664692\n",
      "已丢弃 1664692 行 'annotation' (MET) 为空或无效的数据。\n",
      "最终格式化 'time' 列为 HH:MM:SS.ffffff ...\n",
      "当前剩余有效数据行数: 4456840\n",
      "最终数据列: ['time', 'x', 'y', 'z', 'magnitude', 'annotation']\n",
      "正在将处理后的数据保存到: ./../TrainingSet/P089.csv\n",
      "--- 文件 P089.csv 预处理完成。 ---\n",
      "----------------------------------------\n",
      "\n",
      ">>> 开始处理文件: P090.csv <<<\n",
      "\n",
      "--- 开始预处理文件: /Users/annfengdeye/Desktop/4.19/B题-全部数据/附件1/P090.csv ---\n"
     ]
    },
    {
     "name": "stderr",
     "output_type": "stream",
     "text": [
      "/var/folders/n7/h8vtfbcn3cn8b86gk1fgql700000gn/T/ipykernel_11276/62236121.py:33: DtypeWarning: Columns (4) have mixed types. Specify dtype option on import or set low_memory=False.\n",
      "  df = pd.read_csv(input_csv_path, dtype={'time': str})\n"
     ]
    },
    {
     "name": "stdout",
     "output_type": "stream",
     "text": [
      "成功从 /Users/annfengdeye/Desktop/4.19/B题-全部数据/附件1/P090.csv 读取 9540001 行数据\n",
      "正在处理 'time' 列 (使用完整日期时间进行计算)...\n",
      "因时间间隔不一致、格式错误或无法填充的间隙，丢弃了 0 行数据。\n",
      "正在处理 'x', 'y', 'z' 列...\n",
      "填充前 'x' 列的空值数量: 0\n",
      "填充前 'y' 列的空值数量: 0\n",
      "填充前 'z' 列的空值数量: 0\n",
      "正在计算并添加 'magnitude' 列...\n",
      "正在去除连续重复的 'x', 'y', 'z' 行...\n",
      "因 x, y, z 值与上一行连续相同，去除了 3354442 行重复数据。\n",
      "正在处理 'annotation' 列...\n",
      "将因'annotation'列为空或无法提取MET值而丢弃的行数: 989384\n",
      "已丢弃 989384 行 'annotation' (MET) 为空或无效的数据。\n",
      "最终格式化 'time' 列为 HH:MM:SS.ffffff ...\n",
      "当前剩余有效数据行数: 5196175\n",
      "最终数据列: ['time', 'x', 'y', 'z', 'magnitude', 'annotation']\n",
      "正在将处理后的数据保存到: ./../TrainingSet/P090.csv\n",
      "--- 文件 P090.csv 预处理完成。 ---\n",
      "----------------------------------------\n",
      "\n",
      ">>> 开始处理文件: P091.csv <<<\n",
      "\n",
      "--- 开始预处理文件: /Users/annfengdeye/Desktop/4.19/B题-全部数据/附件1/P091.csv ---\n"
     ]
    },
    {
     "name": "stderr",
     "output_type": "stream",
     "text": [
      "/var/folders/n7/h8vtfbcn3cn8b86gk1fgql700000gn/T/ipykernel_11276/62236121.py:33: DtypeWarning: Columns (4) have mixed types. Specify dtype option on import or set low_memory=False.\n",
      "  df = pd.read_csv(input_csv_path, dtype={'time': str})\n"
     ]
    },
    {
     "name": "stdout",
     "output_type": "stream",
     "text": [
      "成功从 /Users/annfengdeye/Desktop/4.19/B题-全部数据/附件1/P091.csv 读取 9048001 行数据\n",
      "正在处理 'time' 列 (使用完整日期时间进行计算)...\n",
      "因时间间隔不一致、格式错误或无法填充的间隙，丢弃了 0 行数据。\n",
      "正在处理 'x', 'y', 'z' 列...\n",
      "填充前 'x' 列的空值数量: 0\n",
      "填充前 'y' 列的空值数量: 0\n",
      "填充前 'z' 列的空值数量: 0\n",
      "正在计算并添加 'magnitude' 列...\n",
      "正在去除连续重复的 'x', 'y', 'z' 行...\n",
      "因 x, y, z 值与上一行连续相同，去除了 2790189 行重复数据。\n",
      "正在处理 'annotation' 列...\n",
      "将因'annotation'列为空或无法提取MET值而丢弃的行数: 2178746\n",
      "已丢弃 2178746 行 'annotation' (MET) 为空或无效的数据。\n",
      "最终格式化 'time' 列为 HH:MM:SS.ffffff ...\n",
      "当前剩余有效数据行数: 4079066\n",
      "最终数据列: ['time', 'x', 'y', 'z', 'magnitude', 'annotation']\n",
      "正在将处理后的数据保存到: ./../TrainingSet/P091.csv\n",
      "--- 文件 P091.csv 预处理完成。 ---\n",
      "----------------------------------------\n",
      "\n",
      ">>> 开始处理文件: P092.csv <<<\n",
      "\n",
      "--- 开始预处理文件: /Users/annfengdeye/Desktop/4.19/B题-全部数据/附件1/P092.csv ---\n"
     ]
    },
    {
     "name": "stderr",
     "output_type": "stream",
     "text": [
      "/var/folders/n7/h8vtfbcn3cn8b86gk1fgql700000gn/T/ipykernel_11276/62236121.py:33: DtypeWarning: Columns (4) have mixed types. Specify dtype option on import or set low_memory=False.\n",
      "  df = pd.read_csv(input_csv_path, dtype={'time': str})\n"
     ]
    },
    {
     "name": "stdout",
     "output_type": "stream",
     "text": [
      "成功从 /Users/annfengdeye/Desktop/4.19/B题-全部数据/附件1/P092.csv 读取 8820001 行数据\n",
      "正在处理 'time' 列 (使用完整日期时间进行计算)...\n",
      "因时间间隔不一致、格式错误或无法填充的间隙，丢弃了 0 行数据。\n",
      "正在处理 'x', 'y', 'z' 列...\n",
      "填充前 'x' 列的空值数量: 0\n",
      "填充前 'y' 列的空值数量: 0\n",
      "填充前 'z' 列的空值数量: 0\n",
      "正在计算并添加 'magnitude' 列...\n",
      "正在去除连续重复的 'x', 'y', 'z' 行...\n",
      "因 x, y, z 值与上一行连续相同，去除了 2542329 行重复数据。\n",
      "正在处理 'annotation' 列...\n",
      "将因'annotation'列为空或无法提取MET值而丢弃的行数: 2124380\n",
      "已丢弃 2124380 行 'annotation' (MET) 为空或无效的数据。\n",
      "最终格式化 'time' 列为 HH:MM:SS.ffffff ...\n",
      "当前剩余有效数据行数: 4153292\n",
      "最终数据列: ['time', 'x', 'y', 'z', 'magnitude', 'annotation']\n",
      "正在将处理后的数据保存到: ./../TrainingSet/P092.csv\n",
      "--- 文件 P092.csv 预处理完成。 ---\n",
      "----------------------------------------\n",
      "\n",
      ">>> 开始处理文件: P093.csv <<<\n",
      "\n",
      "--- 开始预处理文件: /Users/annfengdeye/Desktop/4.19/B题-全部数据/附件1/P093.csv ---\n"
     ]
    },
    {
     "name": "stderr",
     "output_type": "stream",
     "text": [
      "/var/folders/n7/h8vtfbcn3cn8b86gk1fgql700000gn/T/ipykernel_11276/62236121.py:33: DtypeWarning: Columns (4) have mixed types. Specify dtype option on import or set low_memory=False.\n",
      "  df = pd.read_csv(input_csv_path, dtype={'time': str})\n"
     ]
    },
    {
     "name": "stdout",
     "output_type": "stream",
     "text": [
      "成功从 /Users/annfengdeye/Desktop/4.19/B题-全部数据/附件1/P093.csv 读取 9360001 行数据\n",
      "正在处理 'time' 列 (使用完整日期时间进行计算)...\n",
      "因时间间隔不一致、格式错误或无法填充的间隙，丢弃了 0 行数据。\n",
      "正在处理 'x', 'y', 'z' 列...\n",
      "填充前 'x' 列的空值数量: 0\n",
      "填充前 'y' 列的空值数量: 0\n",
      "填充前 'z' 列的空值数量: 0\n",
      "正在计算并添加 'magnitude' 列...\n",
      "正在去除连续重复的 'x', 'y', 'z' 行...\n",
      "因 x, y, z 值与上一行连续相同，去除了 3300755 行重复数据。\n",
      "正在处理 'annotation' 列...\n",
      "将因'annotation'列为空或无法提取MET值而丢弃的行数: 1467032\n",
      "已丢弃 1467032 行 'annotation' (MET) 为空或无效的数据。\n",
      "最终格式化 'time' 列为 HH:MM:SS.ffffff ...\n",
      "当前剩余有效数据行数: 4592214\n",
      "最终数据列: ['time', 'x', 'y', 'z', 'magnitude', 'annotation']\n",
      "正在将处理后的数据保存到: ./../TrainingSet/P093.csv\n",
      "--- 文件 P093.csv 预处理完成。 ---\n",
      "----------------------------------------\n",
      "\n",
      ">>> 开始处理文件: P094.csv <<<\n",
      "\n",
      "--- 开始预处理文件: /Users/annfengdeye/Desktop/4.19/B题-全部数据/附件1/P094.csv ---\n"
     ]
    },
    {
     "name": "stderr",
     "output_type": "stream",
     "text": [
      "/var/folders/n7/h8vtfbcn3cn8b86gk1fgql700000gn/T/ipykernel_11276/62236121.py:33: DtypeWarning: Columns (4) have mixed types. Specify dtype option on import or set low_memory=False.\n",
      "  df = pd.read_csv(input_csv_path, dtype={'time': str})\n"
     ]
    },
    {
     "name": "stdout",
     "output_type": "stream",
     "text": [
      "成功从 /Users/annfengdeye/Desktop/4.19/B题-全部数据/附件1/P094.csv 读取 9060001 行数据\n",
      "正在处理 'time' 列 (使用完整日期时间进行计算)...\n",
      "因时间间隔不一致、格式错误或无法填充的间隙，丢弃了 0 行数据。\n",
      "正在处理 'x', 'y', 'z' 列...\n",
      "填充前 'x' 列的空值数量: 0\n",
      "填充前 'y' 列的空值数量: 0\n",
      "填充前 'z' 列的空值数量: 0\n",
      "正在计算并添加 'magnitude' 列...\n",
      "正在去除连续重复的 'x', 'y', 'z' 行...\n",
      "因 x, y, z 值与上一行连续相同，去除了 2779660 行重复数据。\n",
      "正在处理 'annotation' 列...\n",
      "将因'annotation'列为空或无法提取MET值而丢弃的行数: 1919990\n",
      "已丢弃 1919990 行 'annotation' (MET) 为空或无效的数据。\n",
      "最终格式化 'time' 列为 HH:MM:SS.ffffff ...\n",
      "当前剩余有效数据行数: 4360351\n",
      "最终数据列: ['time', 'x', 'y', 'z', 'magnitude', 'annotation']\n",
      "正在将处理后的数据保存到: ./../TrainingSet/P094.csv\n",
      "--- 文件 P094.csv 预处理完成。 ---\n",
      "----------------------------------------\n",
      "\n",
      ">>> 开始处理文件: P095.csv <<<\n",
      "\n",
      "--- 开始预处理文件: /Users/annfengdeye/Desktop/4.19/B题-全部数据/附件1/P095.csv ---\n"
     ]
    },
    {
     "name": "stderr",
     "output_type": "stream",
     "text": [
      "/var/folders/n7/h8vtfbcn3cn8b86gk1fgql700000gn/T/ipykernel_11276/62236121.py:33: DtypeWarning: Columns (4) have mixed types. Specify dtype option on import or set low_memory=False.\n",
      "  df = pd.read_csv(input_csv_path, dtype={'time': str})\n"
     ]
    },
    {
     "name": "stdout",
     "output_type": "stream",
     "text": [
      "成功从 /Users/annfengdeye/Desktop/4.19/B题-全部数据/附件1/P095.csv 读取 9360001 行数据\n",
      "正在处理 'time' 列 (使用完整日期时间进行计算)...\n",
      "因时间间隔不一致、格式错误或无法填充的间隙，丢弃了 0 行数据。\n",
      "正在处理 'x', 'y', 'z' 列...\n",
      "填充前 'x' 列的空值数量: 0\n",
      "填充前 'y' 列的空值数量: 0\n",
      "填充前 'z' 列的空值数量: 0\n",
      "正在计算并添加 'magnitude' 列...\n",
      "正在去除连续重复的 'x', 'y', 'z' 行...\n",
      "因 x, y, z 值与上一行连续相同，去除了 3014192 行重复数据。\n",
      "正在处理 'annotation' 列...\n",
      "将因'annotation'列为空或无法提取MET值而丢弃的行数: 1166533\n",
      "已丢弃 1166533 行 'annotation' (MET) 为空或无效的数据。\n",
      "最终格式化 'time' 列为 HH:MM:SS.ffffff ...\n",
      "当前剩余有效数据行数: 5179276\n",
      "最终数据列: ['time', 'x', 'y', 'z', 'magnitude', 'annotation']\n",
      "正在将处理后的数据保存到: ./../TrainingSet/P095.csv\n",
      "--- 文件 P095.csv 预处理完成。 ---\n",
      "----------------------------------------\n",
      "\n",
      ">>> 开始处理文件: P096.csv <<<\n",
      "\n",
      "--- 开始预处理文件: /Users/annfengdeye/Desktop/4.19/B题-全部数据/附件1/P096.csv ---\n"
     ]
    },
    {
     "name": "stderr",
     "output_type": "stream",
     "text": [
      "/var/folders/n7/h8vtfbcn3cn8b86gk1fgql700000gn/T/ipykernel_11276/62236121.py:33: DtypeWarning: Columns (4) have mixed types. Specify dtype option on import or set low_memory=False.\n",
      "  df = pd.read_csv(input_csv_path, dtype={'time': str})\n"
     ]
    },
    {
     "name": "stdout",
     "output_type": "stream",
     "text": [
      "成功从 /Users/annfengdeye/Desktop/4.19/B题-全部数据/附件1/P096.csv 读取 9180001 行数据\n",
      "正在处理 'time' 列 (使用完整日期时间进行计算)...\n",
      "因时间间隔不一致、格式错误或无法填充的间隙，丢弃了 0 行数据。\n",
      "正在处理 'x', 'y', 'z' 列...\n",
      "填充前 'x' 列的空值数量: 0\n",
      "填充前 'y' 列的空值数量: 0\n",
      "填充前 'z' 列的空值数量: 0\n",
      "正在计算并添加 'magnitude' 列...\n",
      "正在去除连续重复的 'x', 'y', 'z' 行...\n",
      "因 x, y, z 值与上一行连续相同，去除了 3134122 行重复数据。\n",
      "正在处理 'annotation' 列...\n",
      "将因'annotation'列为空或无法提取MET值而丢弃的行数: 2009157\n",
      "已丢弃 2009157 行 'annotation' (MET) 为空或无效的数据。\n",
      "最终格式化 'time' 列为 HH:MM:SS.ffffff ...\n",
      "当前剩余有效数据行数: 4036722\n",
      "最终数据列: ['time', 'x', 'y', 'z', 'magnitude', 'annotation']\n",
      "正在将处理后的数据保存到: ./../TrainingSet/P096.csv\n",
      "--- 文件 P096.csv 预处理完成。 ---\n",
      "----------------------------------------\n",
      "\n",
      ">>> 开始处理文件: P097.csv <<<\n",
      "\n",
      "--- 开始预处理文件: /Users/annfengdeye/Desktop/4.19/B题-全部数据/附件1/P097.csv ---\n"
     ]
    },
    {
     "name": "stderr",
     "output_type": "stream",
     "text": [
      "/var/folders/n7/h8vtfbcn3cn8b86gk1fgql700000gn/T/ipykernel_11276/62236121.py:33: DtypeWarning: Columns (4) have mixed types. Specify dtype option on import or set low_memory=False.\n",
      "  df = pd.read_csv(input_csv_path, dtype={'time': str})\n"
     ]
    },
    {
     "name": "stdout",
     "output_type": "stream",
     "text": [
      "成功从 /Users/annfengdeye/Desktop/4.19/B题-全部数据/附件1/P097.csv 读取 9900001 行数据\n",
      "正在处理 'time' 列 (使用完整日期时间进行计算)...\n",
      "因时间间隔不一致、格式错误或无法填充的间隙，丢弃了 0 行数据。\n",
      "正在处理 'x', 'y', 'z' 列...\n",
      "填充前 'x' 列的空值数量: 0\n",
      "填充前 'y' 列的空值数量: 0\n",
      "填充前 'z' 列的空值数量: 0\n",
      "正在计算并添加 'magnitude' 列...\n",
      "正在去除连续重复的 'x', 'y', 'z' 行...\n",
      "因 x, y, z 值与上一行连续相同，去除了 3658912 行重复数据。\n",
      "正在处理 'annotation' 列...\n",
      "将因'annotation'列为空或无法提取MET值而丢弃的行数: 1429064\n",
      "已丢弃 1429064 行 'annotation' (MET) 为空或无效的数据。\n",
      "最终格式化 'time' 列为 HH:MM:SS.ffffff ...\n",
      "当前剩余有效数据行数: 4812025\n",
      "最终数据列: ['time', 'x', 'y', 'z', 'magnitude', 'annotation']\n",
      "正在将处理后的数据保存到: ./../TrainingSet/P097.csv\n",
      "--- 文件 P097.csv 预处理完成。 ---\n",
      "----------------------------------------\n",
      "\n",
      ">>> 开始处理文件: P098.csv <<<\n",
      "\n",
      "--- 开始预处理文件: /Users/annfengdeye/Desktop/4.19/B题-全部数据/附件1/P098.csv ---\n"
     ]
    },
    {
     "name": "stderr",
     "output_type": "stream",
     "text": [
      "/var/folders/n7/h8vtfbcn3cn8b86gk1fgql700000gn/T/ipykernel_11276/62236121.py:33: DtypeWarning: Columns (4) have mixed types. Specify dtype option on import or set low_memory=False.\n",
      "  df = pd.read_csv(input_csv_path, dtype={'time': str})\n"
     ]
    },
    {
     "name": "stdout",
     "output_type": "stream",
     "text": [
      "成功从 /Users/annfengdeye/Desktop/4.19/B题-全部数据/附件1/P098.csv 读取 8820001 行数据\n",
      "正在处理 'time' 列 (使用完整日期时间进行计算)...\n",
      "因时间间隔不一致、格式错误或无法填充的间隙，丢弃了 0 行数据。\n",
      "正在处理 'x', 'y', 'z' 列...\n",
      "填充前 'x' 列的空值数量: 0\n",
      "填充前 'y' 列的空值数量: 0\n",
      "填充前 'z' 列的空值数量: 0\n",
      "正在计算并添加 'magnitude' 列...\n",
      "正在去除连续重复的 'x', 'y', 'z' 行...\n",
      "因 x, y, z 值与上一行连续相同，去除了 2548202 行重复数据。\n",
      "正在处理 'annotation' 列...\n",
      "将因'annotation'列为空或无法提取MET值而丢弃的行数: 2680456\n",
      "已丢弃 2680456 行 'annotation' (MET) 为空或无效的数据。\n",
      "最终格式化 'time' 列为 HH:MM:SS.ffffff ...\n",
      "当前剩余有效数据行数: 3591343\n",
      "最终数据列: ['time', 'x', 'y', 'z', 'magnitude', 'annotation']\n",
      "正在将处理后的数据保存到: ./../TrainingSet/P098.csv\n",
      "--- 文件 P098.csv 预处理完成。 ---\n",
      "----------------------------------------\n",
      "\n",
      ">>> 开始处理文件: P099.csv <<<\n",
      "\n",
      "--- 开始预处理文件: /Users/annfengdeye/Desktop/4.19/B题-全部数据/附件1/P099.csv ---\n"
     ]
    },
    {
     "name": "stderr",
     "output_type": "stream",
     "text": [
      "/var/folders/n7/h8vtfbcn3cn8b86gk1fgql700000gn/T/ipykernel_11276/62236121.py:33: DtypeWarning: Columns (4) have mixed types. Specify dtype option on import or set low_memory=False.\n",
      "  df = pd.read_csv(input_csv_path, dtype={'time': str})\n"
     ]
    },
    {
     "name": "stdout",
     "output_type": "stream",
     "text": [
      "成功从 /Users/annfengdeye/Desktop/4.19/B题-全部数据/附件1/P099.csv 读取 9720001 行数据\n",
      "正在处理 'time' 列 (使用完整日期时间进行计算)...\n",
      "因时间间隔不一致、格式错误或无法填充的间隙，丢弃了 0 行数据。\n",
      "正在处理 'x', 'y', 'z' 列...\n",
      "填充前 'x' 列的空值数量: 0\n",
      "填充前 'y' 列的空值数量: 0\n",
      "填充前 'z' 列的空值数量: 0\n",
      "正在计算并添加 'magnitude' 列...\n",
      "正在去除连续重复的 'x', 'y', 'z' 行...\n",
      "因 x, y, z 值与上一行连续相同，去除了 3005148 行重复数据。\n",
      "正在处理 'annotation' 列...\n",
      "将因'annotation'列为空或无法提取MET值而丢弃的行数: 3104888\n",
      "已丢弃 3104888 行 'annotation' (MET) 为空或无效的数据。\n",
      "最终格式化 'time' 列为 HH:MM:SS.ffffff ...\n",
      "当前剩余有效数据行数: 3609965\n",
      "最终数据列: ['time', 'x', 'y', 'z', 'magnitude', 'annotation']\n",
      "正在将处理后的数据保存到: ./../TrainingSet/P099.csv\n",
      "--- 文件 P099.csv 预处理完成。 ---\n",
      "----------------------------------------\n",
      "\n",
      ">>> 开始处理文件: P100.csv <<<\n",
      "\n",
      "--- 开始预处理文件: /Users/annfengdeye/Desktop/4.19/B题-全部数据/附件1/P100.csv ---\n"
     ]
    },
    {
     "name": "stderr",
     "output_type": "stream",
     "text": [
      "/var/folders/n7/h8vtfbcn3cn8b86gk1fgql700000gn/T/ipykernel_11276/62236121.py:33: DtypeWarning: Columns (4) have mixed types. Specify dtype option on import or set low_memory=False.\n",
      "  df = pd.read_csv(input_csv_path, dtype={'time': str})\n"
     ]
    },
    {
     "name": "stdout",
     "output_type": "stream",
     "text": [
      "成功从 /Users/annfengdeye/Desktop/4.19/B题-全部数据/附件1/P100.csv 读取 9510001 行数据\n",
      "正在处理 'time' 列 (使用完整日期时间进行计算)...\n",
      "因时间间隔不一致、格式错误或无法填充的间隙，丢弃了 0 行数据。\n",
      "正在处理 'x', 'y', 'z' 列...\n",
      "填充前 'x' 列的空值数量: 0\n",
      "填充前 'y' 列的空值数量: 0\n",
      "填充前 'z' 列的空值数量: 0\n",
      "正在计算并添加 'magnitude' 列...\n",
      "正在去除连续重复的 'x', 'y', 'z' 行...\n",
      "因 x, y, z 值与上一行连续相同，去除了 3081182 行重复数据。\n",
      "正在处理 'annotation' 列...\n",
      "将因'annotation'列为空或无法提取MET值而丢弃的行数: 2315793\n",
      "已丢弃 2315793 行 'annotation' (MET) 为空或无效的数据。\n",
      "最终格式化 'time' 列为 HH:MM:SS.ffffff ...\n",
      "当前剩余有效数据行数: 4113026\n",
      "最终数据列: ['time', 'x', 'y', 'z', 'magnitude', 'annotation']\n",
      "正在将处理后的数据保存到: ./../TrainingSet/P100.csv\n",
      "--- 文件 P100.csv 预处理完成。 ---\n",
      "----------------------------------------\n",
      "\n",
      "==================== 处理总结 ====================\n",
      "总共尝试处理文件数量: 100\n",
      "成功处理文件数量: 100\n",
      "处理失败或跳过文件数量: 0\n",
      "处理后的文件已保存至目录: /Users/annfengdeye/Desktop/4.19/B题-全部数据/TrainingSet\n",
      "==================================================\n"
     ]
    }
   ],
   "source": [
    "import pandas as pd\n",
    "import numpy as np\n",
    "import os\n",
    "import re\n",
    "from datetime import timedelta\n",
    "import glob # 引入glob模块来查找文件\n",
    "\n",
    "def preprocess_sensor_data(input_csv_path, output_dir):\n",
    "    \"\"\"\n",
    "    根据指定规则预处理单个传感器数据CSV文件。\n",
    "    修改：\n",
    "    1. MET为空的行将被丢弃。\n",
    "    2. 去除连续的 x, y, z 完全重复的行（保留首行）。\n",
    "    3. 添加 magnitude 列 (sqrt(x^2+y^2+z^2) - 1)。\n",
    "    4. 时间列在输出时只保留 HH:MM:SS.ffffff 部分。\n",
    "\n",
    "    Args:\n",
    "        input_csv_path (str): 输入CSV文件的路径。\n",
    "        output_dir (str): 保存处理后CSV文件的目录。\n",
    "\n",
    "    Returns:\n",
    "        bool: 如果处理成功则返回 True，否则返回 False。\n",
    "    \"\"\"\n",
    "    # --- 1. 设置: 定义路径 ---\n",
    "    base_filename = os.path.basename(input_csv_path)\n",
    "    output_csv_path = os.path.join(output_dir, base_filename)\n",
    "\n",
    "    print(f\"--- 开始预处理文件: {input_csv_path} ---\")\n",
    "\n",
    "    # --- 2. 读取CSV数据 ---\n",
    "    try:\n",
    "        df = pd.read_csv(input_csv_path, dtype={'time': str})\n",
    "        print(f\"成功从 {input_csv_path} 读取 {len(df)} 行数据\")\n",
    "    except FileNotFoundError:\n",
    "        print(f\"错误：输入文件未找到于 {input_csv_path}\")\n",
    "        return False\n",
    "    except Exception as e:\n",
    "        print(f\"读取CSV文件 {input_csv_path} 时出错: {e}\")\n",
    "        return False\n",
    "\n",
    "    # --- 3. 预处理 'time' 列 (Keep as datetime for processing) ---\n",
    "    print(\"正在处理 'time' 列 (使用完整日期时间进行计算)...\")\n",
    "    # Convert to datetime objects for calculations\n",
    "    df['time'] = pd.to_datetime(df['time'], format='%Y-%m-%d %H:%M:%S.%f', errors='coerce')\n",
    "\n",
    "    # Handle potential NaT values from conversion errors before sorting\n",
    "    initial_nat_count = df['time'].isnull().sum()\n",
    "    if initial_nat_count > 0:\n",
    "        print(f\"警告：转换时发现 {initial_nat_count} 个无效的时间格式，将尝试填充或丢弃。\")\n",
    "        # Option 1: Drop rows with NaT right away if they can't be handled\n",
    "        # df.dropna(subset=['time'], inplace=True)\n",
    "        # Option 2: Try to fill later (as the original code does)\n",
    "\n",
    "    # Sort by the full datetime\n",
    "    df = df.sort_values(by='time').reset_index(drop=True)\n",
    "\n",
    "    # --- Attempt to fill NaT gaps based on 10ms interval ---\n",
    "    expected_time = df['time'].shift(1) + timedelta(milliseconds=10)\n",
    "    # Mask for original NaT values *after* sorting\n",
    "    original_nat_mask = df['time'].isna()\n",
    "    # Try filling only the original NaT positions\n",
    "    df.loc[original_nat_mask, 'time'] = expected_time[original_nat_mask]\n",
    "\n",
    "    # --- Check for 10ms intervals and remaining NaNs ---\n",
    "    time_diff = df['time'].diff()\n",
    "    expected_diff = timedelta(milliseconds=10)\n",
    "    # Rows to keep: the first row OR rows with the expected 10ms difference\n",
    "    rows_to_keep_mask = (df.index == 0) | (time_diff == expected_diff)\n",
    "    # Crucially, also ensure the time is not NaT after the potential filling attempt\n",
    "    rows_to_keep_mask = rows_to_keep_mask & df['time'].notna()\n",
    "\n",
    "    original_row_count_before_time = len(df)\n",
    "    df = df[rows_to_keep_mask].reset_index(drop=True)\n",
    "    rows_dropped_time = original_row_count_before_time - len(df)\n",
    "    print(f\"因时间间隔不一致、格式错误或无法填充的间隙，丢弃了 {rows_dropped_time} 行数据。\")\n",
    "\n",
    "    if df.empty:\n",
    "        print(\"错误：时间处理后没有剩余有效数据。跳过此文件。\")\n",
    "        return False\n",
    "\n",
    "    # --- 4. 预处理 'x', 'y', 'z' 列 ---\n",
    "    print(\"正在处理 'x', 'y', 'z' 列...\")\n",
    "    for col in ['x', 'y', 'z']:\n",
    "        df[col] = pd.to_numeric(df[col], errors='coerce')\n",
    "\n",
    "    nan_counts_xyz = df[['x', 'y', 'z']].isnull().sum()\n",
    "    print(f\"填充前 'x' 列的空值数量: {nan_counts_xyz['x']}\")\n",
    "    print(f\"填充前 'y' 列的空值数量: {nan_counts_xyz['y']}\")\n",
    "    print(f\"填充前 'z' 列的空值数量: {nan_counts_xyz['z']}\")\n",
    "\n",
    "    df[['x', 'y', 'z']] = df[['x', 'y', 'z']].interpolate(method='linear', limit_direction='both')\n",
    "\n",
    "    if df[['x', 'y', 'z']].isnull().any().any():\n",
    "        print(\"警告：插值后 x, y, 或 z 列仍存在 NaN。这些行可能无法计算幅值或影响去重。正在丢弃这些行。\")\n",
    "        df.dropna(subset=['x', 'y', 'z'], inplace=True) # Drop rows if interpolation failed\n",
    "\n",
    "    if df.empty:\n",
    "        print(\"错误：插值或丢弃NaN后没有剩余有效数据。跳过此文件。\")\n",
    "        return False\n",
    "\n",
    "    # --- 5. 添加 'magnitude' 列 ---\n",
    "    print(\"正在计算并添加 'magnitude' 列...\")\n",
    "    # Ensure calculation happens *after* NaNs in x, y, z are handled\n",
    "    df['magnitude'] = np.sqrt(df['x']**2 + df['y']**2 + df['z']**2)\n",
    "    mag_nan_count = df['magnitude'].isnull().sum()\n",
    "    if mag_nan_count > 0:\n",
    "       # This should ideally not happen if NaNs in x,y,z were dropped\n",
    "       print(f\"警告：有 {mag_nan_count} 行未能成功计算 'magnitude'。检查 x,y,z 处理。\")\n",
    "\n",
    "\n",
    "    # --- 6. 去除连续重复的 x, y, z 行 ---\n",
    "    print(\"正在去除连续重复的 'x', 'y', 'z' 行...\")\n",
    "    # Ensure comparison happens on cleaned numeric data\n",
    "    is_duplicate_xyz = (df['x'] == df['x'].shift()) & \\\n",
    "                       (df['y'] == df['y'].shift()) & \\\n",
    "                       (df['z'] == df['z'].shift())\n",
    "\n",
    "    rows_before_dedup = len(df)\n",
    "    df = df[~is_duplicate_xyz].reset_index(drop=True)\n",
    "    rows_after_dedup = len(df)\n",
    "    rows_dropped_dedup = rows_before_dedup - rows_after_dedup\n",
    "    print(f\"因 x, y, z 值与上一行连续相同，去除了 {rows_dropped_dedup} 行重复数据。\")\n",
    "\n",
    "    # --- 7. 预处理 'annotation' 列 (提取并丢弃空值行) ---\n",
    "    print(\"正在处理 'annotation' 列...\")\n",
    "    if df.empty:\n",
    "        print(\"错误：去重后没有剩余有效数据。跳过此文件。\")\n",
    "        return False\n",
    "\n",
    "    # Ensure 'annotation' column exists before processing\n",
    "    if 'annotation' not in df.columns:\n",
    "        print(\"错误：CSV 文件中缺少 'annotation' 列。跳过此文件。\")\n",
    "        return False\n",
    "\n",
    "    annotation_series = df['annotation'].astype(str)\n",
    "    # Use regex to extract MET value\n",
    "    met_values = annotation_series.str.extract(r'MET\\s+(\\d+\\.?\\d*)', expand=False)\n",
    "    # Convert extracted values to numeric, forcing errors to NaN\n",
    "    df['annotation'] = pd.to_numeric(met_values, errors='coerce')\n",
    "\n",
    "    nan_met_count = df['annotation'].isnull().sum()\n",
    "    print(f\"将因'annotation'列为空或无法提取MET值而丢弃的行数: {nan_met_count}\")\n",
    "\n",
    "    original_row_count_before_met_drop = len(df)\n",
    "    # Drop rows where 'annotation' is NaN (either originally empty or failed extraction/conversion)\n",
    "    df.dropna(subset=['annotation'], inplace=True)\n",
    "    rows_dropped_met = original_row_count_before_met_drop - len(df)\n",
    "\n",
    "    # Recalculate nan_met_count based on the state *before* dropping for accurate comparison\n",
    "    # This comparison might be less critical now, focus on the outcome.\n",
    "    print(f\"已丢弃 {rows_dropped_met} 行 'annotation' (MET) 为空或无效的数据。\")\n",
    "\n",
    "\n",
    "    if df.empty:\n",
    "        print(\"错误：丢弃空/无效MET值后没有剩余有效数据。跳过此文件。\")\n",
    "        return False\n",
    "\n",
    "    # --- 8. 格式化 'time' 列并保存 ---\n",
    "    print(\"最终格式化 'time' 列为 HH:MM:SS.ffffff ...\")\n",
    "    # **** Modification: Format the 'time' column to string H:M:S.f before saving ****\n",
    "    try:\n",
    "        df['time'] = df['time'].dt.strftime('%H:%M:%S.%f')\n",
    "    except AttributeError:\n",
    "        print(\"错误：无法格式化'time'列。可能它不是预期的datetime类型。\")\n",
    "        return False # Or handle appropriately\n",
    "\n",
    "    # --- Reorder columns if needed ---\n",
    "    cols = df.columns.tolist()\n",
    "    # Example desired order: time, x, y, z, magnitude, annotation\n",
    "    desired_order = ['time', 'x', 'y', 'z', 'magnitude', 'annotation']\n",
    "    # Filter to keep only existing columns in the desired order\n",
    "    final_cols = [col for col in desired_order if col in df.columns]\n",
    "    # Add any other columns not in the desired list (though unlikely with this script)\n",
    "    final_cols.extend([col for col in df.columns if col not in final_cols])\n",
    "    df = df[final_cols] # Apply the final column order\n",
    "\n",
    "\n",
    "    print(f\"当前剩余有效数据行数: {len(df)}\")\n",
    "    print(f\"最终数据列: {df.columns.tolist()}\")\n",
    "    print(f\"正在将处理后的数据保存到: {output_csv_path}\")\n",
    "    try:\n",
    "        # Save without date_format since 'time' is now a string\n",
    "        df.to_csv(output_csv_path, index=False)\n",
    "        print(f\"--- 文件 {base_filename} 预处理完成。 ---\")\n",
    "        return True\n",
    "    except Exception as e:\n",
    "        print(f\"保存处理后的文件到 {output_csv_path} 时出错: {e}\")\n",
    "        return False\n",
    "\n",
    "# --- 主执行逻辑 ---\n",
    "if __name__ == \"__main__\":\n",
    "    # 定义输入目录（当前目录）和输出目录\n",
    "    input_directory = '.' # 当前脚本所在的目录\n",
    "    # Make sure the output directory is correct relative to where the script is RUN\n",
    "    script_dir = os.path.dirname(__file__) if '__file__' in locals() else '.'\n",
    "    output_directory = os.path.join(script_dir, '../TrainingSet') # 输出目录\n",
    "\n",
    "    # --- 确保输出目录存在 ---\n",
    "    try:\n",
    "        os.makedirs(output_directory, exist_ok=True)\n",
    "        print(f\"确保输出目录 '{os.path.abspath(output_directory)}' 存在或已创建。\")\n",
    "    except OSError as e:\n",
    "        print(f\"创建输出目录 '{output_directory}' 时出错: {e}。脚本将退出。\")\n",
    "        exit() # 如果无法创建输出目录，则退出\n",
    "\n",
    "    # --- 查找所有符合模式 'P###.csv' 的文件 ---\n",
    "    # Use input_directory which is '.' unless changed\n",
    "    file_pattern = os.path.join(input_directory, 'P[0-9][0-9][0-9].csv')\n",
    "    # Use absolute path for glob if input_directory is relative for clarity\n",
    "    abs_input_dir = os.path.abspath(input_directory)\n",
    "    csv_files_to_process = glob.glob(os.path.join(abs_input_dir, 'P[0-9][0-9][0-9].csv'))\n",
    "\n",
    "\n",
    "    # --- 对文件列表进行排序 ---\n",
    "    # Sort based on the filename found by glob\n",
    "    csv_files_to_process.sort()\n",
    "\n",
    "    if not csv_files_to_process:\n",
    "        print(f\"在目录 '{abs_input_dir}' 中未找到符合 'P###.csv' 模式的文件。\")\n",
    "    else:\n",
    "        print(f\"在目录 '{abs_input_dir}' 中找到 {len(csv_files_to_process)} 个待处理的文件 (已排序):\")\n",
    "        # Print just the base filename for brevity\n",
    "        for f_path in csv_files_to_process:\n",
    "            print(f\"  - {os.path.basename(f_path)}\")\n",
    "        print(\"-\" * 40) # 分隔符\n",
    "\n",
    "        success_count = 0\n",
    "        failure_count = 0\n",
    "\n",
    "        # --- 循环处理每个找到的文件 (现在是按顺序) ---\n",
    "        for input_file_path in csv_files_to_process:\n",
    "            print(f\"\\n>>> 开始处理文件: {os.path.basename(input_file_path)} <<<\\n\")\n",
    "            try:\n",
    "                # Pass the absolute path of the input file\n",
    "                success = preprocess_sensor_data(input_file_path, output_directory)\n",
    "                if success:\n",
    "                    success_count += 1\n",
    "                else:\n",
    "                    failure_count += 1\n",
    "            except Exception as e:\n",
    "                print(f\"!!! 处理文件 {os.path.basename(input_file_path)} 时发生严重意外错误: {e} !!!\")\n",
    "                # Optionally print traceback for debugging:\n",
    "                # import traceback\n",
    "                # traceback.print_exc()\n",
    "                failure_count += 1\n",
    "            print(\"-\" * 40) # 每个文件处理后的分隔符\n",
    "\n",
    "        # --- 打印总结信息 ---\n",
    "        print(\"\\n==================== 处理总结 ====================\")\n",
    "        print(f\"总共尝试处理文件数量: {len(csv_files_to_process)}\")\n",
    "        print(f\"成功处理文件数量: {success_count}\")\n",
    "        print(f\"处理失败或跳过文件数量: {failure_count}\")\n",
    "        print(f\"处理后的文件已保存至目录: {os.path.abspath(output_directory)}\")\n",
    "        print(\"==================================================\")"
   ]
  },
  {
   "cell_type": "code",
   "execution_count": null,
   "id": "ad6964bd-e25d-4db5-a861-5599deb04fcd",
   "metadata": {},
   "outputs": [],
   "source": []
  }
 ],
 "metadata": {
  "kernelspec": {
   "display_name": "Python 3 (ipykernel)",
   "language": "python",
   "name": "python3"
  },
  "language_info": {
   "codemirror_mode": {
    "name": "ipython",
    "version": 3
   },
   "file_extension": ".py",
   "mimetype": "text/x-python",
   "name": "python",
   "nbconvert_exporter": "python",
   "pygments_lexer": "ipython3",
   "version": "3.12.7"
  }
 },
 "nbformat": 4,
 "nbformat_minor": 5
}
